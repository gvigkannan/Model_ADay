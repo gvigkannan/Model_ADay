{
  "nbformat": 4,
  "nbformat_minor": 0,
  "metadata": {
    "colab": {
      "name": "Basic_CNN_CIFAR10.ipynb",
      "provenance": [],
      "authorship_tag": "ABX9TyPsGLrby/9tpLhuOgvb2Kej",
      "include_colab_link": true
    },
    "kernelspec": {
      "name": "python3",
      "display_name": "Python 3"
    }
  },
  "cells": [
    {
      "cell_type": "markdown",
      "metadata": {
        "id": "view-in-github",
        "colab_type": "text"
      },
      "source": [
        "<a href=\"https://colab.research.google.com/github/gvigkannan/Model_ADay/blob/Keras/Basic_CNN_CIFAR10.ipynb\" target=\"_parent\"><img src=\"https://colab.research.google.com/assets/colab-badge.svg\" alt=\"Open In Colab\"/></a>"
      ]
    },
    {
      "cell_type": "code",
      "metadata": {
        "id": "oFPl0ZTWl6wS"
      },
      "source": [
        "import tensorflow as tf\n",
        "import tensorflow.keras as keras\n",
        "import numpy as np\n",
        "import pandas as pd\n",
        "from sklearn.model_selection import train_test_split"
      ],
      "execution_count": null,
      "outputs": []
    },
    {
      "cell_type": "markdown",
      "metadata": {
        "id": "qus-_LnV8iVU"
      },
      "source": [
        "## Importing and Processing Dataset!\n",
        " * Need to try out Data Augmentation and see the result!"
      ]
    },
    {
      "cell_type": "code",
      "metadata": {
        "id": "14rzFrdQ8hlg"
      },
      "source": [
        " (x_train, y_train), (x_test, y_test) = keras.datasets.cifar10.load_data()\n",
        " # For Feature Space\n",
        " x_train = x_train.astype('float32')/255\n",
        " x_test = x_test.astype('float32')/255\n",
        "\n",
        " # For Target Space\n",
        " y_train = keras.utils.to_categorical(y_train, num_classes = 10)\n",
        " y_test = keras.utils.to_categorical(y_test, num_classes = 10)"
      ],
      "execution_count": null,
      "outputs": []
    },
    {
      "cell_type": "code",
      "metadata": {
        "colab": {
          "base_uri": "https://localhost:8080/"
        },
        "id": "gkRgvnb-DnyT",
        "outputId": "cd475377-17a0-429b-eb2f-534948a8e0fd"
      },
      "source": [
        "x_train[0].shape"
      ],
      "execution_count": null,
      "outputs": [
        {
          "output_type": "execute_result",
          "data": {
            "text/plain": [
              "(32, 32, 3)"
            ]
          },
          "metadata": {
            "tags": []
          },
          "execution_count": 6
        }
      ]
    },
    {
      "cell_type": "code",
      "metadata": {
        "id": "7eXBlHvfENRR"
      },
      "source": [
        "#train_test_split?"
      ],
      "execution_count": null,
      "outputs": []
    },
    {
      "cell_type": "code",
      "metadata": {
        "id": "awl_Xk5-Dy4a"
      },
      "source": [
        "# Creating a validation dataset\n",
        "x_train, x_val, y_train, y_val = train_test_split(x_train,\n",
        "                                                  y_train,\n",
        "                                                  test_size = 0.1)"
      ],
      "execution_count": null,
      "outputs": []
    },
    {
      "cell_type": "code",
      "metadata": {
        "colab": {
          "base_uri": "https://localhost:8080/"
        },
        "id": "y2GrIs8gnMF6",
        "outputId": "719743f1-1a92-45fe-d45e-ebbe8f00ea29"
      },
      "source": [
        "print(y_train.shape)\n",
        "print(y_val.shape)"
      ],
      "execution_count": null,
      "outputs": [
        {
          "output_type": "stream",
          "text": [
            "(45000, 10)\n",
            "(5000, 10)\n"
          ],
          "name": "stdout"
        }
      ]
    },
    {
      "cell_type": "markdown",
      "metadata": {
        "id": "ysfZsx8TETTR"
      },
      "source": [
        "## CNN Baseline Model\n",
        "* Implemented using Functional API. (Not needed but more similar to other implementations!)"
      ]
    },
    {
      "cell_type": "code",
      "metadata": {
        "id": "5vy9KcDGEdqI"
      },
      "source": [
        "from tensorflow.keras import layers"
      ],
      "execution_count": null,
      "outputs": []
    },
    {
      "cell_type": "code",
      "metadata": {
        "id": "SZFaLKAx9v-P"
      },
      "source": [
        "def CNN_v1(classes=10):\n",
        "    CNN_input = keras.Input(shape =(32,32,3), \n",
        "                            name = 'CNN_Input')\n",
        "    \n",
        "    x = layers.Conv2D(filters = 32,\n",
        "                      kernel_size = (3,3),\n",
        "                      strides = 1, \n",
        "                      padding = 'same', \n",
        "                      name = 'Conv2d_32')(CNN_input)\n",
        "    x = keras.activations.elu(x,\n",
        "                              name = 'ELU_32')\n",
        "    x = keras.layers.Conv2D(filters = 64,\n",
        "                            kernel_size = (3,3),\n",
        "                            name = 'Conv2d_64')(x)\n",
        "    x = keras.layers.Activation('elu',name = 'ELU_64')(x)\n",
        "    x = keras.layers.MaxPool2D(pool_size= (2,2),\n",
        "                               name = 'MaxPool_1')(x)\n",
        "    x = keras.layers.Dropout(0.25,name = 'Dropout_Conv2D')(x)\n",
        "\n",
        "    x = keras.layers.Flatten(name = 'Flatten')(x)\n",
        "    x = keras.layers.Dense(64,name = 'Dense_128')(x)\n",
        "    x = keras.layers.Activation('elu',\n",
        "                                name = 'ELU_128')(x)\n",
        "    x = keras.layers.Dropout(0.5,\n",
        "                             name = 'Dropout_Dense')(x)\n",
        "    x = keras.layers.Dense(classes,\n",
        "                           name = 'Dense_10')(x)\n",
        "    CNN_output = keras.layers.Activation('softmax',\n",
        "                                         name = 'Softmax_10')(x)\n",
        "    model = keras.Model(inputs = CNN_input, \n",
        "                        outputs = CNN_output)\n",
        "\n",
        "    return model\n"
      ],
      "execution_count": null,
      "outputs": []
    },
    {
      "cell_type": "code",
      "metadata": {
        "colab": {
          "base_uri": "https://localhost:8080/"
        },
        "id": "6tsE6uq3X6og",
        "outputId": "df9ee93b-4b26-435d-868a-aeabbe94fc64"
      },
      "source": [
        "model_v1 = CNN_Baseline()\n",
        "model_v1.compile(loss = 'categorical_crossentropy',\n",
        "                 optimizer = keras.optimizers.RMSprop(lr = 0.001, decay = 1e-6),\n",
        "                 metrics = ['accuracy'])\n",
        "model_v1.summary()"
      ],
      "execution_count": null,
      "outputs": [
        {
          "output_type": "stream",
          "text": [
            "Model: \"model_4\"\n",
            "_________________________________________________________________\n",
            "Layer (type)                 Output Shape              Param #   \n",
            "=================================================================\n",
            "CNN_Input (InputLayer)       [(None, 32, 32, 3)]       0         \n",
            "_________________________________________________________________\n",
            "Conv2d_32 (Conv2D)           (None, 32, 32, 32)        896       \n",
            "_________________________________________________________________\n",
            "tf.keras.activations.elu_4 ( (None, 32, 32, 32)        0         \n",
            "_________________________________________________________________\n",
            "Conv2d_32_1 (Conv2D)         (None, 30, 30, 64)        18496     \n",
            "_________________________________________________________________\n",
            "ELU_32_1 (Activation)        (None, 30, 30, 64)        0         \n",
            "_________________________________________________________________\n",
            "MaxPool_1 (MaxPooling2D)     (None, 15, 15, 64)        0         \n",
            "_________________________________________________________________\n",
            "Dropout_Conv2D (Dropout)     (None, 15, 15, 64)        0         \n",
            "_________________________________________________________________\n",
            "Flatten (Flatten)            (None, 14400)             0         \n",
            "_________________________________________________________________\n",
            "Dense_128 (Dense)            (None, 64)                921664    \n",
            "_________________________________________________________________\n",
            "ELU_128 (Activation)         (None, 64)                0         \n",
            "_________________________________________________________________\n",
            "Dropout_Dense (Dropout)      (None, 64)                0         \n",
            "_________________________________________________________________\n",
            "Dense_10 (Dense)             (None, 10)                650       \n",
            "_________________________________________________________________\n",
            "Softmax_10 (Activation)      (None, 10)                0         \n",
            "=================================================================\n",
            "Total params: 941,706\n",
            "Trainable params: 941,706\n",
            "Non-trainable params: 0\n",
            "_________________________________________________________________\n"
          ],
          "name": "stdout"
        }
      ]
    },
    {
      "cell_type": "code",
      "metadata": {
        "id": "wOJdKdPdpS52"
      },
      "source": [
        "my_callbacks = [keras.callbacks.ModelCheckpoint(filepath = 'CNN_C32_C32_D128.hdf5',\n",
        "                                                monitor = 'val_loss',\n",
        "                                                mode = 'min',\n",
        "                                                save_best_only = True,\n",
        "                                                save_weights_only = True,\n",
        "                                                verbose = 2),\n",
        "                keras.callbacks.EarlyStopping(monitor = 'val_loss',\n",
        "                                              patience = 7,\n",
        "                                              verbose = 0,\n",
        "                                              restore_best_weights = True)\n",
        "                ]"
      ],
      "execution_count": null,
      "outputs": []
    },
    {
      "cell_type": "code",
      "metadata": {
        "colab": {
          "base_uri": "https://localhost:8080/"
        },
        "id": "zj2EKZU7adUJ",
        "outputId": "a192e843-6a53-4660-f3d6-106ec85cbc6a"
      },
      "source": [
        "# Approx: 2.5 minutes per epoch! for C32, C64 and D128\n",
        "# Approx: 2 min 21s per epoch! for C32, C32 and D64: 161 seconds\n",
        "\n",
        "history = model_v1.fit(x_train, y_train, \n",
        "                       batch_size = 32,\n",
        "                       epochs = 1,\n",
        "                       validation_data = (x_val, y_val),\n",
        "                       )"
      ],
      "execution_count": null,
      "outputs": [
        {
          "output_type": "stream",
          "text": [
            "1407/1407 [==============================] - 161s 114ms/step - loss: 1.5071 - accuracy: 0.4772 - val_loss: 1.2323 - val_accuracy: 0.5686\n"
          ],
          "name": "stdout"
        }
      ]
    },
    {
      "cell_type": "markdown",
      "metadata": {
        "id": "L-knvD6FrVTS"
      },
      "source": [
        "## Variant 2 - 62.1%"
      ]
    },
    {
      "cell_type": "code",
      "metadata": {
        "id": "YalM4BAWp-8u"
      },
      "source": [
        "def CNN_v1_1(classes=10):\n",
        "    CNN_input = keras.Input(shape =(32,32,3), \n",
        "                            name = 'CNN_Input')\n",
        "    \n",
        "    x = layers.Conv2D(filters = 32,\n",
        "                      kernel_size = (3,3),\n",
        "                      strides = 1, \n",
        "                      padding = 'same', \n",
        "                      name = 'Conv2d_32')(CNN_input)\n",
        "    x = keras.layers.Activation('elu',\n",
        "                                name = 'ELU_32')(x)\n",
        "    x = keras.layers.MaxPool2D(pool_size= (2,2),\n",
        "                               name = 'MaxPool_1')(x)\n",
        "    x = keras.layers.Dropout(0.25,name = 'Dropout_Conv2D')(x)\n",
        "\n",
        "    x = keras.layers.Flatten(name = 'Flatten')(x)\n",
        "    x = keras.layers.Dense(64,name = 'Dense_64')(x)\n",
        "    x = keras.layers.Activation('elu',\n",
        "                                name = 'ELU_64')(x)\n",
        "    x = keras.layers.Dropout(0.5,\n",
        "                             name = 'Dropout_Dense')(x)\n",
        "\n",
        "    x = keras.layers.Dense(classes,\n",
        "                           name = 'Dense_10')(x)\n",
        "    CNN_output = keras.layers.Activation('softmax',\n",
        "                                         name = 'Softmax_10')(x)\n",
        "    model = keras.Model(inputs = CNN_input, \n",
        "                        outputs = CNN_output)\n",
        "\n",
        "    return model\n"
      ],
      "execution_count": null,
      "outputs": []
    },
    {
      "cell_type": "code",
      "metadata": {
        "colab": {
          "base_uri": "https://localhost:8080/"
        },
        "id": "Uozz7rWXqQpI",
        "outputId": "65663cf8-02ee-419b-afcb-fab92e1b8d78"
      },
      "source": [
        "model_temp = CNN_v1_1()\n",
        "model_temp.compile(loss = 'categorical_crossentropy',\n",
        "                 optimizer = keras.optimizers.RMSprop(lr = 0.001, decay = 1e-6),\n",
        "                 metrics = ['accuracy'])\n",
        "model_temp.summary()\n",
        "my_callbacks = [keras.callbacks.ModelCheckpoint(filepath = 'CNN_v1_1.hdf5',\n",
        "                                                monitor = 'val_loss',\n",
        "                                                mode = 'min',\n",
        "                                                save_weights_only = True,\n",
        "                                                verbose = 0)]"
      ],
      "execution_count": null,
      "outputs": [
        {
          "output_type": "stream",
          "text": [
            "Model: \"model_12\"\n",
            "_________________________________________________________________\n",
            "Layer (type)                 Output Shape              Param #   \n",
            "=================================================================\n",
            "CNN_Input (InputLayer)       [(None, 32, 32, 3)]       0         \n",
            "_________________________________________________________________\n",
            "Conv2d_32 (Conv2D)           (None, 32, 32, 32)        896       \n",
            "_________________________________________________________________\n",
            "ELU_32 (Activation)          (None, 32, 32, 32)        0         \n",
            "_________________________________________________________________\n",
            "MaxPool_1 (MaxPooling2D)     (None, 16, 16, 32)        0         \n",
            "_________________________________________________________________\n",
            "Dropout_Conv2D (Dropout)     (None, 16, 16, 32)        0         \n",
            "_________________________________________________________________\n",
            "Flatten (Flatten)            (None, 8192)              0         \n",
            "_________________________________________________________________\n",
            "Dense_64 (Dense)             (None, 64)                524352    \n",
            "_________________________________________________________________\n",
            "ELU_64 (Activation)          (None, 64)                0         \n",
            "_________________________________________________________________\n",
            "Dropout_Dense (Dropout)      (None, 64)                0         \n",
            "_________________________________________________________________\n",
            "Dense_10 (Dense)             (None, 10)                650       \n",
            "_________________________________________________________________\n",
            "Softmax_10 (Activation)      (None, 10)                0         \n",
            "=================================================================\n",
            "Total params: 525,898\n",
            "Trainable params: 525,898\n",
            "Non-trainable params: 0\n",
            "_________________________________________________________________\n"
          ],
          "name": "stdout"
        }
      ]
    },
    {
      "cell_type": "code",
      "metadata": {
        "colab": {
          "base_uri": "https://localhost:8080/"
        },
        "id": "W62rd9cpqUMU",
        "outputId": "c7e8da16-1054-4cf3-838b-38b7d1b2dac3"
      },
      "source": [
        "# Approx: 2.5 minutes per epoch! for C32, C64 and D128\n",
        "# Approx: 2 min 21s per epoch! for C32, C32 and D64: 161 seconds\n",
        "# Approx: 45s per epoch for C32 D64: val accuracy: 0.47 after 1 epoch\n",
        "###     \n",
        "\n",
        "history_temp = model_temp.fit(x_train, \n",
        "                              y_train, \n",
        "                              batch_size = 32,\n",
        "                              epochs = 20,\n",
        "                              validation_data = (x_val, y_val),\n",
        "                              callbacks = my_callbacks)"
      ],
      "execution_count": null,
      "outputs": [
        {
          "output_type": "stream",
          "text": [
            "Epoch 1/20\n",
            "1407/1407 [==============================] - 45s 32ms/step - loss: 1.8605 - accuracy: 0.3576 - val_loss: 1.5551 - val_accuracy: 0.4594\n",
            "\n",
            "Epoch 00001: saving model to CNN_v2.hdf5\n",
            "Epoch 2/20\n",
            "1407/1407 [==============================] - 45s 32ms/step - loss: 1.4649 - accuracy: 0.4918 - val_loss: 1.3358 - val_accuracy: 0.5366\n",
            "\n",
            "Epoch 00002: saving model to CNN_v2.hdf5\n",
            "Epoch 3/20\n",
            "1407/1407 [==============================] - 45s 32ms/step - loss: 1.3761 - accuracy: 0.5205 - val_loss: 1.3079 - val_accuracy: 0.5398\n",
            "\n",
            "Epoch 00003: saving model to CNN_v2.hdf5\n",
            "Epoch 4/20\n",
            "1407/1407 [==============================] - 45s 32ms/step - loss: 1.3034 - accuracy: 0.5464 - val_loss: 1.2837 - val_accuracy: 0.5586\n",
            "\n",
            "Epoch 00004: saving model to CNN_v2.hdf5\n",
            "Epoch 5/20\n",
            "1407/1407 [==============================] - 45s 32ms/step - loss: 1.2466 - accuracy: 0.5677 - val_loss: 1.2498 - val_accuracy: 0.5618\n",
            "\n",
            "Epoch 00005: saving model to CNN_v2.hdf5\n",
            "Epoch 6/20\n",
            "1407/1407 [==============================] - 45s 32ms/step - loss: 1.2195 - accuracy: 0.5786 - val_loss: 1.1959 - val_accuracy: 0.5816\n",
            "\n",
            "Epoch 00006: saving model to CNN_v2.hdf5\n",
            "Epoch 7/20\n",
            "1407/1407 [==============================] - 45s 32ms/step - loss: 1.2024 - accuracy: 0.5850 - val_loss: 1.1835 - val_accuracy: 0.5880\n",
            "\n",
            "Epoch 00007: saving model to CNN_v2.hdf5\n",
            "Epoch 8/20\n",
            "1407/1407 [==============================] - 45s 32ms/step - loss: 1.1716 - accuracy: 0.5934 - val_loss: 1.1515 - val_accuracy: 0.5994\n",
            "\n",
            "Epoch 00008: saving model to CNN_v2.hdf5\n",
            "Epoch 9/20\n",
            "1407/1407 [==============================] - 45s 32ms/step - loss: 1.1344 - accuracy: 0.6057 - val_loss: 1.2246 - val_accuracy: 0.5822\n",
            "\n",
            "Epoch 00009: saving model to CNN_v2.hdf5\n",
            "Epoch 10/20\n",
            "1407/1407 [==============================] - 45s 32ms/step - loss: 1.1191 - accuracy: 0.6113 - val_loss: 1.1446 - val_accuracy: 0.6058\n",
            "\n",
            "Epoch 00010: saving model to CNN_v2.hdf5\n",
            "Epoch 11/20\n",
            "1407/1407 [==============================] - 45s 32ms/step - loss: 1.1083 - accuracy: 0.6185 - val_loss: 1.2579 - val_accuracy: 0.5804\n",
            "\n",
            "Epoch 00011: saving model to CNN_v2.hdf5\n",
            "Epoch 12/20\n",
            "1407/1407 [==============================] - 45s 32ms/step - loss: 1.0917 - accuracy: 0.6230 - val_loss: 1.1935 - val_accuracy: 0.5858\n",
            "\n",
            "Epoch 00012: saving model to CNN_v2.hdf5\n",
            "Epoch 13/20\n",
            "1407/1407 [==============================] - 46s 32ms/step - loss: 1.0806 - accuracy: 0.6224 - val_loss: 1.1538 - val_accuracy: 0.5982\n",
            "\n",
            "Epoch 00013: saving model to CNN_v2.hdf5\n",
            "Epoch 14/20\n",
            "1407/1407 [==============================] - 45s 32ms/step - loss: 1.0665 - accuracy: 0.6301 - val_loss: 1.1862 - val_accuracy: 0.5994\n",
            "\n",
            "Epoch 00014: saving model to CNN_v2.hdf5\n",
            "Epoch 15/20\n",
            "1407/1407 [==============================] - 45s 32ms/step - loss: 1.0677 - accuracy: 0.6302 - val_loss: 1.0810 - val_accuracy: 0.6238\n",
            "\n",
            "Epoch 00015: saving model to CNN_v2.hdf5\n",
            "Epoch 16/20\n",
            "1407/1407 [==============================] - 45s 32ms/step - loss: 1.0464 - accuracy: 0.6371 - val_loss: 1.0638 - val_accuracy: 0.6340\n",
            "\n",
            "Epoch 00016: saving model to CNN_v2.hdf5\n",
            "Epoch 17/20\n",
            "1407/1407 [==============================] - 45s 32ms/step - loss: 1.0417 - accuracy: 0.6369 - val_loss: 1.2045 - val_accuracy: 0.5872\n",
            "\n",
            "Epoch 00017: saving model to CNN_v2.hdf5\n",
            "Epoch 18/20\n",
            "1407/1407 [==============================] - 45s 32ms/step - loss: 1.0213 - accuracy: 0.6473 - val_loss: 1.0664 - val_accuracy: 0.6338\n",
            "\n",
            "Epoch 00018: saving model to CNN_v2.hdf5\n",
            "Epoch 19/20\n",
            "1407/1407 [==============================] - 45s 32ms/step - loss: 1.0232 - accuracy: 0.6470 - val_loss: 1.1267 - val_accuracy: 0.6042\n",
            "\n",
            "Epoch 00019: saving model to CNN_v2.hdf5\n",
            "Epoch 20/20\n",
            "1407/1407 [==============================] - 45s 32ms/step - loss: 1.0128 - accuracy: 0.6511 - val_loss: 1.1036 - val_accuracy: 0.6246\n",
            "\n",
            "Epoch 00020: saving model to CNN_v2.hdf5\n"
          ],
          "name": "stdout"
        }
      ]
    },
    {
      "cell_type": "code",
      "metadata": {
        "colab": {
          "base_uri": "https://localhost:8080/"
        },
        "id": "7qstM5UQyff0",
        "outputId": "89043628-1f70-4aba-9360-dcb6003fec17"
      },
      "source": [
        "# Approx: 2.5 minutes per epoch! for C32, C64 and D128\n",
        "# Approx: 2 min 21s per epoch! for C32, C32 and D64: 161 seconds\n",
        "# Approx: 45s per epoch for C32 D64: val accuracy: 0.47 after 1 epoch\n",
        "### After 20 + 1 + 1 + 3 epochs: val_accuracy: \n",
        "my_callbacks = [keras.callbacks.ModelCheckpoint(filepath = 'CNN_v1_1.hdf5',\n",
        "                                                monitor = 'val_loss',\n",
        "                                                mode = 'min',\n",
        "                                                save_best_only = True, # Mostly Important\n",
        "                                                save_weights_only = True,\n",
        "                                                verbose = 2),\n",
        "                keras.callbacks.EarlyStopping(monitor = 'val_loss',\n",
        "                                              patience = 7, \n",
        "                                              mode = 'min'\n",
        "                                              restore_best_weights = True)]\n",
        "\n",
        "# Prefer verbose = 2. Since it tells you if the parameter monitored improved or not\n",
        "# Though it might clutter the entire display, it is important to monitor this.\n",
        "history_temp = model_v2.fit(x_train, \n",
        "                            y_train, \n",
        "                            batch_size = 32,\n",
        "                            epochs = 3,\n",
        "                            validation_data = (x_val, y_val),\n",
        "                            callbacks = my_callbacks)"
      ],
      "execution_count": null,
      "outputs": [
        {
          "output_type": "stream",
          "text": [
            "Epoch 1/3\n",
            "1407/1407 [==============================] - 44s 32ms/step - loss: 0.9890 - accuracy: 0.6564 - val_loss: 1.1436 - val_accuracy: 0.6202\n",
            "\n",
            "Epoch 00001: val_loss improved from inf to 1.14356, saving model to CNN_v1_1.hdf5\n",
            "Epoch 2/3\n",
            "1407/1407 [==============================] - 45s 32ms/step - loss: 0.9915 - accuracy: 0.6559 - val_loss: 1.1021 - val_accuracy: 0.6250\n",
            "\n",
            "Epoch 00002: val_loss improved from 1.14356 to 1.10208, saving model to CNN_v1_1.hdf5\n",
            "Epoch 3/3\n",
            "1407/1407 [==============================] - 45s 32ms/step - loss: 0.9793 - accuracy: 0.6593 - val_loss: 1.1733 - val_accuracy: 0.6066\n",
            "\n",
            "Epoch 00003: val_loss did not improve from 1.10208\n"
          ],
          "name": "stdout"
        }
      ]
    },
    {
      "cell_type": "markdown",
      "metadata": {
        "id": "euKxwIgy0r2j"
      },
      "source": [
        ""
      ]
    },
    {
      "cell_type": "code",
      "metadata": {
        "id": "4fcDG3YktqnF"
      },
      "source": [
        "def plot_perf(history):\n",
        "    import matplotlib.pyplot as plt\n",
        "    plt.figure(figsize = (7,7))\n",
        "    plt.plot(history['accuracy'], c = 'b', label = 'train_accuracy')\n",
        "    plt.plot(history['val_accuracy'], c = 'orange' , label = 'val_accuracy')\n",
        "    plt.xticks(c = 'c')\n",
        "    plt.yticks(c = 'c')\n",
        "    plt.xlim([0, 10])\n",
        "    plt.ylim([0.4, 0.7])\n",
        "    plt.title('Baseline_v2')\n",
        "    plt.legend()\n",
        "    plt.show()"
      ],
      "execution_count": null,
      "outputs": []
    },
    {
      "cell_type": "code",
      "metadata": {
        "colab": {
          "base_uri": "https://localhost:8080/",
          "height": 444
        },
        "id": "4fYUaD25uZkY",
        "outputId": "abd3bbca-2cb2-4adb-9042-d57a2191f64a"
      },
      "source": [
        "plot_perf(history_v2.history)"
      ],
      "execution_count": null,
      "outputs": [
        {
          "output_type": "display_data",
          "data": {
            "image/png": "[encoded data removed]",
            "text/plain": [
              "<Figure size 504x504 with 1 Axes>"
            ]
          },
          "metadata": {
            "tags": [],
            "needs_background": "dark"
          }
        }
      ]
    },
    {
      "cell_type": "code",
      "metadata": {
        "id": "jty1u0ft13S5"
      },
      "source": [
        "model_v2.load_weights('CNN_v1_1.hdf5')"
      ],
      "execution_count": null,
      "outputs": []
    },
    {
      "cell_type": "code",
      "metadata": {
        "colab": {
          "base_uri": "https://localhost:8080/"
        },
        "id": "-gjGQOdt1gQW",
        "outputId": "448da79b-2e6b-4598-86ea-70609ad82f7c"
      },
      "source": [
        "print(model_v2.evaluate(x_test, y_test)) \n",
        "print(model_v2.evaluate(x_val, y_val)) \n",
        "# test: 0.6210\n",
        "# train:  0.6250 \n",
        "# Precise fit."
      ],
      "execution_count": null,
      "outputs": [
        {
          "output_type": "stream",
          "text": [
            "313/313 [==============================] - 3s 9ms/step - loss: 1.1158 - accuracy: 0.6210\n",
            "[1.1158320903778076, 0.6209999918937683]\n",
            "157/157 [==============================] - 1s 9ms/step - loss: 1.1021 - accuracy: 0.6250\n",
            "[1.102084755897522, 0.625]\n"
          ],
          "name": "stdout"
        }
      ]
    },
    {
      "cell_type": "markdown",
      "metadata": {
        "id": "uxqYcxuDZ48N"
      },
      "source": [
        "## Baseline - Variant 3 - 56.23%"
      ]
    },
    {
      "cell_type": "code",
      "metadata": {
        "id": "gOeRs5ep-Pcv"
      },
      "source": [
        "def CNN_Baseline_BN(classes=10):\n",
        "    CNN_input = keras.Input(shape =(32,32,3), \n",
        "                            name = 'CNN_Input')\n",
        "    \n",
        "    x = layers.Conv2D(filters = 32,\n",
        "                      kernel_size = (3,3),\n",
        "                      strides = 1, \n",
        "                      padding = 'same', \n",
        "                      name = 'Conv2d_32')(CNN_input)\n",
        "    x = keras.layers.BatchNormalization(name = 'BN_32')(x)\n",
        "    x = keras.activations.elu(x,\n",
        "                              name = 'ELU_32')\n",
        "    x = keras.layers.MaxPool2D(pool_size= (2,2),\n",
        "                               name = 'MaxPool_1')(x)\n",
        "\n",
        "    x = keras.layers.Flatten(name = 'Flatten')(x)\n",
        "    x = keras.layers.Dense(64,name = 'Dense_64')(x)\n",
        "    x = keras.layers.Activation('elu',\n",
        "                                name = 'ELU_64')(x)\n",
        "    x = keras.layers.Dropout(0.5,\n",
        "                             name = 'Dropout_Dense')(x)\n",
        "    x = keras.layers.Dense(classes,\n",
        "                           name = 'Dense_10')(x)\n",
        "    CNN_output = keras.layers.Activation('softmax',\n",
        "                                         name = 'Softmax_10')(x)\n",
        "    model = keras.Model(inputs = CNN_input, \n",
        "                        outputs = CNN_output)\n",
        "\n",
        "    return model\n"
      ],
      "execution_count": null,
      "outputs": []
    },
    {
      "cell_type": "code",
      "metadata": {
        "colab": {
          "base_uri": "https://localhost:8080/"
        },
        "id": "_rXfA11MXPzm",
        "outputId": "0be2b779-148b-4148-ead6-c3c211662bf8"
      },
      "source": [
        "model_v3 = CNN_Baseline_BN()\n",
        "model_v3.compile(loss = keras.losses.CategoricalCrossentropy(from_logits= True),\n",
        "                 optimizer = keras.optimizers.RMSprop(lr = 0.001),\n",
        "                 metrics = ['accuracy'])\n",
        "# Batch Norm increases the number of parameters!\n",
        "model_v3.summary()"
      ],
      "execution_count": null,
      "outputs": [
        {
          "output_type": "stream",
          "text": [
            "Model: \"model_16\"\n",
            "_________________________________________________________________\n",
            "Layer (type)                 Output Shape              Param #   \n",
            "=================================================================\n",
            "CNN_Input (InputLayer)       [(None, 32, 32, 3)]       0         \n",
            "_________________________________________________________________\n",
            "Conv2d_32 (Conv2D)           (None, 32, 32, 32)        896       \n",
            "_________________________________________________________________\n",
            "BN_32 (BatchNormalization)   (None, 32, 32, 32)        128       \n",
            "_________________________________________________________________\n",
            "tf.keras.activations.elu_12  (None, 32, 32, 32)        0         \n",
            "_________________________________________________________________\n",
            "MaxPool_1 (MaxPooling2D)     (None, 16, 16, 32)        0         \n",
            "_________________________________________________________________\n",
            "Flatten (Flatten)            (None, 8192)              0         \n",
            "_________________________________________________________________\n",
            "Dense_64 (Dense)             (None, 64)                524352    \n",
            "_________________________________________________________________\n",
            "ELU_64 (Activation)          (None, 64)                0         \n",
            "_________________________________________________________________\n",
            "Dropout_Dense (Dropout)      (None, 64)                0         \n",
            "_________________________________________________________________\n",
            "Dense_10 (Dense)             (None, 10)                650       \n",
            "_________________________________________________________________\n",
            "Softmax_10 (Activation)      (None, 10)                0         \n",
            "=================================================================\n",
            "Total params: 526,026\n",
            "Trainable params: 525,962\n",
            "Non-trainable params: 64\n",
            "_________________________________________________________________\n"
          ],
          "name": "stdout"
        }
      ]
    },
    {
      "cell_type": "code",
      "metadata": {
        "colab": {
          "base_uri": "https://localhost:8080/"
        },
        "id": "_iWWE4dqcVLY",
        "outputId": "2776d916-369c-40d6-c40e-6eb60ea86c1b"
      },
      "source": [
        "# Approx: 2min 50s  per epoch with C32 BN C64 BN D128 D10\n",
        "# Approx: 51s       per epoch with C32 BN D64 D10:\n",
        "## val_accuracy = 0.1450 after 1 epoch\n",
        "my_callbacks = [keras.callbacks.ModelCheckpoint(filepath = 'CNN_v3.hdf5',\n",
        "                                                monitor = 'val_loss',\n",
        "                                                mode = 'min',\n",
        "                                                save_best_only = True, # Mostly Important\n",
        "                                                save_weights_only = True,\n",
        "                                                verbose = 2),\n",
        "                keras.callbacks.EarlyStopping(monitor = 'val_loss',\n",
        "                                              patience = 7, \n",
        "                                              mode = 'min',\n",
        "                                              restore_best_weights = True)]\n",
        "history_temp = model_v3.fit(x_train, y_train, batch_size = 64,\n",
        "                       epochs = 20, validation_data = (x_val, y_val),\n",
        "                       callbacks = my_callbacks)"
      ],
      "execution_count": null,
      "outputs": [
        {
          "output_type": "stream",
          "text": [
            "Epoch 1/20\n",
            "704/704 [==============================] - 50s 70ms/step - loss: 2.7067 - accuracy: 0.2399 - val_loss: 4.1550 - val_accuracy: 0.2276\n",
            "\n",
            "Epoch 00001: val_loss improved from inf to 4.15497, saving model to CNN_v3.hdf5\n",
            "Epoch 2/20\n",
            "704/704 [==============================] - 50s 71ms/step - loss: 1.5640 - accuracy: 0.4498 - val_loss: 1.7682 - val_accuracy: 0.4042\n",
            "\n",
            "Epoch 00002: val_loss improved from 4.15497 to 1.76821, saving model to CNN_v3.hdf5\n",
            "Epoch 3/20\n",
            "704/704 [==============================] - 49s 70ms/step - loss: 1.3195 - accuracy: 0.5371 - val_loss: 1.9927 - val_accuracy: 0.4390\n",
            "\n",
            "Epoch 00003: val_loss did not improve from 1.76821\n",
            "Epoch 4/20\n",
            "704/704 [==============================] - 50s 71ms/step - loss: 1.2133 - accuracy: 0.5719 - val_loss: 1.7311 - val_accuracy: 0.4796\n",
            "\n",
            "Epoch 00004: val_loss improved from 1.76821 to 1.73106, saving model to CNN_v3.hdf5\n",
            "Epoch 5/20\n",
            "704/704 [==============================] - 50s 71ms/step - loss: 1.1464 - accuracy: 0.5974 - val_loss: 1.9621 - val_accuracy: 0.4518\n",
            "\n",
            "Epoch 00005: val_loss did not improve from 1.73106\n",
            "Epoch 6/20\n",
            "704/704 [==============================] - 50s 70ms/step - loss: 1.0865 - accuracy: 0.6184 - val_loss: 2.1934 - val_accuracy: 0.4990\n",
            "\n",
            "Epoch 00006: val_loss did not improve from 1.73106\n",
            "Epoch 7/20\n",
            "704/704 [==============================] - 50s 71ms/step - loss: 1.0565 - accuracy: 0.6236 - val_loss: 4.6644 - val_accuracy: 0.3326\n",
            "\n",
            "Epoch 00007: val_loss did not improve from 1.73106\n",
            "Epoch 8/20\n",
            "704/704 [==============================] - 50s 71ms/step - loss: 1.0218 - accuracy: 0.6404 - val_loss: 1.3586 - val_accuracy: 0.5558\n",
            "\n",
            "Epoch 00008: val_loss improved from 1.73106 to 1.35863, saving model to CNN_v3.hdf5\n",
            "Epoch 9/20\n",
            "704/704 [==============================] - 50s 71ms/step - loss: 0.9925 - accuracy: 0.6536 - val_loss: 1.9536 - val_accuracy: 0.4326\n",
            "\n",
            "Epoch 00009: val_loss did not improve from 1.35863\n",
            "Epoch 10/20\n",
            "704/704 [==============================] - 50s 71ms/step - loss: 0.9606 - accuracy: 0.6608 - val_loss: 3.4738 - val_accuracy: 0.4292\n",
            "\n",
            "Epoch 00010: val_loss did not improve from 1.35863\n",
            "Epoch 11/20\n",
            "704/704 [==============================] - 50s 71ms/step - loss: 0.9431 - accuracy: 0.6704 - val_loss: 2.4458 - val_accuracy: 0.4116\n",
            "\n",
            "Epoch 00011: val_loss did not improve from 1.35863\n",
            "Epoch 12/20\n",
            "704/704 [==============================] - 50s 71ms/step - loss: 0.9102 - accuracy: 0.6813 - val_loss: 2.8395 - val_accuracy: 0.3458\n",
            "\n",
            "Epoch 00012: val_loss did not improve from 1.35863\n",
            "Epoch 13/20\n",
            "704/704 [==============================] - 50s 71ms/step - loss: 0.8962 - accuracy: 0.6862 - val_loss: 1.3657 - val_accuracy: 0.5622\n",
            "\n",
            "Epoch 00013: val_loss did not improve from 1.35863\n",
            "Epoch 14/20\n",
            "704/704 [==============================] - 50s 71ms/step - loss: 0.8685 - accuracy: 0.6926 - val_loss: 1.2755 - val_accuracy: 0.5898\n",
            "\n",
            "Epoch 00014: val_loss improved from 1.35863 to 1.27554, saving model to CNN_v3.hdf5\n",
            "Epoch 15/20\n",
            "704/704 [==============================] - 50s 71ms/step - loss: 0.8534 - accuracy: 0.7026 - val_loss: 3.4082 - val_accuracy: 0.3506\n",
            "\n",
            "Epoch 00015: val_loss did not improve from 1.27554\n",
            "Epoch 16/20\n",
            "704/704 [==============================] - 50s 71ms/step - loss: 0.8313 - accuracy: 0.7081 - val_loss: 1.9491 - val_accuracy: 0.4988\n",
            "\n",
            "Epoch 00016: val_loss did not improve from 1.27554\n",
            "Epoch 17/20\n",
            "704/704 [==============================] - 50s 71ms/step - loss: 0.8142 - accuracy: 0.7110 - val_loss: 1.5622 - val_accuracy: 0.5540\n",
            "\n",
            "Epoch 00017: val_loss did not improve from 1.27554\n",
            "Epoch 18/20\n",
            "704/704 [==============================] - 50s 71ms/step - loss: 0.8019 - accuracy: 0.7150 - val_loss: 3.4510 - val_accuracy: 0.3850\n",
            "\n",
            "Epoch 00018: val_loss did not improve from 1.27554\n",
            "Epoch 19/20\n",
            "704/704 [==============================] - 50s 71ms/step - loss: 0.7913 - accuracy: 0.7190 - val_loss: 3.1555 - val_accuracy: 0.3768\n",
            "\n",
            "Epoch 00019: val_loss did not improve from 1.27554\n",
            "Epoch 20/20\n",
            "704/704 [==============================] - 50s 71ms/step - loss: 0.7731 - accuracy: 0.7235 - val_loss: 2.0880 - val_accuracy: 0.5666\n",
            "\n",
            "Epoch 00020: val_loss did not improve from 1.27554\n"
          ],
          "name": "stdout"
        }
      ]
    },
    {
      "cell_type": "code",
      "metadata": {
        "colab": {
          "base_uri": "https://localhost:8080/"
        },
        "id": "FML2qDSG-V7x",
        "outputId": "271d84dd-ea77-4f14-939c-7860cb96f585"
      },
      "source": [
        "history_v3 = model_v3.fit(x_train, y_train, batch_size = 64,\n",
        "                       epochs = 5, validation_data = (x_val, y_val),\n",
        "                       callbacks = my_callbacks)"
      ],
      "execution_count": null,
      "outputs": [
        {
          "output_type": "stream",
          "text": [
            "Epoch 1/5\n",
            "704/704 [==============================] - 49s 70ms/step - loss: 0.7817 - accuracy: 0.7240 - val_loss: 3.4108 - val_accuracy: 0.4152\n",
            "\n",
            "Epoch 00001: val_loss did not improve from 1.27554\n",
            "Epoch 2/5\n",
            "704/704 [==============================] - 49s 70ms/step - loss: 0.7720 - accuracy: 0.7260 - val_loss: 1.4016 - val_accuracy: 0.5706\n",
            "\n",
            "Epoch 00002: val_loss did not improve from 1.27554\n",
            "Epoch 3/5\n",
            "704/704 [==============================] - 50s 70ms/step - loss: 0.7617 - accuracy: 0.7288 - val_loss: 2.0685 - val_accuracy: 0.4828\n",
            "\n",
            "Epoch 00003: val_loss did not improve from 1.27554\n",
            "Epoch 4/5\n",
            "704/704 [==============================] - 50s 70ms/step - loss: 0.7445 - accuracy: 0.7376 - val_loss: 1.7077 - val_accuracy: 0.5572\n",
            "\n",
            "Epoch 00004: val_loss did not improve from 1.27554\n",
            "Epoch 5/5\n",
            "704/704 [==============================] - 49s 70ms/step - loss: 0.7365 - accuracy: 0.7390 - val_loss: 1.8963 - val_accuracy: 0.5622\n",
            "\n",
            "Epoch 00005: val_loss did not improve from 1.27554\n"
          ],
          "name": "stdout"
        }
      ]
    },
    {
      "cell_type": "code",
      "metadata": {
        "id": "VELoKX2h_jRf"
      },
      "source": [
        "history_v = history_temp\n",
        "history_v.history.update(history_v3.history)"
      ],
      "execution_count": null,
      "outputs": []
    },
    {
      "cell_type": "code",
      "metadata": {
        "id": "mFBS33yZcmrR"
      },
      "source": [
        "def plot_perf(history):\n",
        "    import matplotlib.pyplot as plt\n",
        "    plt.subplot(211)\n",
        "    plt.plot(history['accuracy'], c = 'b', label = 'train_accuracy')\n",
        "    plt.plot(history['val_accuracy'], c = 'orange' , label = 'val_accuracy')\n",
        "    plt.xticks(c = 'c')\n",
        "    plt.yticks(c = 'c')\n",
        "    plt.xlim([0, 10])\n",
        "    plt.ylim([0.4, 0.7])\n",
        "    plt.title('Baseline_v2')\n",
        "    plt.legend()\n",
        "    plt.subplot(212)\n",
        "    plt.plot(history['loss'], c = 'b', label = 'train_loss')\n",
        "    plt.plot(history['val_loss'], c = 'orange' , label = 'val_loss')\n",
        "    plt.xticks(c = 'c')\n",
        "    plt.yticks(c = 'c')\n",
        "    plt.xlim([0, 10])\n",
        "    plt.title('Baseline with Batch Normalization')\n",
        "    plt.legend()\n",
        "    "
      ],
      "execution_count": null,
      "outputs": []
    },
    {
      "cell_type": "code",
      "metadata": {
        "colab": {
          "base_uri": "https://localhost:8080/",
          "height": 281
        },
        "id": "XVQ5bhYW3zRy",
        "outputId": "55ed8c04-944e-4aeb-87a1-4244ddaaf97c"
      },
      "source": [
        "plot_perf(history_v.history)"
      ],
      "execution_count": null,
      "outputs": [
        {
          "output_type": "display_data",
          "data": {
            "image/png": "[encoded data removed]",
            "text/plain": [
              "<Figure size 432x288 with 2 Axes>"
            ]
          },
          "metadata": {
            "tags": [],
            "needs_background": "dark"
          }
        }
      ]
    },
    {
      "cell_type": "code",
      "metadata": {
        "colab": {
          "base_uri": "https://localhost:8080/"
        },
        "id": "vf8GwI8J349p",
        "outputId": "fbf8d755-a1f0-47e4-ea54-7b999f582585"
      },
      "source": [
        "print(model_v3.evaluate(x_test, y_test)) \n",
        "print(model_v3.evaluate(x_val, y_val)) \n",
        "print(model_v3.evaluate(x_train, y_train)) \n",
        "# Model definitely overfits!"
      ],
      "execution_count": null,
      "outputs": [
        {
          "output_type": "stream",
          "text": [
            "313/313 [==============================] - 3s 11ms/step - loss: 2.0946 - accuracy: 0.5623\n",
            "[2.09464955329895, 0.5623000264167786]\n",
            "157/157 [==============================] - 2s 11ms/step - loss: 2.0880 - accuracy: 0.5666\n",
            "[2.087984085083008, 0.5666000247001648]\n",
            "1407/1407 [==============================] - 15s 11ms/step - loss: 1.2774 - accuracy: 0.6691\n",
            "[1.277379035949707, 0.6690889000892639]\n"
          ],
          "name": "stdout"
        }
      ]
    },
    {
      "cell_type": "code",
      "metadata": {
        "id": "zKnLX9yg99Fc",
        "colab": {
          "base_uri": "https://localhost:8080/",
          "height": 201
        },
        "outputId": "b9651bb4-10a9-4b4f-c29b-9bc5a56502f5"
      },
      "source": [
        "print(model.evaluate(x_train, y_train))\n",
        "print(model.evaluate(x_val, y_val))\n",
        "print(model.evaluate(x_test, y_test))"
      ],
      "execution_count": null,
      "outputs": [
        {
          "output_type": "error",
          "ename": "NameError",
          "evalue": "ignored",
          "traceback": [
            "\u001b[0;31m---------------------------------------------------------------------------\u001b[0m",
            "\u001b[0;31mNameError\u001b[0m                                 Traceback (most recent call last)",
            "\u001b[0;32m<ipython-input-157-4a473bede9d2>\u001b[0m in \u001b[0;36m<module>\u001b[0;34m()\u001b[0m\n\u001b[0;32m----> 1\u001b[0;31m \u001b[0mprint\u001b[0m\u001b[0;34m(\u001b[0m\u001b[0mmodel\u001b[0m\u001b[0;34m.\u001b[0m\u001b[0mevaluate\u001b[0m\u001b[0;34m(\u001b[0m\u001b[0mx_train\u001b[0m\u001b[0;34m,\u001b[0m \u001b[0my_train\u001b[0m\u001b[0;34m)\u001b[0m\u001b[0;34m)\u001b[0m\u001b[0;34m\u001b[0m\u001b[0;34m\u001b[0m\u001b[0m\n\u001b[0m\u001b[1;32m      2\u001b[0m \u001b[0mprint\u001b[0m\u001b[0;34m(\u001b[0m\u001b[0mmodel\u001b[0m\u001b[0;34m.\u001b[0m\u001b[0mevaluate\u001b[0m\u001b[0;34m(\u001b[0m\u001b[0mx_val\u001b[0m\u001b[0;34m,\u001b[0m \u001b[0my_val\u001b[0m\u001b[0;34m)\u001b[0m\u001b[0;34m)\u001b[0m\u001b[0;34m\u001b[0m\u001b[0;34m\u001b[0m\u001b[0m\n\u001b[1;32m      3\u001b[0m \u001b[0mprint\u001b[0m\u001b[0;34m(\u001b[0m\u001b[0mmodel\u001b[0m\u001b[0;34m.\u001b[0m\u001b[0mevaluate\u001b[0m\u001b[0;34m(\u001b[0m\u001b[0mx_test\u001b[0m\u001b[0;34m,\u001b[0m \u001b[0my_test\u001b[0m\u001b[0;34m)\u001b[0m\u001b[0;34m)\u001b[0m\u001b[0;34m\u001b[0m\u001b[0;34m\u001b[0m\u001b[0m\n",
            "\u001b[0;31mNameError\u001b[0m: name 'model' is not defined"
          ]
        }
      ]
    },
    {
      "cell_type": "markdown",
      "metadata": {
        "id": "9gUfP5LhH7bs"
      },
      "source": [
        "## Baseline - Two Conv Layers - Test Accuracy: 58.9%\n"
      ]
    },
    {
      "cell_type": "code",
      "metadata": {
        "id": "4-myDa_mIBQx"
      },
      "source": [
        "from tensorflow.keras import layers"
      ],
      "execution_count": null,
      "outputs": []
    },
    {
      "cell_type": "code",
      "metadata": {
        "id": "cr1v6sL4Iuxi"
      },
      "source": [
        "def IC_Layer(inputs, p = 0.5):\n",
        "    x = layers.BatchNormalization()(inputs)\n",
        "    x = layers.Dropout(p)(inputs)\n",
        "    return x"
      ],
      "execution_count": null,
      "outputs": []
    },
    {
      "cell_type": "code",
      "metadata": {
        "id": "6pvy-mvCIBQz"
      },
      "source": [
        "def CNN_C2(classes=10):\n",
        "    CNN_input = keras.Input(shape =(32,32,3), \n",
        "                            name = 'CNN_Input')\n",
        "    x = IC_Layer(CNN_input)\n",
        "    x = layers.Conv2D(filters = 32,\n",
        "                      kernel_size = (3,3),\n",
        "                      strides = 1, \n",
        "                      padding = 'same', \n",
        "                      name = 'Conv2d_32')(CNN_input)\n",
        "    x = keras.activations.elu(x,\n",
        "                              name = 'ELU_32')\n",
        "    x = IC_Layer(x)\n",
        "    \n",
        "    x = keras.layers.Conv2D(filters = 64,\n",
        "                            kernel_size = (3,3),\n",
        "                            name = 'Conv2d_64')(x)\n",
        "    x = keras.layers.Activation('elu',name = 'ELU_64_1')(x)\n",
        "    x = keras.layers.MaxPool2D(pool_size= (2,2),\n",
        "                               name = 'MaxPool_1')(x)\n",
        "    x = keras.layers.Dropout(0.25,name = 'Dropout_Conv2D')(x)\n",
        "\n",
        "    x = keras.layers.Flatten(name = 'Flatten')(x)\n",
        "    x = keras.layers.Dense(64,name = 'Dense_64')(x)\n",
        "    x = keras.layers.Activation('elu',\n",
        "                                name = 'ELU_64')(x)\n",
        "    x = keras.layers.Dropout(0.5,\n",
        "                             name = 'Dropout_Dense')(x)\n",
        "    x = keras.layers.Dense(classes,\n",
        "                           name = 'Dense_10')(x)\n",
        "    CNN_output = keras.layers.Activation('softmax',\n",
        "                                         name = 'Softmax_10')(x)\n",
        "    model = keras.Model(inputs = CNN_input, \n",
        "                        outputs = CNN_output, \n",
        "                        name = 'CNN_C2')\n",
        "\n",
        "    return model\n"
      ],
      "execution_count": null,
      "outputs": []
    },
    {
      "cell_type": "code",
      "metadata": {
        "colab": {
          "base_uri": "https://localhost:8080/"
        },
        "id": "zPcAeSoIIBQz",
        "outputId": "a533d693-d117-4796-b42b-48bb0eb17f80"
      },
      "source": [
        "model_v4 = CNN_C2()\n",
        "model_v4.compile(loss = 'categorical_crossentropy',\n",
        "                 optimizer = keras.optimizers.Adam(),\n",
        "                 metrics = ['accuracy'])\n",
        "model_v4.summary()"
      ],
      "execution_count": null,
      "outputs": [
        {
          "output_type": "stream",
          "text": [
            "Model: \"CNN_C2\"\n",
            "_________________________________________________________________\n",
            "Layer (type)                 Output Shape              Param #   \n",
            "=================================================================\n",
            "CNN_Input (InputLayer)       [(None, 32, 32, 3)]       0         \n",
            "_________________________________________________________________\n",
            "Conv2d_32 (Conv2D)           (None, 32, 32, 32)        896       \n",
            "_________________________________________________________________\n",
            "tf.keras.activations.elu_18  (None, 32, 32, 32)        0         \n",
            "_________________________________________________________________\n",
            "dropout_11 (Dropout)         (None, 32, 32, 32)        0         \n",
            "_________________________________________________________________\n",
            "Conv2d_64 (Conv2D)           (None, 30, 30, 64)        18496     \n",
            "_________________________________________________________________\n",
            "ELU_64_1 (Activation)        (None, 30, 30, 64)        0         \n",
            "_________________________________________________________________\n",
            "MaxPool_1 (MaxPooling2D)     (None, 15, 15, 64)        0         \n",
            "_________________________________________________________________\n",
            "Dropout_Conv2D (Dropout)     (None, 15, 15, 64)        0         \n",
            "_________________________________________________________________\n",
            "Flatten (Flatten)            (None, 14400)             0         \n",
            "_________________________________________________________________\n",
            "Dense_64 (Dense)             (None, 64)                921664    \n",
            "_________________________________________________________________\n",
            "ELU_64 (Activation)          (None, 64)                0         \n",
            "_________________________________________________________________\n",
            "Dropout_Dense (Dropout)      (None, 64)                0         \n",
            "_________________________________________________________________\n",
            "Dense_10 (Dense)             (None, 10)                650       \n",
            "_________________________________________________________________\n",
            "Softmax_10 (Activation)      (None, 10)                0         \n",
            "=================================================================\n",
            "Total params: 941,706\n",
            "Trainable params: 941,706\n",
            "Non-trainable params: 0\n",
            "_________________________________________________________________\n"
          ],
          "name": "stdout"
        }
      ]
    },
    {
      "cell_type": "code",
      "metadata": {
        "id": "mAzX6zCdIBQ1"
      },
      "source": [
        "my_callbacks = [keras.callbacks.ModelCheckpoint(filepath = 'CNN_C5.hdf5',\n",
        "                                                monitor = 'val_loss',\n",
        "                                                mode = 'min',\n",
        "                                                save_best_only = True,\n",
        "                                                save_weights_only = True,\n",
        "                                                verbose = 2),\n",
        "                keras.callbacks.EarlyStopping(monitor = 'val_loss',\n",
        "                                              patience = 7,\n",
        "                                              verbose = 2,\n",
        "                                              restore_best_weights = True)\n",
        "                ]"
      ],
      "execution_count": null,
      "outputs": []
    },
    {
      "cell_type": "code",
      "metadata": {
        "colab": {
          "base_uri": "https://localhost:8080/"
        },
        "id": "vvIwpiYTIBQ2",
        "outputId": "d7fab3b6-6fd6-4342-869b-5aa98ac93787"
      },
      "source": [
        "# Approx: 2min 48s per epoch! for C32, C64 and D64 - 173s\n",
        "\n",
        "history_temp = model_v4.fit(x_train, y_train, \n",
        "                       batch_size = 32,\n",
        "                       epochs = 15,\n",
        "                       validation_data = (x_val, y_val),\n",
        "                       callbacks = my_callbacks\n",
        "                       )"
      ],
      "execution_count": null,
      "outputs": [
        {
          "output_type": "stream",
          "text": [
            "Epoch 1/15\n",
            "1407/1407 [==============================] - 174s 123ms/step - loss: 1.8224 - accuracy: 0.3529 - val_loss: 1.7737 - val_accuracy: 0.4146\n",
            "\n",
            "Epoch 00001: val_loss improved from inf to 1.77373, saving model to CNN_C5.hdf5\n",
            "Epoch 2/15\n",
            "1407/1407 [==============================] - 173s 123ms/step - loss: 1.3420 - accuracy: 0.5266 - val_loss: 1.5102 - val_accuracy: 0.5142\n",
            "\n",
            "Epoch 00002: val_loss improved from 1.77373 to 1.51017, saving model to CNN_C5.hdf5\n",
            "Epoch 3/15\n",
            "1407/1407 [==============================] - 173s 123ms/step - loss: 1.2174 - accuracy: 0.5770 - val_loss: 1.2831 - val_accuracy: 0.5736\n",
            "\n",
            "Epoch 00003: val_loss improved from 1.51017 to 1.28313, saving model to CNN_C5.hdf5\n",
            "Epoch 4/15\n",
            "1407/1407 [==============================] - 173s 123ms/step - loss: 1.1463 - accuracy: 0.5940 - val_loss: 1.2988 - val_accuracy: 0.5826\n",
            "\n",
            "Epoch 00004: val_loss did not improve from 1.28313\n",
            "Epoch 5/15\n",
            "1407/1407 [==============================] - 173s 123ms/step - loss: 1.1143 - accuracy: 0.6098 - val_loss: 1.3723 - val_accuracy: 0.5658\n",
            "\n",
            "Epoch 00005: val_loss did not improve from 1.28313\n",
            "Epoch 6/15\n",
            "1407/1407 [==============================] - 173s 123ms/step - loss: 1.0797 - accuracy: 0.6201 - val_loss: 1.2887 - val_accuracy: 0.5818\n",
            "\n",
            "Epoch 00006: val_loss did not improve from 1.28313\n",
            "Epoch 7/15\n",
            "1407/1407 [==============================] - 173s 123ms/step - loss: 1.0477 - accuracy: 0.6301 - val_loss: 1.4531 - val_accuracy: 0.5606\n",
            "\n",
            "Epoch 00007: val_loss did not improve from 1.28313\n",
            "Epoch 8/15\n",
            "1407/1407 [==============================] - 173s 123ms/step - loss: 1.0277 - accuracy: 0.6377 - val_loss: 1.2833 - val_accuracy: 0.5946\n",
            "\n",
            "Epoch 00008: val_loss did not improve from 1.28313\n",
            "Epoch 9/15\n",
            "1407/1407 [==============================] - 173s 123ms/step - loss: 0.9934 - accuracy: 0.6456 - val_loss: 1.4199 - val_accuracy: 0.5948\n",
            "\n",
            "Epoch 00009: val_loss did not improve from 1.28313\n",
            "Epoch 10/15\n",
            "1407/1407 [==============================] - 173s 123ms/step - loss: 0.9860 - accuracy: 0.6528 - val_loss: 1.2347 - val_accuracy: 0.6154\n",
            "\n",
            "Epoch 00010: val_loss improved from 1.28313 to 1.23474, saving model to CNN_C5.hdf5\n",
            "Epoch 11/15\n",
            "1407/1407 [==============================] - 173s 123ms/step - loss: 0.9697 - accuracy: 0.6545 - val_loss: 1.4209 - val_accuracy: 0.5942\n",
            "\n",
            "Epoch 00011: val_loss did not improve from 1.23474\n",
            "Epoch 12/15\n",
            "1407/1407 [==============================] - 173s 123ms/step - loss: 0.9519 - accuracy: 0.6638 - val_loss: 1.5265 - val_accuracy: 0.5882\n",
            "\n",
            "Epoch 00012: val_loss did not improve from 1.23474\n",
            "Epoch 13/15\n",
            "1407/1407 [==============================] - 173s 123ms/step - loss: 0.9491 - accuracy: 0.6638 - val_loss: 1.5032 - val_accuracy: 0.5784\n",
            "\n",
            "Epoch 00013: val_loss did not improve from 1.23474\n",
            "Epoch 14/15\n",
            "1407/1407 [==============================] - 173s 123ms/step - loss: 0.9276 - accuracy: 0.6687 - val_loss: 1.4097 - val_accuracy: 0.6126\n",
            "\n",
            "Epoch 00014: val_loss did not improve from 1.23474\n",
            "Epoch 15/15\n",
            "1407/1407 [==============================] - 173s 123ms/step - loss: 0.9165 - accuracy: 0.6747 - val_loss: 1.2973 - val_accuracy: 0.6230\n",
            "\n",
            "Epoch 00015: val_loss did not improve from 1.23474\n"
          ],
          "name": "stdout"
        }
      ]
    },
    {
      "cell_type": "markdown",
      "metadata": {
        "id": "96SYAPrAa8uo"
      },
      "source": [
        ""
      ]
    },
    {
      "cell_type": "code",
      "metadata": {
        "colab": {
          "base_uri": "https://localhost:8080/",
          "height": 281
        },
        "id": "c2Ms8YlOLPF_",
        "outputId": "16bd741a-d7f1-4774-876b-9a766cbc5017"
      },
      "source": [
        "plot_perf(history_temp.history)"
      ],
      "execution_count": null,
      "outputs": [
        {
          "output_type": "display_data",
          "data": {
            "image/png": "[encoded data removed]",
            "text/plain": [
              "<Figure size 432x288 with 2 Axes>"
            ]
          },
          "metadata": {
            "tags": [],
            "needs_background": "dark"
          }
        }
      ]
    },
    {
      "cell_type": "code",
      "metadata": {
        "colab": {
          "base_uri": "https://localhost:8080/"
        },
        "id": "gZl1VNhiayZq",
        "outputId": "0c1b02a4-078e-45ff-de45-3f638baa1022"
      },
      "source": [
        "# Training for another 10 epochs!\n",
        "# Approx: 2min 48s per epoch! for C32, C64 and D64 - 173s\n",
        "\n",
        "history_tempv2 = model_v4.fit(x_train, y_train, \n",
        "                       batch_size = 32,\n",
        "                       epochs = 10,\n",
        "                       validation_data = (x_val, y_val),\n",
        "                       callbacks = my_callbacks\n",
        "                       )"
      ],
      "execution_count": null,
      "outputs": [
        {
          "output_type": "stream",
          "text": [
            "Epoch 1/10\n",
            "1407/1407 [==============================] - 173s 123ms/step - loss: 0.9266 - accuracy: 0.6670 - val_loss: 1.7078 - val_accuracy: 0.5744\n",
            "\n",
            "Epoch 00001: val_loss did not improve from 1.23474\n",
            "Epoch 2/10\n",
            "1407/1407 [==============================] - 173s 123ms/step - loss: 0.9120 - accuracy: 0.6740 - val_loss: 1.5367 - val_accuracy: 0.5944\n",
            "\n",
            "Epoch 00002: val_loss did not improve from 1.23474\n",
            "Epoch 3/10\n",
            "1407/1407 [==============================] - 173s 123ms/step - loss: 0.9009 - accuracy: 0.6783 - val_loss: 1.5968 - val_accuracy: 0.6034\n",
            "\n",
            "Epoch 00003: val_loss did not improve from 1.23474\n",
            "Epoch 4/10\n",
            "1407/1407 [==============================] - 173s 123ms/step - loss: 0.8950 - accuracy: 0.6795 - val_loss: 1.6893 - val_accuracy: 0.5900\n",
            "\n",
            "Epoch 00004: val_loss did not improve from 1.23474\n",
            "Epoch 5/10\n",
            "1407/1407 [==============================] - 173s 123ms/step - loss: 0.8909 - accuracy: 0.6802 - val_loss: 1.4288 - val_accuracy: 0.6160\n",
            "\n",
            "Epoch 00005: val_loss did not improve from 1.23474\n",
            "Epoch 6/10\n",
            "1407/1407 [==============================] - 173s 123ms/step - loss: 0.8817 - accuracy: 0.6826 - val_loss: 1.6240 - val_accuracy: 0.5940\n",
            "\n",
            "Epoch 00006: val_loss did not improve from 1.23474\n",
            "Epoch 7/10\n",
            "1407/1407 [==============================] - 173s 123ms/step - loss: 0.8787 - accuracy: 0.6855 - val_loss: 1.6203 - val_accuracy: 0.6010\n",
            "\n",
            "Epoch 00007: val_loss did not improve from 1.23474\n",
            "Epoch 8/10\n",
            "1407/1407 [==============================] - 173s 123ms/step - loss: 0.8755 - accuracy: 0.6845 - val_loss: 1.5841 - val_accuracy: 0.5950\n",
            "\n",
            "Epoch 00008: val_loss did not improve from 1.23474\n",
            "Epoch 9/10\n",
            "1407/1407 [==============================] - 173s 123ms/step - loss: 0.8702 - accuracy: 0.6875 - val_loss: 1.8807 - val_accuracy: 0.5826\n",
            "\n",
            "Epoch 00009: val_loss did not improve from 1.23474\n",
            "Epoch 10/10\n",
            "1407/1407 [==============================] - 173s 123ms/step - loss: 0.8586 - accuracy: 0.6923 - val_loss: 1.7444 - val_accuracy: 0.5906\n",
            "\n",
            "Epoch 00010: val_loss did not improve from 1.23474\n"
          ],
          "name": "stdout"
        }
      ]
    },
    {
      "cell_type": "code",
      "metadata": {
        "colab": {
          "base_uri": "https://localhost:8080/",
          "height": 281
        },
        "id": "66q1FMqAhTYz",
        "outputId": "27bebca7-8850-42d6-e782-22d5e1bdc035"
      },
      "source": [
        "plot_perf(history_tempv2.history)"
      ],
      "execution_count": null,
      "outputs": [
        {
          "output_type": "display_data",
          "data": {
            "image/png": "[encoded data removed]",
            "text/plain": [
              "<Figure size 432x288 with 2 Axes>"
            ]
          },
          "metadata": {
            "tags": [],
            "needs_background": "dark"
          }
        }
      ]
    },
    {
      "cell_type": "markdown",
      "metadata": {
        "id": "bG1xKno1cexq"
      },
      "source": [
        "I don't think the model performance would increase a lot!\n"
      ]
    },
    {
      "cell_type": "code",
      "metadata": {
        "colab": {
          "base_uri": "https://localhost:8080/"
        },
        "id": "YPWIVg3riTbj",
        "outputId": "af41cb4d-6b78-4b24-a563-f1c03a71baff"
      },
      "source": [
        "print(model_v4.evaluate(x_train, y_train))\n",
        "print(model_v4.evaluate(x_val, y_val))\n",
        "print(model_v4.evaluate(x_test, y_test))"
      ],
      "execution_count": null,
      "outputs": [
        {
          "output_type": "stream",
          "text": [
            "1407/1407 [==============================] - 37s 26ms/step - loss: 1.0884 - accuracy: 0.6908\n",
            "[1.0884264707565308, 0.6907555460929871]\n",
            "157/157 [==============================] - 4s 25ms/step - loss: 1.7444 - accuracy: 0.5906\n",
            "[1.7443667650222778, 0.5906000137329102]\n",
            "313/313 [==============================] - 8s 26ms/step - loss: 1.7416 - accuracy: 0.5899\n",
            "[1.7415741682052612, 0.589900016784668]\n"
          ],
          "name": "stdout"
        }
      ]
    },
    {
      "cell_type": "code",
      "metadata": {
        "colab": {
          "base_uri": "https://localhost:8080/"
        },
        "id": "qCrMp74rjdIc",
        "outputId": "9d543d95-c5a0-4955-b90b-7e51a4477cd1"
      },
      "source": [
        "model_v4.predict(x_val)"
      ],
      "execution_count": null,
      "outputs": [
        {
          "output_type": "execute_result",
          "data": {
            "text/plain": [
              "array([[7.9302734e-04, 3.6120213e-07, 1.6123256e-01, ..., 5.1609182e-01,\n",
              "        7.6492826e-05, 5.7101748e-05],\n",
              "       [1.5398591e-04, 1.4511992e-14, 9.9982339e-01, ..., 2.4489715e-09,\n",
              "        9.6592160e-08, 4.6667704e-11],\n",
              "       [6.2230754e-07, 2.6554823e-09, 1.3768608e-03, ..., 7.6361910e-05,\n",
              "        9.2429325e-08, 1.2336974e-08],\n",
              "       ...,\n",
              "       [2.3030871e-05, 9.1526671e-09, 6.5795571e-01, ..., 8.0747023e-04,\n",
              "        8.4675266e-06, 9.9379840e-06],\n",
              "       [4.3883656e-06, 9.4584157e-06, 2.2239961e-04, ..., 8.2031917e-04,\n",
              "        3.4121683e-08, 1.4438327e-05],\n",
              "       [5.8457241e-05, 1.0821937e-02, 1.6425754e-12, ..., 1.0808789e-11,\n",
              "        4.1890729e-05, 9.8907781e-01]], dtype=float32)"
            ]
          },
          "metadata": {
            "tags": []
          },
          "execution_count": 163
        }
      ]
    },
    {
      "cell_type": "markdown",
      "metadata": {
        "id": "SKS6Zp0SizLZ"
      },
      "source": [
        "## Baseline - Two Conv Layers - No Dense Layers - 36.01%\n",
        "\n",
        "*   List item\n",
        "*   List item\n",
        "\n",
        "\n"
      ]
    },
    {
      "cell_type": "code",
      "metadata": {
        "id": "ik3gGWouizLc"
      },
      "source": [
        "from tensorflow.keras import layers"
      ],
      "execution_count": null,
      "outputs": []
    },
    {
      "cell_type": "code",
      "metadata": {
        "id": "BGYNUE3aizLf"
      },
      "source": [
        "def IC_Layer(inputs, p = 0.5):\n",
        "    x = layers.BatchNormalization()(inputs)\n",
        "    x = layers.Dropout(p)(inputs)\n",
        "    return x"
      ],
      "execution_count": null,
      "outputs": []
    },
    {
      "cell_type": "code",
      "metadata": {
        "id": "sRf3Xks5izLi"
      },
      "source": [
        "def CNN_C2D1(classes=10):\n",
        "    CNN_input = keras.Input(shape =(32,32,3), \n",
        "                            name = 'CNN_Input')\n",
        "    x = layers.BatchNormalization()(CNN_input)\n",
        "    x = layers.Conv2D(filters = 32,\n",
        "                      kernel_size = (3,3),\n",
        "                      strides = 1, \n",
        "                      padding = 'same', \n",
        "                      name = 'Conv2d_32')(CNN_input)\n",
        "    x = keras.layers.Activation('elu',\n",
        "                                name = 'ELU_32')(x)\n",
        "    \n",
        "    x = layers.BatchNormalization()(x)\n",
        "    x = layers.Dropout(0.5)(x)\n",
        "    x = keras.layers.Conv2D(filters = 64,\n",
        "                            kernel_size = (3,3),\n",
        "                            name = 'Conv2d_64')(x)\n",
        "    x = keras.layers.Activation('elu',\n",
        "                                name = 'ELU_64_1')(x)\n",
        "    x = keras.layers.MaxPool2D(pool_size= (2,2),\n",
        "                               name = 'MaxPool_1')(x)\n",
        "    x = keras.layers.Dropout(0.25,\n",
        "                             name = 'Dropout_Conv2D')(x)\n",
        "\n",
        "    x = keras.layers.Flatten(name = 'Flatten')(x)\n",
        "    # x = keras.layers.Dense(128, \n",
        "    #                        name = 'Dense_128')(x)\n",
        "    # x = keras.layers.Activation('elu',\n",
        "    #                             name = 'ELU_128')(x)\n",
        "    # x = keras.layers.Dropout(0.5,\n",
        "                            #  name = 'Dropout_Dense')(x)\n",
        "    x = keras.layers.Dense(classes,\n",
        "                           name = 'Dense_10')(x)\n",
        "    CNN_output = keras.layers.Activation('softmax',\n",
        "                                         name = 'Softmax_10')(x)\n",
        "    model = keras.Model(inputs = CNN_input, \n",
        "                        outputs = CNN_output, \n",
        "                        name = 'CNN_C32_C64_D0')\n",
        "\n",
        "    return model\n"
      ],
      "execution_count": null,
      "outputs": []
    },
    {
      "cell_type": "code",
      "metadata": {
        "colab": {
          "base_uri": "https://localhost:8080/"
        },
        "id": "NXPPOkBhizLk",
        "outputId": "bbff9a82-6e73-4b6d-f707-1ff51ef4bc4c"
      },
      "source": [
        "model_temp = CNN_C2D1()\n",
        "model_temp.compile(loss = 'categorical_crossentropy',\n",
        "                 optimizer = keras.optimizers.Adam(),\n",
        "                 metrics = ['accuracy'])\n",
        "model_temp.summary()"
      ],
      "execution_count": null,
      "outputs": [
        {
          "output_type": "stream",
          "text": [
            "Model: \"CNN_C32_C64_D0\"\n",
            "_________________________________________________________________\n",
            "Layer (type)                 Output Shape              Param #   \n",
            "=================================================================\n",
            "CNN_Input (InputLayer)       [(None, 32, 32, 3)]       0         \n",
            "_________________________________________________________________\n",
            "Conv2d_32 (Conv2D)           (None, 32, 32, 32)        896       \n",
            "_________________________________________________________________\n",
            "ELU_32 (Activation)          (None, 32, 32, 32)        0         \n",
            "_________________________________________________________________\n",
            "batch_normalization_24 (Batc (None, 32, 32, 32)        128       \n",
            "_________________________________________________________________\n",
            "dropout_19 (Dropout)         (None, 32, 32, 32)        0         \n",
            "_________________________________________________________________\n",
            "Conv2d_64 (Conv2D)           (None, 30, 30, 64)        18496     \n",
            "_________________________________________________________________\n",
            "ELU_64_1 (Activation)        (None, 30, 30, 64)        0         \n",
            "_________________________________________________________________\n",
            "MaxPool_1 (MaxPooling2D)     (None, 15, 15, 64)        0         \n",
            "_________________________________________________________________\n",
            "Dropout_Conv2D (Dropout)     (None, 15, 15, 64)        0         \n",
            "_________________________________________________________________\n",
            "Flatten (Flatten)            (None, 14400)             0         \n",
            "_________________________________________________________________\n",
            "Dense_10 (Dense)             (None, 10)                144010    \n",
            "_________________________________________________________________\n",
            "Softmax_10 (Activation)      (None, 10)                0         \n",
            "=================================================================\n",
            "Total params: 163,530\n",
            "Trainable params: 163,466\n",
            "Non-trainable params: 64\n",
            "_________________________________________________________________\n"
          ],
          "name": "stdout"
        }
      ]
    },
    {
      "cell_type": "code",
      "metadata": {
        "colab": {
          "base_uri": "https://localhost:8080/",
          "height": 35
        },
        "id": "kyVJndqfjtyr",
        "outputId": "464cd6dc-5b90-4f12-bcc6-d5c861a08c18"
      },
      "source": [
        "model_temp.name"
      ],
      "execution_count": null,
      "outputs": [
        {
          "output_type": "execute_result",
          "data": {
            "application/vnd.google.colaboratory.intrinsic+json": {
              "type": "string"
            },
            "text/plain": [
              "'CNN_C32_C64_D0'"
            ]
          },
          "metadata": {
            "tags": []
          },
          "execution_count": 184
        }
      ]
    },
    {
      "cell_type": "code",
      "metadata": {
        "id": "nhHVaHluizLo"
      },
      "source": [
        "my_callbacks = [keras.callbacks.ModelCheckpoint(filepath = 'CNN_C32_C64_D128.hdf5',\n",
        "                                                monitor = 'val_loss',\n",
        "                                                mode = 'min',\n",
        "                                                save_best_only = True,\n",
        "                                                save_weights_only = True,\n",
        "                                                verbose = 2),\n",
        "                keras.callbacks.EarlyStopping(monitor = 'val_loss',\n",
        "                                              patience = 7,\n",
        "                                              verbose = 0,\n",
        "                                              restore_best_weights = True)\n",
        "                ]"
      ],
      "execution_count": null,
      "outputs": []
    },
    {
      "cell_type": "code",
      "metadata": {
        "colab": {
          "base_uri": "https://localhost:8080/"
        },
        "id": "vSCLlx1CizLq",
        "outputId": "4874d0ae-b604-4056-d33b-263a9799a0c1"
      },
      "source": [
        "# Approx: 2min 48s per epoch! for C32, C64 and D64 - 173s\n",
        "# For No Dense Layers: Time: 177s. As if the Dense layers didn't\n",
        "history_temp = model_temp.fit(x_train, y_train, \n",
        "                       batch_size = 32,\n",
        "                       epochs = 5,\n",
        "                       validation_data = (x_val, y_val),\n",
        "                       callbacks = my_callbacks\n",
        "                       )"
      ],
      "execution_count": null,
      "outputs": [
        {
          "output_type": "stream",
          "text": [
            "Epoch 1/5\n",
            "1407/1407 [==============================] - 177s 125ms/step - loss: 2.3015 - accuracy: 0.3569 - val_loss: 2.8812 - val_accuracy: 0.2198\n",
            "\n",
            "Epoch 00001: val_loss improved from inf to 2.88124, saving model to CNN_C32_C64_D128.hdf5\n",
            "Epoch 2/5\n",
            "1407/1407 [==============================] - 176s 125ms/step - loss: 1.2827 - accuracy: 0.5605 - val_loss: 1.6664 - val_accuracy: 0.4490\n",
            "\n",
            "Epoch 00002: val_loss improved from 2.88124 to 1.66639, saving model to CNN_C32_C64_D128.hdf5\n",
            "Epoch 3/5\n",
            "1407/1407 [==============================] - 175s 124ms/step - loss: 1.1531 - accuracy: 0.6015 - val_loss: 1.6484 - val_accuracy: 0.4630\n",
            "\n",
            "Epoch 00003: val_loss improved from 1.66639 to 1.64840, saving model to CNN_C32_C64_D128.hdf5\n",
            "Epoch 4/5\n",
            "1407/1407 [==============================] - 175s 124ms/step - loss: 1.0908 - accuracy: 0.6242 - val_loss: 1.7457 - val_accuracy: 0.4694\n",
            "\n",
            "Epoch 00004: val_loss did not improve from 1.64840\n",
            "Epoch 5/5\n",
            "1407/1407 [==============================] - 175s 124ms/step - loss: 1.0479 - accuracy: 0.6360 - val_loss: 1.9435 - val_accuracy: 0.4116\n",
            "\n",
            "Epoch 00005: val_loss did not improve from 1.64840\n"
          ],
          "name": "stdout"
        }
      ]
    },
    {
      "cell_type": "markdown",
      "metadata": {
        "id": "HsIPY7JXizLt"
      },
      "source": [
        ""
      ]
    },
    {
      "cell_type": "code",
      "metadata": {
        "colab": {
          "base_uri": "https://localhost:8080/",
          "height": 281
        },
        "id": "i2fjQD1NizLw",
        "outputId": "eadca9c0-d2f6-4556-99b7-9e57bc2583b2"
      },
      "source": [
        "plot_perf(history_temp.history)"
      ],
      "execution_count": null,
      "outputs": [
        {
          "output_type": "display_data",
          "data": {
            "image/png": "[encoded data removed]",
            "text/plain": [
              "<Figure size 432x288 with 2 Axes>"
            ]
          },
          "metadata": {
            "tags": [],
            "needs_background": "dark"
          }
        }
      ]
    },
    {
      "cell_type": "code",
      "metadata": {
        "colab": {
          "base_uri": "https://localhost:8080/"
        },
        "id": "4sCtJWBeizLy",
        "outputId": "bb1d0796-52e1-4ac4-ef46-ddd36312a305"
      },
      "source": [
        "# Training for another 10 epochs!\n",
        "# Approx: 2min 48s per epoch! for C32, C64 and D64 - 173s\n",
        "\n",
        "history_tempv2 = model_temp.fit(x_train, y_train, \n",
        "                       batch_size = 32,\n",
        "                       epochs = 10,\n",
        "                       validation_data = (x_val, y_val),\n",
        "                       callbacks = my_callbacks\n",
        "                       )"
      ],
      "execution_count": null,
      "outputs": [
        {
          "output_type": "stream",
          "text": [
            "Epoch 1/10\n",
            "1407/1407 [==============================] - 174s 124ms/step - loss: 1.0346 - accuracy: 0.6412 - val_loss: 1.8170 - val_accuracy: 0.4342\n",
            "\n",
            "Epoch 00001: val_loss did not improve from 1.64840\n",
            "Epoch 2/10\n",
            "1407/1407 [==============================] - 175s 125ms/step - loss: 1.0064 - accuracy: 0.6498 - val_loss: 2.0390 - val_accuracy: 0.4326\n",
            "\n",
            "Epoch 00002: val_loss did not improve from 1.64840\n",
            "Epoch 3/10\n",
            "1407/1407 [==============================] - 176s 125ms/step - loss: 0.9822 - accuracy: 0.6600 - val_loss: 1.9940 - val_accuracy: 0.4196\n",
            "\n",
            "Epoch 00003: val_loss did not improve from 1.64840\n",
            "Epoch 4/10\n",
            "1407/1407 [==============================] - 177s 125ms/step - loss: 0.9598 - accuracy: 0.6673 - val_loss: 1.8383 - val_accuracy: 0.4388\n",
            "\n",
            "Epoch 00004: val_loss did not improve from 1.64840\n",
            "Epoch 5/10\n",
            "1407/1407 [==============================] - 177s 125ms/step - loss: 0.9441 - accuracy: 0.6740 - val_loss: 1.9905 - val_accuracy: 0.4442\n",
            "\n",
            "Epoch 00005: val_loss did not improve from 1.64840\n",
            "Epoch 6/10\n",
            "1407/1407 [==============================] - 176s 125ms/step - loss: 0.9273 - accuracy: 0.6778 - val_loss: 1.8268 - val_accuracy: 0.4634\n",
            "\n",
            "Epoch 00006: val_loss did not improve from 1.64840\n",
            "Epoch 7/10\n",
            "1407/1407 [==============================] - 177s 126ms/step - loss: 0.9083 - accuracy: 0.6854 - val_loss: 1.7667 - val_accuracy: 0.4592\n",
            "\n",
            "Epoch 00007: val_loss did not improve from 1.64840\n",
            "Epoch 8/10\n",
            "1407/1407 [==============================] - 176s 125ms/step - loss: 0.8999 - accuracy: 0.6868 - val_loss: 2.0729 - val_accuracy: 0.4274\n",
            "\n",
            "Epoch 00008: val_loss did not improve from 1.64840\n",
            "Epoch 9/10\n",
            "1407/1407 [==============================] - 176s 125ms/step - loss: 0.8842 - accuracy: 0.6941 - val_loss: 2.0565 - val_accuracy: 0.4324\n",
            "\n",
            "Epoch 00009: val_loss did not improve from 1.64840\n",
            "Epoch 10/10\n",
            "1407/1407 [==============================] - 176s 125ms/step - loss: 0.8743 - accuracy: 0.6964 - val_loss: 2.4523 - val_accuracy: 0.3688\n",
            "\n",
            "Epoch 00010: val_loss did not improve from 1.64840\n"
          ],
          "name": "stdout"
        }
      ]
    },
    {
      "cell_type": "code",
      "metadata": {
        "colab": {
          "base_uri": "https://localhost:8080/",
          "height": 281
        },
        "id": "gSikcLEIizLz",
        "outputId": "27bebca7-8850-42d6-e782-22d5e1bdc035"
      },
      "source": [
        "plot_perf(history_tempv2.history)"
      ],
      "execution_count": null,
      "outputs": [
        {
          "output_type": "display_data",
          "data": {
            "image/png": "[encoded data removed]",
            "text/plain": [
              "<Figure size 432x288 with 2 Axes>"
            ]
          },
          "metadata": {
            "tags": [],
            "needs_background": "dark"
          }
        }
      ]
    },
    {
      "cell_type": "markdown",
      "metadata": {
        "id": "g5aUvL8dizL1"
      },
      "source": [
        "I don't think the model performance would increase a lot!\n"
      ]
    },
    {
      "cell_type": "code",
      "metadata": {
        "colab": {
          "base_uri": "https://localhost:8080/"
        },
        "id": "5yqn5IX7izL2",
        "outputId": "6e301431-e676-4589-ac85-bcdb1f104445"
      },
      "source": [
        "print(model_temp.evaluate(x_train, y_train))\n",
        "print(model_temp.evaluate(x_val, y_val))\n",
        "print(model_temp.evaluate(x_test, y_test))"
      ],
      "execution_count": null,
      "outputs": [
        {
          "output_type": "stream",
          "text": [
            "1407/1407 [==============================] - 39s 28ms/step - loss: 2.1678 - accuracy: 0.3958\n",
            "[2.1678149700164795, 0.395844429731369]\n",
            "157/157 [==============================] - 4s 28ms/step - loss: 2.4523 - accuracy: 0.3688\n",
            "[2.4522666931152344, 0.36880001425743103]\n",
            "313/313 [==============================] - 9s 28ms/step - loss: 2.5078 - accuracy: 0.3601\n",
            "[2.5078065395355225, 0.36010000109672546]\n"
          ],
          "name": "stdout"
        }
      ]
    },
    {
      "cell_type": "markdown",
      "metadata": {
        "id": "S_leHnL1hwck"
      },
      "source": [
        "## The performance if we increase the Dense Layers!\n",
        "### Not Much Improvement\n",
        "\n"
      ]
    },
    {
      "cell_type": "markdown",
      "metadata": {
        "id": "Rj35qgjHZKSo"
      },
      "source": [
        "## Best Model: Test Acc: 68%"
      ]
    },
    {
      "cell_type": "code",
      "metadata": {
        "id": "BSknRt06y0pY"
      },
      "source": [
        "from tensorflow.keras import layers"
      ],
      "execution_count": null,
      "outputs": []
    },
    {
      "cell_type": "code",
      "metadata": {
        "id": "R63l-A6-y0pd"
      },
      "source": [
        "def CNN_C2D2_v1(classes=10):\n",
        "    CNN_input = keras.Input(shape =(32,32,3), \n",
        "                            name = 'CNN_Input')\n",
        "    x = layers.Conv2D(filters = 32,\n",
        "                      kernel_size = (3,3),\n",
        "                      strides = 1, \n",
        "                      padding = 'same', \n",
        "                      name = 'Conv2d_32')(CNN_input)\n",
        "    x = layers.BatchNormalization()(x)\n",
        "    x = keras.activations.elu(x,\n",
        "                              name = 'ELU_32')\n",
        "    \n",
        "    x = keras.layers.Conv2D(filters = 32,\n",
        "                            kernel_size = (3,3),\n",
        "                            name = 'Conv2d_64')(x)\n",
        "    x = layers.BatchNormalization()(x)                        \n",
        "    x = keras.layers.Activation('elu',\n",
        "                                name = 'ELU_64')(x)\n",
        "\n",
        "    x = keras.layers.MaxPool2D(pool_size= (2,2),\n",
        "                               name = 'MaxPool_1')(x)\n",
        "    x = keras.layers.Dropout(0.25,\n",
        "                             name = 'Dropout_Conv2D')(x) # Is this necessary?\n",
        "\n",
        "    x = keras.layers.Flatten(name = 'Flatten')(x)\n",
        "    x = keras.layers.Dense(64, name = 'Dense_64')(x)\n",
        "    x = keras.layers.Activation('elu',\n",
        "                                name = 'ELU_Dense64')(x)\n",
        "    x = keras.layers.Dropout(0.5,\n",
        "                             name = 'Dropout_64')(x)\n",
        "    # x = keras.layers.Dense(16,\n",
        "    #                        name = 'Dense_32')(x)\n",
        "    # x = keras.layers.Dropout(0.5,\n",
        "    #                          name = 'Dropout_32')(x)\n",
        "    x = keras.layers.Dense(classes,\n",
        "                           name = 'Dense_10')(x)\n",
        "\n",
        "    CNN_output = keras.layers.Activation('softmax',\n",
        "                                         name = 'Softmax_10')(x)\n",
        "    model = keras.Model(inputs = CNN_input, \n",
        "                        outputs = CNN_output, \n",
        "                        name = 'CNN_C32_C32_D64')\n",
        "\n",
        "    return model\n"
      ],
      "execution_count": null,
      "outputs": []
    },
    {
      "cell_type": "code",
      "metadata": {
        "colab": {
          "base_uri": "https://localhost:8080/"
        },
        "id": "dP_j-71Vy0pf",
        "outputId": "6bc40e80-24b5-4146-8c02-cf957b503ddc"
      },
      "source": [
        "model_v4 = CNN_C2D2_v1()\n",
        "model_v4.compile(loss = 'categorical_crossentropy',\n",
        "                 optimizer = keras.optimizers.Adam(),\n",
        "                 metrics = ['accuracy'])\n",
        "model_v4.summary()"
      ],
      "execution_count": null,
      "outputs": [
        {
          "output_type": "stream",
          "text": [
            "Model: \"CNN_C32_C32_D64\"\n",
            "_________________________________________________________________\n",
            "Layer (type)                 Output Shape              Param #   \n",
            "=================================================================\n",
            "CNN_Input (InputLayer)       [(None, 32, 32, 3)]       0         \n",
            "_________________________________________________________________\n",
            "Conv2d_32 (Conv2D)           (None, 32, 32, 32)        896       \n",
            "_________________________________________________________________\n",
            "batch_normalization_31 (Batc (None, 32, 32, 32)        128       \n",
            "_________________________________________________________________\n",
            "tf.keras.activations.elu_26  (None, 32, 32, 32)        0         \n",
            "_________________________________________________________________\n",
            "Conv2d_64 (Conv2D)           (None, 30, 30, 32)        9248      \n",
            "_________________________________________________________________\n",
            "batch_normalization_32 (Batc (None, 30, 30, 32)        128       \n",
            "_________________________________________________________________\n",
            "ELU_64 (Activation)          (None, 30, 30, 32)        0         \n",
            "_________________________________________________________________\n",
            "MaxPool_1 (MaxPooling2D)     (None, 15, 15, 32)        0         \n",
            "_________________________________________________________________\n",
            "Dropout_Conv2D (Dropout)     (None, 15, 15, 32)        0         \n",
            "_________________________________________________________________\n",
            "Flatten (Flatten)            (None, 7200)              0         \n",
            "_________________________________________________________________\n",
            "Dense_64 (Dense)             (None, 64)                460864    \n",
            "_________________________________________________________________\n",
            "ELU_Dense64 (Activation)     (None, 64)                0         \n",
            "_________________________________________________________________\n",
            "Dropout_64 (Dropout)         (None, 64)                0         \n",
            "_________________________________________________________________\n",
            "Dense_10 (Dense)             (None, 10)                650       \n",
            "_________________________________________________________________\n",
            "Softmax_10 (Activation)      (None, 10)                0         \n",
            "=================================================================\n",
            "Total params: 471,914\n",
            "Trainable params: 471,786\n",
            "Non-trainable params: 128\n",
            "_________________________________________________________________\n"
          ],
          "name": "stdout"
        }
      ]
    },
    {
      "cell_type": "code",
      "metadata": {
        "id": "uBBtbu0qy0pm"
      },
      "source": [
        "my_callbacks = [keras.callbacks.ModelCheckpoint(filepath = 'CNN_C2D2_v4_acc_{val_accuracy:.2f}.hdf5',\n",
        "                                                monitor = 'val_loss',\n",
        "                                                mode = 'min',\n",
        "                                                save_best_only = True,\n",
        "                                                save_weights_only = True,\n",
        "                                                verbose = 2),\n",
        "                keras.callbacks.EarlyStopping(monitor = 'val_loss',\n",
        "                                              patience = 7,\n",
        "                                              verbose = 2,\n",
        "                                              restore_best_weights = True),\n",
        "                keras.callbacks.ReduceLROnPlateau(factor = 0.5,\n",
        "                                                  patience = 7)\n",
        "                ]"
      ],
      "execution_count": null,
      "outputs": []
    },
    {
      "cell_type": "code",
      "metadata": {
        "colab": {
          "base_uri": "https://localhost:8080/"
        },
        "id": "HF-ZgxD2y0pp",
        "outputId": "934a0881-d9c1-4549-f77c-b41e3da6a331"
      },
      "source": [
        "# Approx: 2min 48s per epoch! for C32, C64 and D64 and D16 - 141s\n",
        "\n",
        "history_temp = model_v4.fit(x_train, y_train, \n",
        "                       batch_size = 32,\n",
        "                       epochs = 10,\n",
        "                       validation_data = (x_val, y_val),\n",
        "                       callbacks = my_callbacks\n",
        "                       )"
      ],
      "execution_count": null,
      "outputs": [
        {
          "output_type": "stream",
          "text": [
            "Epoch 1/10\n",
            "1407/1407 [==============================] - 141s 100ms/step - loss: 1.9665 - accuracy: 0.3161 - val_loss: 1.3674 - val_accuracy: 0.5044\n",
            "\n",
            "Epoch 00001: val_loss improved from inf to 1.36742, saving model to CNN_C2D2_v4_acc_0.50.hdf5\n",
            "Epoch 2/10\n",
            "1407/1407 [==============================] - 141s 100ms/step - loss: 1.3877 - accuracy: 0.4993 - val_loss: 1.3021 - val_accuracy: 0.5388\n",
            "\n",
            "Epoch 00002: val_loss improved from 1.36742 to 1.30211, saving model to CNN_C2D2_v4_acc_0.54.hdf5\n",
            "Epoch 3/10\n",
            "1407/1407 [==============================] - 140s 100ms/step - loss: 1.2083 - accuracy: 0.5743 - val_loss: 1.0244 - val_accuracy: 0.6342\n",
            "\n",
            "Epoch 00003: val_loss improved from 1.30211 to 1.02441, saving model to CNN_C2D2_v4_acc_0.63.hdf5\n",
            "Epoch 4/10\n",
            "1407/1407 [==============================] - 141s 100ms/step - loss: 1.1183 - accuracy: 0.6044 - val_loss: 0.9755 - val_accuracy: 0.6470\n",
            "\n",
            "Epoch 00004: val_loss improved from 1.02441 to 0.97548, saving model to CNN_C2D2_v4_acc_0.65.hdf5\n",
            "Epoch 5/10\n",
            "1407/1407 [==============================] - 140s 99ms/step - loss: 1.0634 - accuracy: 0.6267 - val_loss: 1.0010 - val_accuracy: 0.6444\n",
            "\n",
            "Epoch 00005: val_loss did not improve from 0.97548\n",
            "Epoch 6/10\n",
            "1407/1407 [==============================] - 140s 100ms/step - loss: 1.0142 - accuracy: 0.6449 - val_loss: 1.0638 - val_accuracy: 0.6196\n",
            "\n",
            "Epoch 00006: val_loss did not improve from 0.97548\n",
            "Epoch 7/10\n",
            "1407/1407 [==============================] - 140s 99ms/step - loss: 0.9712 - accuracy: 0.6589 - val_loss: 1.0192 - val_accuracy: 0.6302\n",
            "\n",
            "Epoch 00007: val_loss did not improve from 0.97548\n",
            "Epoch 8/10\n",
            "1407/1407 [==============================] - 140s 99ms/step - loss: 0.9444 - accuracy: 0.6648 - val_loss: 0.9441 - val_accuracy: 0.6636\n",
            "\n",
            "Epoch 00008: val_loss improved from 0.97548 to 0.94409, saving model to CNN_C2D2_v4_acc_0.66.hdf5\n",
            "Epoch 9/10\n",
            "1407/1407 [==============================] - 140s 100ms/step - loss: 0.9132 - accuracy: 0.6770 - val_loss: 0.9182 - val_accuracy: 0.6724\n",
            "\n",
            "Epoch 00009: val_loss improved from 0.94409 to 0.91822, saving model to CNN_C2D2_v4_acc_0.67.hdf5\n",
            "Epoch 10/10\n",
            "1407/1407 [==============================] - 140s 100ms/step - loss: 0.8879 - accuracy: 0.6863 - val_loss: 0.9507 - val_accuracy: 0.6684\n",
            "\n",
            "Epoch 00010: val_loss did not improve from 0.91822\n"
          ],
          "name": "stdout"
        }
      ]
    },
    {
      "cell_type": "markdown",
      "metadata": {
        "id": "e6dzRjq6y0pq"
      },
      "source": [
        ""
      ]
    },
    {
      "cell_type": "code",
      "metadata": {
        "colab": {
          "base_uri": "https://localhost:8080/",
          "height": 461
        },
        "id": "Ohbv4jMcy0ps",
        "outputId": "824d9c49-3b12-49fc-f915-9b5034f25374"
      },
      "source": [
        "history = history_temp.history\n",
        "import matplotlib.pyplot as plt\n",
        "plt.figure(figsize = (7,7))\n",
        "plt.plot(history['accuracy'], c = 'b', label = 'train_accuracy')\n",
        "plt.plot(history['val_accuracy'], c = 'orange' , label = 'val_accuracy')\n",
        "plt.xticks(c = 'c')\n",
        "plt.yticks(c = 'c')\n",
        "plt.xlim([0, 10])\n",
        "plt.ylim([0.4, 0.8])\n",
        "plt.title('Baseline - C2D64', c = 'orange')\n",
        "plt.legend()\n"
      ],
      "execution_count": null,
      "outputs": [
        {
          "output_type": "execute_result",
          "data": {
            "text/plain": [
              "<matplotlib.legend.Legend at 0x7fa3b233f748>"
            ]
          },
          "metadata": {
            "tags": []
          },
          "execution_count": 239
        },
        {
          "output_type": "display_data",
          "data": {
            "image/png": "[encoded data removed]",
            "text/plain": [
              "<Figure size 504x504 with 1 Axes>"
            ]
          },
          "metadata": {
            "tags": [],
            "needs_background": "dark"
          }
        }
      ]
    },
    {
      "cell_type": "code",
      "metadata": {
        "colab": {
          "base_uri": "https://localhost:8080/",
          "height": 461
        },
        "id": "WOwTlzS_Al1r",
        "outputId": "a6c00b21-2b94-43b2-9319-49b8a04763c6"
      },
      "source": [
        "plt.figure(figsize = (7,7))\n",
        "plt.plot(history['loss'], c = 'b', label = 'train_loss')\n",
        "plt.plot(history['val_loss'], c = 'orange' , label = 'val_loss')\n",
        "plt.xticks(c = 'c')\n",
        "plt.yticks(c = 'c')\n",
        "plt.xlim([0, 10])\n",
        "plt.title('Baseline - C2D64 - Loss')\n",
        "plt.legend()\n"
      ],
      "execution_count": null,
      "outputs": [
        {
          "output_type": "execute_result",
          "data": {
            "text/plain": [
              "<matplotlib.legend.Legend at 0x7fa3b7594f28>"
            ]
          },
          "metadata": {
            "tags": []
          },
          "execution_count": 240
        },
        {
          "output_type": "display_data",
          "data": {
            "image/png": "[encoded data removed]",
            "text/plain": [
              "<Figure size 504x504 with 1 Axes>"
            ]
          },
          "metadata": {
            "tags": [],
            "needs_background": "dark"
          }
        }
      ]
    },
    {
      "cell_type": "code",
      "metadata": {
        "colab": {
          "base_uri": "https://localhost:8080/"
        },
        "id": "Xi9Spt4Yy0px",
        "outputId": "a60e227e-c1f0-498f-b7e2-64aeaf98a670"
      },
      "source": [
        "print(model_v4.evaluate(x_train, y_train))\n",
        "print(model_v4.evaluate(x_val, y_val))\n",
        "print(model_v4.evaluate(x_test, y_test))"
      ],
      "execution_count": null,
      "outputs": [
        {
          "output_type": "stream",
          "text": [
            "1407/1407 [==============================] - 31s 22ms/step - loss: 0.6271 - accuracy: 0.7827\n",
            "[0.6271215677261353, 0.7827110886573792]\n",
            "157/157 [==============================] - 4s 23ms/step - loss: 0.9507 - accuracy: 0.6684\n",
            "[0.95071941614151, 0.66839998960495]\n",
            "313/313 [==============================] - 7s 23ms/step - loss: 0.9693 - accuracy: 0.6629\n",
            "[0.9693080186843872, 0.6628999710083008]\n"
          ],
          "name": "stdout"
        }
      ]
    },
    {
      "cell_type": "code",
      "metadata": {
        "colab": {
          "base_uri": "https://localhost:8080/",
          "height": 488
        },
        "id": "-Efsq9eLDZAe",
        "outputId": "fe8660bd-1919-4cb7-e48d-199e555e6e56"
      },
      "source": [
        "# Approx: 2min 48s per epoch! for C32, C64 and D64 and D16 - 141s\n",
        "# Ran it for 15 + 10: Val loss didn't improve\n",
        "# For 15 more epochs! Val loss didn't improve. Need to have learning rate schedule.\n",
        "history_temp_v2 = model_v4.fit(x_train, y_train, \n",
        "                       batch_size = 32,\n",
        "                       epochs = 10,\n",
        "                       validation_data = (x_val, y_val),\n",
        "                       callbacks = my_callbacks\n",
        "                       )"
      ],
      "execution_count": null,
      "outputs": [
        {
          "output_type": "stream",
          "text": [
            "Epoch 1/10\n",
            " 495/1407 [=========>....................] - ETA: 1:29 - loss: 0.8370 - accuracy: 0.6992"
          ],
          "name": "stdout"
        },
        {
          "output_type": "error",
          "ename": "KeyboardInterrupt",
          "evalue": "ignored",
          "traceback": [
            "\u001b[0;31m---------------------------------------------------------------------------\u001b[0m",
            "\u001b[0;31mKeyboardInterrupt\u001b[0m                         Traceback (most recent call last)",
            "\u001b[0;32m<ipython-input-242-aa93c0ca6e2c>\u001b[0m in \u001b[0;36m<module>\u001b[0;34m()\u001b[0m\n\u001b[1;32m      6\u001b[0m                        \u001b[0mepochs\u001b[0m \u001b[0;34m=\u001b[0m \u001b[0;36m10\u001b[0m\u001b[0;34m,\u001b[0m\u001b[0;34m\u001b[0m\u001b[0;34m\u001b[0m\u001b[0m\n\u001b[1;32m      7\u001b[0m                        \u001b[0mvalidation_data\u001b[0m \u001b[0;34m=\u001b[0m \u001b[0;34m(\u001b[0m\u001b[0mx_val\u001b[0m\u001b[0;34m,\u001b[0m \u001b[0my_val\u001b[0m\u001b[0;34m)\u001b[0m\u001b[0;34m,\u001b[0m\u001b[0;34m\u001b[0m\u001b[0;34m\u001b[0m\u001b[0m\n\u001b[0;32m----> 8\u001b[0;31m                        \u001b[0mcallbacks\u001b[0m \u001b[0;34m=\u001b[0m \u001b[0mmy_callbacks\u001b[0m\u001b[0;34m\u001b[0m\u001b[0;34m\u001b[0m\u001b[0m\n\u001b[0m\u001b[1;32m      9\u001b[0m                        )\n",
            "\u001b[0;32m/usr/local/lib/python3.6/dist-packages/tensorflow/python/keras/engine/training.py\u001b[0m in \u001b[0;36mfit\u001b[0;34m(self, x, y, batch_size, epochs, verbose, callbacks, validation_split, validation_data, shuffle, class_weight, sample_weight, initial_epoch, steps_per_epoch, validation_steps, validation_batch_size, validation_freq, max_queue_size, workers, use_multiprocessing)\u001b[0m\n\u001b[1;32m   1098\u001b[0m                 _r=1):\n\u001b[1;32m   1099\u001b[0m               \u001b[0mcallbacks\u001b[0m\u001b[0;34m.\u001b[0m\u001b[0mon_train_batch_begin\u001b[0m\u001b[0;34m(\u001b[0m\u001b[0mstep\u001b[0m\u001b[0;34m)\u001b[0m\u001b[0;34m\u001b[0m\u001b[0;34m\u001b[0m\u001b[0m\n\u001b[0;32m-> 1100\u001b[0;31m               \u001b[0mtmp_logs\u001b[0m \u001b[0;34m=\u001b[0m \u001b[0mself\u001b[0m\u001b[0;34m.\u001b[0m\u001b[0mtrain_function\u001b[0m\u001b[0;34m(\u001b[0m\u001b[0miterator\u001b[0m\u001b[0;34m)\u001b[0m\u001b[0;34m\u001b[0m\u001b[0;34m\u001b[0m\u001b[0m\n\u001b[0m\u001b[1;32m   1101\u001b[0m               \u001b[0;32mif\u001b[0m \u001b[0mdata_handler\u001b[0m\u001b[0;34m.\u001b[0m\u001b[0mshould_sync\u001b[0m\u001b[0;34m:\u001b[0m\u001b[0;34m\u001b[0m\u001b[0;34m\u001b[0m\u001b[0m\n\u001b[1;32m   1102\u001b[0m                 \u001b[0mcontext\u001b[0m\u001b[0;34m.\u001b[0m\u001b[0masync_wait\u001b[0m\u001b[0;34m(\u001b[0m\u001b[0;34m)\u001b[0m\u001b[0;34m\u001b[0m\u001b[0;34m\u001b[0m\u001b[0m\n",
            "\u001b[0;32m/usr/local/lib/python3.6/dist-packages/tensorflow/python/eager/def_function.py\u001b[0m in \u001b[0;36m__call__\u001b[0;34m(self, *args, **kwds)\u001b[0m\n\u001b[1;32m    826\u001b[0m     \u001b[0mtracing_count\u001b[0m \u001b[0;34m=\u001b[0m \u001b[0mself\u001b[0m\u001b[0;34m.\u001b[0m\u001b[0mexperimental_get_tracing_count\u001b[0m\u001b[0;34m(\u001b[0m\u001b[0;34m)\u001b[0m\u001b[0;34m\u001b[0m\u001b[0;34m\u001b[0m\u001b[0m\n\u001b[1;32m    827\u001b[0m     \u001b[0;32mwith\u001b[0m \u001b[0mtrace\u001b[0m\u001b[0;34m.\u001b[0m\u001b[0mTrace\u001b[0m\u001b[0;34m(\u001b[0m\u001b[0mself\u001b[0m\u001b[0;34m.\u001b[0m\u001b[0m_name\u001b[0m\u001b[0;34m)\u001b[0m \u001b[0;32mas\u001b[0m \u001b[0mtm\u001b[0m\u001b[0;34m:\u001b[0m\u001b[0;34m\u001b[0m\u001b[0;34m\u001b[0m\u001b[0m\n\u001b[0;32m--> 828\u001b[0;31m       \u001b[0mresult\u001b[0m \u001b[0;34m=\u001b[0m \u001b[0mself\u001b[0m\u001b[0;34m.\u001b[0m\u001b[0m_call\u001b[0m\u001b[0;34m(\u001b[0m\u001b[0;34m*\u001b[0m\u001b[0margs\u001b[0m\u001b[0;34m,\u001b[0m \u001b[0;34m**\u001b[0m\u001b[0mkwds\u001b[0m\u001b[0;34m)\u001b[0m\u001b[0;34m\u001b[0m\u001b[0;34m\u001b[0m\u001b[0m\n\u001b[0m\u001b[1;32m    829\u001b[0m       \u001b[0mcompiler\u001b[0m \u001b[0;34m=\u001b[0m \u001b[0;34m\"xla\"\u001b[0m \u001b[0;32mif\u001b[0m \u001b[0mself\u001b[0m\u001b[0;34m.\u001b[0m\u001b[0m_experimental_compile\u001b[0m \u001b[0;32melse\u001b[0m \u001b[0;34m\"nonXla\"\u001b[0m\u001b[0;34m\u001b[0m\u001b[0;34m\u001b[0m\u001b[0m\n\u001b[1;32m    830\u001b[0m       \u001b[0mnew_tracing_count\u001b[0m \u001b[0;34m=\u001b[0m \u001b[0mself\u001b[0m\u001b[0;34m.\u001b[0m\u001b[0mexperimental_get_tracing_count\u001b[0m\u001b[0;34m(\u001b[0m\u001b[0;34m)\u001b[0m\u001b[0;34m\u001b[0m\u001b[0;34m\u001b[0m\u001b[0m\n",
            "\u001b[0;32m/usr/local/lib/python3.6/dist-packages/tensorflow/python/eager/def_function.py\u001b[0m in \u001b[0;36m_call\u001b[0;34m(self, *args, **kwds)\u001b[0m\n\u001b[1;32m    853\u001b[0m       \u001b[0;31m# In this case we have created variables on the first call, so we run the\u001b[0m\u001b[0;34m\u001b[0m\u001b[0;34m\u001b[0m\u001b[0;34m\u001b[0m\u001b[0m\n\u001b[1;32m    854\u001b[0m       \u001b[0;31m# defunned version which is guaranteed to never create variables.\u001b[0m\u001b[0;34m\u001b[0m\u001b[0;34m\u001b[0m\u001b[0;34m\u001b[0m\u001b[0m\n\u001b[0;32m--> 855\u001b[0;31m       \u001b[0;32mreturn\u001b[0m \u001b[0mself\u001b[0m\u001b[0;34m.\u001b[0m\u001b[0m_stateless_fn\u001b[0m\u001b[0;34m(\u001b[0m\u001b[0;34m*\u001b[0m\u001b[0margs\u001b[0m\u001b[0;34m,\u001b[0m \u001b[0;34m**\u001b[0m\u001b[0mkwds\u001b[0m\u001b[0;34m)\u001b[0m  \u001b[0;31m# pylint: disable=not-callable\u001b[0m\u001b[0;34m\u001b[0m\u001b[0;34m\u001b[0m\u001b[0m\n\u001b[0m\u001b[1;32m    856\u001b[0m     \u001b[0;32melif\u001b[0m \u001b[0mself\u001b[0m\u001b[0;34m.\u001b[0m\u001b[0m_stateful_fn\u001b[0m \u001b[0;32mis\u001b[0m \u001b[0;32mnot\u001b[0m \u001b[0;32mNone\u001b[0m\u001b[0;34m:\u001b[0m\u001b[0;34m\u001b[0m\u001b[0;34m\u001b[0m\u001b[0m\n\u001b[1;32m    857\u001b[0m       \u001b[0;31m# Release the lock early so that multiple threads can perform the call\u001b[0m\u001b[0;34m\u001b[0m\u001b[0;34m\u001b[0m\u001b[0;34m\u001b[0m\u001b[0m\n",
            "\u001b[0;32m/usr/local/lib/python3.6/dist-packages/tensorflow/python/eager/function.py\u001b[0m in \u001b[0;36m__call__\u001b[0;34m(self, *args, **kwargs)\u001b[0m\n\u001b[1;32m   2941\u001b[0m        filtered_flat_args) = self._maybe_define_function(args, kwargs)\n\u001b[1;32m   2942\u001b[0m     return graph_function._call_flat(\n\u001b[0;32m-> 2943\u001b[0;31m         filtered_flat_args, captured_inputs=graph_function.captured_inputs)  # pylint: disable=protected-access\n\u001b[0m\u001b[1;32m   2944\u001b[0m \u001b[0;34m\u001b[0m\u001b[0m\n\u001b[1;32m   2945\u001b[0m   \u001b[0;34m@\u001b[0m\u001b[0mproperty\u001b[0m\u001b[0;34m\u001b[0m\u001b[0;34m\u001b[0m\u001b[0m\n",
            "\u001b[0;32m/usr/local/lib/python3.6/dist-packages/tensorflow/python/eager/function.py\u001b[0m in \u001b[0;36m_call_flat\u001b[0;34m(self, args, captured_inputs, cancellation_manager)\u001b[0m\n\u001b[1;32m   1917\u001b[0m       \u001b[0;31m# No tape is watching; skip to running the function.\u001b[0m\u001b[0;34m\u001b[0m\u001b[0;34m\u001b[0m\u001b[0;34m\u001b[0m\u001b[0m\n\u001b[1;32m   1918\u001b[0m       return self._build_call_outputs(self._inference_function.call(\n\u001b[0;32m-> 1919\u001b[0;31m           ctx, args, cancellation_manager=cancellation_manager))\n\u001b[0m\u001b[1;32m   1920\u001b[0m     forward_backward = self._select_forward_and_backward_functions(\n\u001b[1;32m   1921\u001b[0m         \u001b[0margs\u001b[0m\u001b[0;34m,\u001b[0m\u001b[0;34m\u001b[0m\u001b[0;34m\u001b[0m\u001b[0m\n",
            "\u001b[0;32m/usr/local/lib/python3.6/dist-packages/tensorflow/python/eager/function.py\u001b[0m in \u001b[0;36mcall\u001b[0;34m(self, ctx, args, cancellation_manager)\u001b[0m\n\u001b[1;32m    558\u001b[0m               \u001b[0minputs\u001b[0m\u001b[0;34m=\u001b[0m\u001b[0margs\u001b[0m\u001b[0;34m,\u001b[0m\u001b[0;34m\u001b[0m\u001b[0;34m\u001b[0m\u001b[0m\n\u001b[1;32m    559\u001b[0m               \u001b[0mattrs\u001b[0m\u001b[0;34m=\u001b[0m\u001b[0mattrs\u001b[0m\u001b[0;34m,\u001b[0m\u001b[0;34m\u001b[0m\u001b[0;34m\u001b[0m\u001b[0m\n\u001b[0;32m--> 560\u001b[0;31m               ctx=ctx)\n\u001b[0m\u001b[1;32m    561\u001b[0m         \u001b[0;32melse\u001b[0m\u001b[0;34m:\u001b[0m\u001b[0;34m\u001b[0m\u001b[0;34m\u001b[0m\u001b[0m\n\u001b[1;32m    562\u001b[0m           outputs = execute.execute_with_cancellation(\n",
            "\u001b[0;32m/usr/local/lib/python3.6/dist-packages/tensorflow/python/eager/execute.py\u001b[0m in \u001b[0;36mquick_execute\u001b[0;34m(op_name, num_outputs, inputs, attrs, ctx, name)\u001b[0m\n\u001b[1;32m     58\u001b[0m     \u001b[0mctx\u001b[0m\u001b[0;34m.\u001b[0m\u001b[0mensure_initialized\u001b[0m\u001b[0;34m(\u001b[0m\u001b[0;34m)\u001b[0m\u001b[0;34m\u001b[0m\u001b[0;34m\u001b[0m\u001b[0m\n\u001b[1;32m     59\u001b[0m     tensors = pywrap_tfe.TFE_Py_Execute(ctx._handle, device_name, op_name,\n\u001b[0;32m---> 60\u001b[0;31m                                         inputs, attrs, num_outputs)\n\u001b[0m\u001b[1;32m     61\u001b[0m   \u001b[0;32mexcept\u001b[0m \u001b[0mcore\u001b[0m\u001b[0;34m.\u001b[0m\u001b[0m_NotOkStatusException\u001b[0m \u001b[0;32mas\u001b[0m \u001b[0me\u001b[0m\u001b[0;34m:\u001b[0m\u001b[0;34m\u001b[0m\u001b[0;34m\u001b[0m\u001b[0m\n\u001b[1;32m     62\u001b[0m     \u001b[0;32mif\u001b[0m \u001b[0mname\u001b[0m \u001b[0;32mis\u001b[0m \u001b[0;32mnot\u001b[0m \u001b[0;32mNone\u001b[0m\u001b[0;34m:\u001b[0m\u001b[0;34m\u001b[0m\u001b[0;34m\u001b[0m\u001b[0m\n",
            "\u001b[0;31mKeyboardInterrupt\u001b[0m: "
          ]
        }
      ]
    },
    {
      "cell_type": "code",
      "metadata": {
        "id": "pjvN1H_sCpds"
      },
      "source": [
        "model_v4.save('CNN_Baseline_C2D1_v2.h5')"
      ],
      "execution_count": null,
      "outputs": []
    },
    {
      "cell_type": "markdown",
      "metadata": {
        "id": "v88I-Z7TCoBU"
      },
      "source": [
        ""
      ]
    },
    {
      "cell_type": "markdown",
      "metadata": {
        "id": "KNaZiwMiCUJu"
      },
      "source": [
        ""
      ]
    },
    {
      "cell_type": "code",
      "metadata": {
        "id": "8fA53LG-Cx8_"
      },
      "source": [
        "model_temp = keras.models.load_model('CNN_Baseline_C2D1.h5')"
      ],
      "execution_count": null,
      "outputs": []
    },
    {
      "cell_type": "code",
      "metadata": {
        "id": "_aFILqidDEXz"
      },
      "source": [
        ""
      ],
      "execution_count": null,
      "outputs": []
    }
  ]
}