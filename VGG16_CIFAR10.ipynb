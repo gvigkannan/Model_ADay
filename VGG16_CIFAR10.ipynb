{
  "nbformat": 4,
  "nbformat_minor": 0,
  "metadata": {
    "colab": {
      "name": "VGG16_CIFAR10.ipynb",
      "provenance": [],
      "authorship_tag": "ABX9TyPxzUPyjWDU/DJvQxfu6LfT",
      "include_colab_link": true
    },
    "kernelspec": {
      "name": "python3",
      "display_name": "Python 3"
    }
  },
  "cells": [
    {
      "cell_type": "markdown",
      "metadata": {
        "id": "view-in-github",
        "colab_type": "text"
      },
      "source": [
        "<a href=\"https://colab.research.google.com/github/gvigkannan/Model_ADay/blob/Keras/VGG16_CIFAR10.ipynb\" target=\"_parent\"><img src=\"https://colab.research.google.com/assets/colab-badge.svg\" alt=\"Open In Colab\"/></a>"
      ]
    },
    {
      "cell_type": "markdown",
      "metadata": {
        "id": "pWMhSwntYqMH"
      },
      "source": [
        "# Libraries\r\n"
      ]
    },
    {
      "cell_type": "code",
      "metadata": {
        "id": "wiINtcKnq9T-"
      },
      "source": [
        "import numpy as np\r\n",
        "import pandas as pd\r\n",
        "import matplotlib.pyplot as plt"
      ],
      "execution_count": null,
      "outputs": []
    },
    {
      "cell_type": "code",
      "metadata": {
        "id": "hcx9GSOGrG8J"
      },
      "source": [
        "import tensorflow as tf\r\n",
        "from tensorflow import keras \r\n",
        "from tensorflow.keras.datasets import cifar10\r\n",
        "from tensorflow.random import shuffle\r\n",
        "import tensorflow_addons as tfa\r\n",
        "from tensorflow.keras.utils import to_categorical"
      ],
      "execution_count": null,
      "outputs": []
    },
    {
      "cell_type": "code",
      "metadata": {
        "id": "ZovFmMhq7yAZ"
      },
      "source": [
        "# Based on the layers\r\n",
        "from tensorflow.keras import Sequential\r\n",
        "from tensorflow.keras.layers import Conv2D, Dropout, MaxPool2D\r\n",
        "from tensorflow.keras.layers import GlobalAveragePooling2D, BatchNormalization\r\n",
        "from tensorflow.keras.layers import Flatten, Dense\r\n",
        "from tensorflow.keras.optimizers import SGD"
      ],
      "execution_count": null,
      "outputs": []
    },
    {
      "cell_type": "code",
      "metadata": {
        "id": "tDnR6dfb3Lyc"
      },
      "source": [
        "# Loading dataset\r\n",
        "(x_train, y_train), (x_test, y_test) = cifar10.load_data()"
      ],
      "execution_count": null,
      "outputs": []
    },
    {
      "cell_type": "code",
      "metadata": {
        "colab": {
          "base_uri": "https://localhost:8080/"
        },
        "id": "YG6Rd1Zk3naQ",
        "outputId": "06dcddd9-417d-4395-f424-268bbbb85e05"
      },
      "source": [
        "print(x_train.shape)\r\n",
        "print(y_train.shape)"
      ],
      "execution_count": null,
      "outputs": [
        {
          "output_type": "stream",
          "text": [
            "(50000, 32, 32, 3)\n",
            "(50000, 1)\n"
          ],
          "name": "stdout"
        }
      ]
    },
    {
      "cell_type": "code",
      "metadata": {
        "colab": {
          "base_uri": "https://localhost:8080/",
          "height": 268
        },
        "id": "tWcIRuXb3q_B",
        "outputId": "056cda83-a0ba-4173-d567-13bbdea925e4"
      },
      "source": [
        "for i in range(4):\r\n",
        "    plt.subplot(220 + 1 + i)\r\n",
        "    plt.imshow(x_train[i])\r\n",
        "    "
      ],
      "execution_count": null,
      "outputs": [
        {
          "output_type": "display_data",
          "data": {
            "image/png": "[encoded data removed]",
            "text/plain": [
              "<Figure size 432x288 with 4 Axes>"
            ]
          },
          "metadata": {
            "tags": [],
            "needs_background": "light"
          }
        }
      ]
    },
    {
      "cell_type": "code",
      "metadata": {
        "id": "t9UZYAN-4UPw"
      },
      "source": [
        "def preprocess_data():\r\n",
        "    \"\"\"\r\n",
        "    Performs the following operation\r\n",
        "    1. Import dataset from keras.datasets\r\n",
        "    2. Converts targets into categorical datatype.\r\n",
        "    \"\"\"\r\n",
        "    \r\n",
        "    # Load dataset\r\n",
        "    (x_train, y_train),(x_test, y_test) = cifar10.load_data()\r\n",
        "\r\n",
        "    # One Hot Encoding\r\n",
        "    y_train = to_categorical(y_train)\r\n",
        "    y_test = to_categorical(y_test)\r\n",
        "\r\n",
        "    # Normalize\r\n",
        "    x_train = x_train.astype('float32')\r\n",
        "    x_train /= 255.0\r\n",
        "    x_test = x_test.astype('float32')\r\n",
        "    x_test /= 255.0\r\n",
        "\r\n",
        "    return x_train, y_train, x_test, y_test"
      ],
      "execution_count": null,
      "outputs": []
    },
    {
      "cell_type": "code",
      "metadata": {
        "id": "JgtH2aUj54Kx"
      },
      "source": [
        "x_train, y_train, x_test, y_test = preprocess_data()"
      ],
      "execution_count": null,
      "outputs": []
    },
    {
      "cell_type": "code",
      "metadata": {
        "id": "EeLyyhrLEEK0"
      },
      "source": [
        "def summarize(history, filename = 'VGG16'):\r\n",
        "    plt.figure(figsize = (7,7))\r\n",
        "    plt.subplot(211)\r\n",
        "    plt.title('Cross Entropy Loss', c = 'c')\r\n",
        "    plt.plot(history.history['loss'], \r\n",
        "             color = 'b',\r\n",
        "             label = 'train')\r\n",
        "    plt.plot(history.history['val_loss'],\r\n",
        "             color = 'orange',\r\n",
        "             label = 'test')\r\n",
        "    plt.xticks(c = 'g')\r\n",
        "    plt.yticks(c = 'g')\r\n",
        "    plt.legend()\r\n",
        "    plt.subplot(212)\r\n",
        "    plt.title('Classification Accuracy', c = 'c')\r\n",
        "    plt.plot(history.history['accuracy'], \r\n",
        "             color = 'b',\r\n",
        "             label = 'train')\r\n",
        "    plt.plot(history.history['val_accuracy'],\r\n",
        "             color = 'orange',\r\n",
        "             label = 'test')\r\n",
        "    plt.xticks(c = 'g')\r\n",
        "    plt.yticks(c = 'g')\r\n",
        "    plt.tight_layout(h_pad = 2)\r\n",
        "    plt.legend()\r\n",
        "    plt.savefig(filename + '_plot.png')\r\n",
        "    plt.show()\r\n"
      ],
      "execution_count": null,
      "outputs": []
    },
    {
      "cell_type": "markdown",
      "metadata": {
        "id": "Q0xpMW0YYtfi"
      },
      "source": [
        "# Model: VGG16 - Base Model\r\n",
        "* Two Convolution Layers and One Dense Layer\r\n",
        "* No regularization\r\n",
        "* For ten epochs: val_accuracy = 63% \r\n",
        "* For ten epochs: train_accuracy = 73%.\r\n",
        "* Clearly overfitting!"
      ]
    },
    {
      "cell_type": "code",
      "metadata": {
        "id": "UUyiT5dI6RGQ"
      },
      "source": [
        "# Defining a variant of VGG16 Model\r\n",
        "def VGG16_model_L2D1():\r\n",
        "    filter_size = [16,32,64,128]\r\n",
        "    model = keras.Sequential()\r\n",
        "    # First layer needs input size!\r\n",
        "    model.add(Conv2D(filters = filter_size[0],\r\n",
        "                     kernel_size = (3,3),\r\n",
        "                     activation = 'relu',\r\n",
        "                     kernel_initializer = 'he_uniform',\r\n",
        "                     padding = 'same',\r\n",
        "                     input_shape = (32, 32, 3)))\r\n",
        "    model.add(Conv2D(filters = filter_size[0],\r\n",
        "                     kernel_size = (3,3),\r\n",
        "                     activation = 'relu',\r\n",
        "                     kernel_initializer = 'he_uniform',\r\n",
        "                     padding = 'same'))\r\n",
        "    model.add(MaxPool2D(pool_size = (2,2)))\r\n",
        "    model.add(Flatten())\r\n",
        "    model.add(Dense(units = 128,\r\n",
        "                    activation = 'relu',\r\n",
        "                    kernel_initializer = 'he_uniform'))\r\n",
        "    model.add(Dense(units = 10,\r\n",
        "                    activation = 'softmax'))\r\n",
        "    \r\n",
        "    # Compiling Model\r\n",
        "    opt = SGD(lr = 0.001, momentum = 0.9)\r\n",
        "    model.compile(optimizer = opt, \r\n",
        "                  loss = 'categorical_crossentropy',\r\n",
        "                  metrics = 'accuracy')\r\n",
        "    return model"
      ],
      "execution_count": null,
      "outputs": []
    },
    {
      "cell_type": "code",
      "metadata": {
        "id": "ZhNIwziD_K2y"
      },
      "source": [
        "# callbacks\r\n",
        "my_callbacks = [keras.callbacks.EarlyStopping(patience = 10,\r\n",
        "                                              monitor = 'val_loss',\r\n",
        "                                              mode = 'min',\r\n",
        "                                              verbose = 2),\r\n",
        "                keras.callbacks.ModelCheckpoint(filepath=\"model_e{epoch:02d}_l{val_loss:.4f}.h5\",\r\n",
        "                                                monitor = 'val_accuracy',\r\n",
        "                                                mode = 'max',\r\n",
        "                                                verbose = 2,\r\n",
        "                                                save_best_only = True)]\r\n",
        "                                    "
      ],
      "execution_count": null,
      "outputs": []
    },
    {
      "cell_type": "code",
      "metadata": {
        "id": "Xkg00l22Br1c"
      },
      "source": [
        "model_var1 = VGG16_model_L2D1()"
      ],
      "execution_count": null,
      "outputs": []
    },
    {
      "cell_type": "code",
      "metadata": {
        "colab": {
          "base_uri": "https://localhost:8080/"
        },
        "id": "Gv5-rN29B1Xx",
        "outputId": "dc868032-db09-4e8c-9607-0c5e4aceeaf2"
      },
      "source": [
        "history_base = model_var1.fit(x_train, y_train, batch_size = 32,\r\n",
        "                              epochs = 30, validation_split = 0.2,\r\n",
        "                              verbose = 1, callbacks = my_callbacks)"
      ],
      "execution_count": null,
      "outputs": [
        {
          "output_type": "stream",
          "text": [
            "Epoch 1/10\n",
            "1250/1250 [==============================] - 68s 54ms/step - loss: 1.9961 - accuracy: 0.2881 - val_loss: 1.6386 - val_accuracy: 0.4120\n",
            "\n",
            "Epoch 00001: val_accuracy improved from -inf to 0.41200, saving model to model_01-1.6386.h5\n",
            "Epoch 2/10\n",
            "1250/1250 [==============================] - 65s 52ms/step - loss: 1.5602 - accuracy: 0.4479 - val_loss: 1.4236 - val_accuracy: 0.4972\n",
            "\n",
            "Epoch 00002: val_accuracy improved from 0.41200 to 0.49720, saving model to model_02-1.4236.h5\n",
            "Epoch 3/10\n",
            "1250/1250 [==============================] - 65s 52ms/step - loss: 1.3694 - accuracy: 0.5127 - val_loss: 1.2957 - val_accuracy: 0.5455\n",
            "\n",
            "Epoch 00003: val_accuracy improved from 0.49720 to 0.54550, saving model to model_03-1.2957.h5\n",
            "Epoch 4/10\n",
            "1250/1250 [==============================] - 66s 53ms/step - loss: 1.2295 - accuracy: 0.5623 - val_loss: 1.2444 - val_accuracy: 0.5663\n",
            "\n",
            "Epoch 00004: val_accuracy improved from 0.54550 to 0.56630, saving model to model_04-1.2444.h5\n",
            "Epoch 5/10\n",
            "1250/1250 [==============================] - 65s 52ms/step - loss: 1.1326 - accuracy: 0.6016 - val_loss: 1.1649 - val_accuracy: 0.5881\n",
            "\n",
            "Epoch 00005: val_accuracy improved from 0.56630 to 0.58810, saving model to model_05-1.1649.h5\n",
            "Epoch 6/10\n",
            "1250/1250 [==============================] - 65s 52ms/step - loss: 1.0537 - accuracy: 0.6311 - val_loss: 1.1090 - val_accuracy: 0.6160\n",
            "\n",
            "Epoch 00006: val_accuracy improved from 0.58810 to 0.61600, saving model to model_06-1.1090.h5\n",
            "Epoch 7/10\n",
            "1250/1250 [==============================] - 65s 52ms/step - loss: 0.9719 - accuracy: 0.6570 - val_loss: 1.1044 - val_accuracy: 0.6125\n",
            "\n",
            "Epoch 00007: val_accuracy did not improve from 0.61600\n",
            "Epoch 8/10\n",
            "1250/1250 [==============================] - 65s 52ms/step - loss: 0.9012 - accuracy: 0.6845 - val_loss: 1.0981 - val_accuracy: 0.6209\n",
            "\n",
            "Epoch 00008: val_accuracy improved from 0.61600 to 0.62090, saving model to model_08-1.0981.h5\n",
            "Epoch 9/10\n",
            "1250/1250 [==============================] - 67s 53ms/step - loss: 0.8334 - accuracy: 0.7097 - val_loss: 1.0579 - val_accuracy: 0.6390\n",
            "\n",
            "Epoch 00009: val_accuracy improved from 0.62090 to 0.63900, saving model to model_09-1.0579.h5\n",
            "Epoch 10/10\n",
            "1250/1250 [==============================] - 65s 52ms/step - loss: 0.7917 - accuracy: 0.7237 - val_loss: 1.0827 - val_accuracy: 0.6273\n",
            "\n",
            "Epoch 00010: val_accuracy did not improve from 0.63900\n"
          ],
          "name": "stdout"
        }
      ]
    },
    {
      "cell_type": "code",
      "metadata": {
        "colab": {
          "base_uri": "https://localhost:8080/",
          "height": 532
        },
        "id": "gJcxdJnEu5zm",
        "outputId": "b0ffa991-1545-4c3d-c11a-812a33df42c5"
      },
      "source": [
        "summarize(history_v2, filename = 'VGG16_L2D2')"
      ],
      "execution_count": null,
      "outputs": [
        {
          "output_type": "display_data",
          "data": {
            "image/png": "[encoded data removed]",
            "text/plain": [
              "<Figure size 504x504 with 2 Axes>"
            ]
          },
          "metadata": {
            "tags": [],
            "needs_background": "light"
          }
        },
        {
          "output_type": "display_data",
          "data": {
            "text/plain": [
              "<Figure size 432x288 with 0 Axes>"
            ]
          },
          "metadata": {
            "tags": []
          }
        }
      ]
    },
    {
      "cell_type": "markdown",
      "metadata": {
        "id": "7wi_ugYCZvHx"
      },
      "source": [
        "# Model: VGG16 - Variant 2C2D\r\n",
        "\r\n",
        "\r\n",
        "* Two Convolution Layers and Two Dense Layer\r\n",
        "* No regularization\r\n",
        "* Accuracy after 30 epochs:65% with train accuracy: 99.34%\r\n",
        "* OVERFITTING!\r\n",
        "* Time taken per epoch: 59s\r\n"
      ]
    },
    {
      "cell_type": "code",
      "metadata": {
        "id": "eziiCBmO9tKC"
      },
      "source": [
        "# Defining a variant of VGG16 Model\r\n",
        "def VGG16_model_L2D2():\r\n",
        "    filter_size = [16,32,64,128]\r\n",
        "    model = keras.Sequential()\r\n",
        "    # First layer needs input size!\r\n",
        "    model.add(Conv2D(filters = filter_size[0],\r\n",
        "                     kernel_size = (3,3),\r\n",
        "                     activation = 'relu',\r\n",
        "                     kernel_initializer = 'he_uniform',\r\n",
        "                     padding = 'same',\r\n",
        "                     input_shape = (32, 32, 3)))\r\n",
        "    model.add(Conv2D(filters = filter_size[0],\r\n",
        "                     kernel_size = (3,3),\r\n",
        "                     activation = 'relu',\r\n",
        "                     kernel_initializer = 'he_uniform',\r\n",
        "                     padding = 'same'))\r\n",
        "    model.add(MaxPool2D(pool_size = (2,2)))\r\n",
        "    model.add(Flatten())\r\n",
        "    model.add(Dense(units = 128,\r\n",
        "                    activation = 'relu',\r\n",
        "                    kernel_initializer = 'he_uniform'))\r\n",
        "    model.add(Dense(units = 64, \r\n",
        "                    activation = 'relu', \r\n",
        "                    kernel_initializer = 'he_uniform'))\r\n",
        "    model.add(Dense(units = 10,\r\n",
        "                    activation = 'softmax'))\r\n",
        "    \r\n",
        "    # Compiling Model\r\n",
        "    opt = keras.optimizers.SGD(learning_rate = 0.005, \r\n",
        "                               momentum  = 0.9)\r\n",
        "    model.compile(optimizer = opt, \r\n",
        "                  loss = 'categorical_crossentropy',\r\n",
        "                  metrics = ['accuracy'])\r\n",
        "    return model    "
      ],
      "execution_count": null,
      "outputs": []
    },
    {
      "cell_type": "code",
      "metadata": {
        "id": "LNhObItMCN0Z"
      },
      "source": [
        "model_var2 = VGG16_model_L2D2()"
      ],
      "execution_count": null,
      "outputs": []
    },
    {
      "cell_type": "code",
      "metadata": {
        "id": "9D8TAEzl0r-N"
      },
      "source": [
        "# Callbacks\r\n",
        "my_callbacks_v3 = [keras.callbacks.EarlyStopping(monitor = 'val_loss',\r\n",
        "                                              patience = 10,\r\n",
        "                                              verbose = 2,\r\n",
        "                                              mode = 'min'),\r\n",
        "                keras.callbacks.ModelCheckpoint(filepath = 'epoch-{epoch:02d}-loss-{val_accuracy:.3f}.h5',\r\n",
        "                                                monitor = 'val_loss',\r\n",
        "                                                mode = 'min',\r\n",
        "                                                verbose = 2,\r\n",
        "                                                save_best_only = True)]\r\n",
        "                        "
      ],
      "execution_count": null,
      "outputs": []
    },
    {
      "cell_type": "code",
      "metadata": {
        "id": "7fT0yspubP8Q"
      },
      "source": [
        "# Callbacks\r\n",
        "my_callbacks_v3 = [keras.callbacks.EarlyStopping(monitor = 'val_loss',\r\n",
        "                                              patience = 10,\r\n",
        "                                              verbose = 2,\r\n",
        "                                              mode = 'min'),\r\n",
        "                keras.callbacks.ReduceLROnPlateau(monitor = 'val_loss',\r\n",
        "                                                  factor = 0.1,\r\n",
        "                                                  patience = 5,\r\n",
        "                                                  verbose = 2),\r\n",
        "                keras.callbacks.ModelCheckpoint(filepath = 'epoch-{epoch:02d}-loss-{val_accuracy:.3f}.h5',\r\n",
        "                                                monitor = 'val_loss',\r\n",
        "                                                mode = 'min',\r\n",
        "                                                verbose = 2,\r\n",
        "                                                save_best_only = True)]\r\n",
        "                        "
      ],
      "execution_count": null,
      "outputs": []
    },
    {
      "cell_type": "code",
      "metadata": {
        "id": "VskN4QmIkugw"
      },
      "source": [
        "# Callbacks\r\n",
        "my_callbacks_v2 = [keras.callbacks.ReduceLROnPlateau(monitor = 'val_loss',\r\n",
        "                                                  factor = 0.1,\r\n",
        "                                                  patience = 5,\r\n",
        "                                                  verbose = 2),\r\n",
        "                keras.callbacks.ModelCheckpoint(filepath = 'VGG16_v2_e{epoch:02d}_l{val_accuracy:.3f}.h5',\r\n",
        "                                                monitor = 'val_loss',\r\n",
        "                                                mode = 'min',\r\n",
        "                                                verbose = 2,\r\n",
        "                                                save_best_only = True)]\r\n",
        "                        "
      ],
      "execution_count": null,
      "outputs": []
    },
    {
      "cell_type": "code",
      "metadata": {
        "colab": {
          "base_uri": "https://localhost:8080/"
        },
        "id": "q85pqYMSdVM5",
        "outputId": "4e6a6d3a-38d4-4e06-e17b-8799a75d6e2d"
      },
      "source": [
        "history_v2 = model_var2.fit(x_train, y_train, batch_size = 32,\r\n",
        "                            epochs = 30,\r\n",
        "                            callbacks = my_callbacks_v2,\r\n",
        "                            validation_split = 0.2)"
      ],
      "execution_count": null,
      "outputs": [
        {
          "output_type": "stream",
          "text": [
            "Epoch 1/30\n",
            "1250/1250 [==============================] - 58s 46ms/step - loss: 1.7847 - accuracy: 0.3463 - val_loss: 1.2988 - val_accuracy: 0.5408\n",
            "\n",
            "Epoch 00001: val_loss improved from inf to 1.29876, saving model to VGG16_v2_e01_l0.541.h5\n",
            "Epoch 2/30\n",
            "1250/1250 [==============================] - 58s 46ms/step - loss: 1.2136 - accuracy: 0.5671 - val_loss: 1.1044 - val_accuracy: 0.6099\n",
            "\n",
            "Epoch 00002: val_loss improved from 1.29876 to 1.10442, saving model to VGG16_v2_e02_l0.610.h5\n",
            "Epoch 3/30\n",
            "1250/1250 [==============================] - 58s 46ms/step - loss: 1.0124 - accuracy: 0.6429 - val_loss: 1.1194 - val_accuracy: 0.6048\n",
            "\n",
            "Epoch 00003: val_loss did not improve from 1.10442\n",
            "Epoch 4/30\n",
            "1250/1250 [==============================] - 57s 46ms/step - loss: 0.8633 - accuracy: 0.6942 - val_loss: 1.0392 - val_accuracy: 0.6349\n",
            "\n",
            "Epoch 00004: val_loss improved from 1.10442 to 1.03920, saving model to VGG16_v2_e04_l0.635.h5\n",
            "Epoch 5/30\n",
            "1250/1250 [==============================] - 57s 46ms/step - loss: 0.7382 - accuracy: 0.7400 - val_loss: 1.1046 - val_accuracy: 0.6364\n",
            "\n",
            "Epoch 00005: val_loss did not improve from 1.03920\n",
            "Epoch 6/30\n",
            "1250/1250 [==============================] - 58s 46ms/step - loss: 0.5999 - accuracy: 0.7891 - val_loss: 1.0866 - val_accuracy: 0.6455\n",
            "\n",
            "Epoch 00006: val_loss did not improve from 1.03920\n",
            "Epoch 7/30\n",
            "1250/1250 [==============================] - 57s 46ms/step - loss: 0.4702 - accuracy: 0.8331 - val_loss: 1.2178 - val_accuracy: 0.6265\n",
            "\n",
            "Epoch 00007: val_loss did not improve from 1.03920\n",
            "Epoch 8/30\n",
            "1250/1250 [==============================] - 57s 46ms/step - loss: 0.3559 - accuracy: 0.8744 - val_loss: 1.3596 - val_accuracy: 0.6375\n",
            "\n",
            "Epoch 00008: val_loss did not improve from 1.03920\n",
            "Epoch 9/30\n",
            "1250/1250 [==============================] - 57s 46ms/step - loss: 0.2780 - accuracy: 0.9021 - val_loss: 1.4785 - val_accuracy: 0.6251\n",
            "\n",
            "Epoch 00009: ReduceLROnPlateau reducing learning rate to 0.0004999999888241291.\n",
            "\n",
            "Epoch 00009: val_loss did not improve from 1.03920\n",
            "Epoch 10/30\n",
            "1250/1250 [==============================] - 58s 46ms/step - loss: 0.1511 - accuracy: 0.9518 - val_loss: 1.5772 - val_accuracy: 0.6548\n",
            "\n",
            "Epoch 00010: val_loss did not improve from 1.03920\n",
            "Epoch 11/30\n",
            "1250/1250 [==============================] - 58s 46ms/step - loss: 0.0744 - accuracy: 0.9817 - val_loss: 1.6755 - val_accuracy: 0.6576\n",
            "\n",
            "Epoch 00011: val_loss did not improve from 1.03920\n",
            "Epoch 12/30\n",
            "1250/1250 [==============================] - 58s 46ms/step - loss: 0.0579 - accuracy: 0.9872 - val_loss: 1.7554 - val_accuracy: 0.6577\n",
            "\n",
            "Epoch 00012: val_loss did not improve from 1.03920\n",
            "Epoch 13/30\n",
            "1250/1250 [==============================] - 58s 46ms/step - loss: 0.0435 - accuracy: 0.9931 - val_loss: 1.8277 - val_accuracy: 0.6571\n",
            "\n",
            "Epoch 00013: val_loss did not improve from 1.03920\n",
            "Epoch 14/30\n",
            "1250/1250 [==============================] - 58s 46ms/step - loss: 0.0375 - accuracy: 0.9934 - val_loss: 1.8989 - val_accuracy: 0.6558\n",
            "\n",
            "Epoch 00014: ReduceLROnPlateau reducing learning rate to 4.9999996554106475e-05.\n",
            "\n",
            "Epoch 00014: val_loss did not improve from 1.03920\n",
            "Epoch 15/30\n",
            "1250/1250 [==============================] - 58s 46ms/step - loss: 0.0294 - accuracy: 0.9959 - val_loss: 1.9062 - val_accuracy: 0.6583\n",
            "\n",
            "Epoch 00015: val_loss did not improve from 1.03920\n",
            "Epoch 16/30\n",
            "1250/1250 [==============================] - 58s 46ms/step - loss: 0.0292 - accuracy: 0.9961 - val_loss: 1.9167 - val_accuracy: 0.6584\n",
            "\n",
            "Epoch 00016: val_loss did not improve from 1.03920\n",
            "Epoch 17/30\n",
            "1250/1250 [==============================] - 58s 46ms/step - loss: 0.0289 - accuracy: 0.9963 - val_loss: 1.9239 - val_accuracy: 0.6580\n",
            "\n",
            "Epoch 00017: val_loss did not improve from 1.03920\n",
            "Epoch 18/30\n",
            "1250/1250 [==============================] - 58s 46ms/step - loss: 0.0274 - accuracy: 0.9965 - val_loss: 1.9313 - val_accuracy: 0.6577\n",
            "\n",
            "Epoch 00018: val_loss did not improve from 1.03920\n",
            "Epoch 19/30\n",
            "1250/1250 [==============================] - 58s 46ms/step - loss: 0.0272 - accuracy: 0.9962 - val_loss: 1.9375 - val_accuracy: 0.6579\n",
            "\n",
            "Epoch 00019: ReduceLROnPlateau reducing learning rate to 4.999999509891496e-06.\n",
            "\n",
            "Epoch 00019: val_loss did not improve from 1.03920\n",
            "Epoch 20/30\n",
            "1250/1250 [==============================] - 58s 46ms/step - loss: 0.0260 - accuracy: 0.9974 - val_loss: 1.9387 - val_accuracy: 0.6578\n",
            "\n",
            "Epoch 00020: val_loss did not improve from 1.03920\n",
            "Epoch 21/30\n",
            "1250/1250 [==============================] - 58s 47ms/step - loss: 0.0267 - accuracy: 0.9967 - val_loss: 1.9396 - val_accuracy: 0.6578\n",
            "\n",
            "Epoch 00021: val_loss did not improve from 1.03920\n",
            "Epoch 22/30\n",
            "1250/1250 [==============================] - 58s 46ms/step - loss: 0.0272 - accuracy: 0.9964 - val_loss: 1.9404 - val_accuracy: 0.6577\n",
            "\n",
            "Epoch 00022: val_loss did not improve from 1.03920\n",
            "Epoch 23/30\n",
            "1250/1250 [==============================] - 58s 46ms/step - loss: 0.0277 - accuracy: 0.9968 - val_loss: 1.9412 - val_accuracy: 0.6577\n",
            "\n",
            "Epoch 00023: val_loss did not improve from 1.03920\n",
            "Epoch 24/30\n",
            "1250/1250 [==============================] - 57s 46ms/step - loss: 0.0275 - accuracy: 0.9966 - val_loss: 1.9419 - val_accuracy: 0.6579\n",
            "\n",
            "Epoch 00024: ReduceLROnPlateau reducing learning rate to 4.999999418942025e-07.\n",
            "\n",
            "Epoch 00024: val_loss did not improve from 1.03920\n",
            "Epoch 25/30\n",
            "1250/1250 [==============================] - 57s 46ms/step - loss: 0.0258 - accuracy: 0.9967 - val_loss: 1.9420 - val_accuracy: 0.6579\n",
            "\n",
            "Epoch 00025: val_loss did not improve from 1.03920\n",
            "Epoch 26/30\n",
            "1250/1250 [==============================] - 57s 46ms/step - loss: 0.0268 - accuracy: 0.9965 - val_loss: 1.9420 - val_accuracy: 0.6579\n",
            "\n",
            "Epoch 00026: val_loss did not improve from 1.03920\n",
            "Epoch 27/30\n",
            "1250/1250 [==============================] - 57s 46ms/step - loss: 0.0275 - accuracy: 0.9969 - val_loss: 1.9421 - val_accuracy: 0.6579\n",
            "\n",
            "Epoch 00027: val_loss did not improve from 1.03920\n",
            "Epoch 28/30\n",
            "1250/1250 [==============================] - 58s 46ms/step - loss: 0.0258 - accuracy: 0.9970 - val_loss: 1.9421 - val_accuracy: 0.6579\n",
            "\n",
            "Epoch 00028: val_loss did not improve from 1.03920\n",
            "Epoch 29/30\n",
            "1250/1250 [==============================] - 57s 46ms/step - loss: 0.0282 - accuracy: 0.9968 - val_loss: 1.9422 - val_accuracy: 0.6579\n",
            "\n",
            "Epoch 00029: ReduceLROnPlateau reducing learning rate to 4.999999418942025e-08.\n",
            "\n",
            "Epoch 00029: val_loss did not improve from 1.03920\n",
            "Epoch 30/30\n",
            "1250/1250 [==============================] - 57s 46ms/step - loss: 0.0276 - accuracy: 0.9971 - val_loss: 1.9422 - val_accuracy: 0.6579\n",
            "\n",
            "Epoch 00030: val_loss did not improve from 1.03920\n"
          ],
          "name": "stdout"
        }
      ]
    },
    {
      "cell_type": "code",
      "metadata": {
        "id": "-gU9_YeOdwT5"
      },
      "source": [
        "def summarize(history, filename = 'VGG16'):\r\n",
        "    plt.figure(figsize = (7,7))\r\n",
        "    plt.subplot(211)\r\n",
        "    plt.title('Cross Entropy Loss', c = 'c')\r\n",
        "    plt.plot(history.history['loss'], \r\n",
        "             color = 'b',\r\n",
        "             label = 'train')\r\n",
        "    plt.plot(history.history['val_loss'],\r\n",
        "             color = 'orange',\r\n",
        "             label = 'test')\r\n",
        "    plt.xticks(c = 'g')\r\n",
        "    plt.yticks(c = 'g')\r\n",
        "    plt.subplot(212)\r\n",
        "    plt.title('Classification Accuracy', c = 'c')\r\n",
        "    plt.plot(history.history['accuracy'], \r\n",
        "             color = 'b',\r\n",
        "             label = 'train')\r\n",
        "    plt.plot(history.history['val_accuracy'],\r\n",
        "             color = 'orange',\r\n",
        "             label = 'test')\r\n",
        "    plt.xticks(c = 'g')\r\n",
        "    plt.yticks(c = 'g')\r\n",
        "    plt.tight_layout(h_pad = 2)\r\n",
        "    plt.show()\r\n",
        "    plt.savefig(filename + '_plot.png')\r\n"
      ],
      "execution_count": null,
      "outputs": []
    },
    {
      "cell_type": "code",
      "metadata": {
        "colab": {
          "base_uri": "https://localhost:8080/"
        },
        "id": "xVQf7avOmd12",
        "outputId": "ea84a5b8-25c4-46c1-8b79-03cba569991b"
      },
      "source": [
        "model_var2.save('VGG16_L2D2_65.sav')"
      ],
      "execution_count": null,
      "outputs": [
        {
          "output_type": "stream",
          "text": [
            "INFO:tensorflow:Assets written to: VGG16_L2D2_65.sav/assets\n"
          ],
          "name": "stdout"
        }
      ]
    },
    {
      "cell_type": "markdown",
      "metadata": {
        "id": "J4XcmHUQ1TT6"
      },
      "source": [
        "# VGG16 - Regularized Variants\r\n",
        "1. Variant 1: Regularizing the Conv Layers\r\n",
        "2. Variant 2: Regularizing the Dense Layers\r\n",
        "3. Variant 3: Regularizing both\r\n",
        "\r\n"
      ]
    },
    {
      "cell_type": "markdown",
      "metadata": {
        "id": "Ey8AJyPRDodS"
      },
      "source": [
        "## Variant 1:\r\n",
        "1. Two Convolution Layer, Two Dense\r\n",
        "2. Regularized Conv Layers - L1_L2\r\n",
        "3. Val Accuracy: 49.8% after 15 epochs\r\n",
        "4. Train Accuracy: 51% after 15 epochs\r\n",
        "5. Time taken per epoch: 80s"
      ]
    },
    {
      "cell_type": "code",
      "metadata": {
        "id": "rlwEFwpi47W4"
      },
      "source": [
        "# Callbacks\r\n",
        "my_callbacks_v3 = [keras.callbacks.EarlyStopping(monitor = 'val_loss',\r\n",
        "                                              patience = 10,\r\n",
        "                                              verbose = 2,\r\n",
        "                                              mode = 'min'),\r\n",
        "                   keras.callbacks.ModelCheckpoint(filepath = 'epoch-{epoch:02d}-loss-{val_accuracy:.3f}.h5',\r\n",
        "                                                monitor = 'val_loss',\r\n",
        "                                                mode = 'min',\r\n",
        "           \r\n",
        "                                                verbose = 2,\r\n",
        "                                                save_best_only = True)]\r\n",
        "                        "
      ],
      "execution_count": null,
      "outputs": []
    },
    {
      "cell_type": "code",
      "metadata": {
        "id": "_tZf__pbvVTs"
      },
      "source": [
        "# Defining a variant of VGG16 Model\r\n",
        "def VGG16_model_L2D2_Regularized():\r\n",
        "    filter_size = [16,32,64,128]\r\n",
        "    model = keras.Sequential()\r\n",
        "    # First layer needs input size!\r\n",
        "    model.add(Conv2D(filters = filter_size[0],\r\n",
        "                     kernel_size = (3,3),\r\n",
        "                     activation = 'relu',\r\n",
        "                     kernel_initializer = 'he_uniform',\r\n",
        "                     kernel_regularizer = keras.regularizers.l1_l2(),\r\n",
        "                     padding = 'same',\r\n",
        "                     input_shape = (32, 32, 3)))\r\n",
        "    model.add(Conv2D(filters = filter_size[1],\r\n",
        "                     kernel_size = (3,3),\r\n",
        "                     activation = 'relu',\r\n",
        "                     kernel_initializer = 'he_uniform',\r\n",
        "                     kernel_regularizer = keras.regularizers.l1_l2(),\r\n",
        "                     padding = 'same'))\r\n",
        "    model.add(MaxPool2D(pool_size = (2,2)))\r\n",
        "    model.add(Flatten())\r\n",
        "    model.add(Dense(units = 128,\r\n",
        "                    activation = 'relu',\r\n",
        "                    kernel_initializer = 'he_uniform'))\r\n",
        "    model.add(Dense(units = 64, \r\n",
        "                    activation = 'relu', \r\n",
        "                    kernel_initializer = 'he_uniform'))\r\n",
        "    model.add(Dense(units = 10,\r\n",
        "                    activation = 'softmax'))\r\n",
        "    \r\n",
        "    # Compiling Model\r\n",
        "    opt = keras.optimizers.SGD(learning_rate = 0.005, \r\n",
        "                               momentum  = 0.9)\r\n",
        "    model.compile(optimizer = opt, \r\n",
        "                  loss = 'categorical_crossentropy',\r\n",
        "                  metrics = ['accuracy'])\r\n",
        "    return model    "
      ],
      "execution_count": null,
      "outputs": []
    },
    {
      "cell_type": "code",
      "metadata": {
        "id": "ZHYlewo_1Skq"
      },
      "source": [
        "model_v3_1 = VGG16_model_L2D2_Regularized()"
      ],
      "execution_count": null,
      "outputs": []
    },
    {
      "cell_type": "code",
      "metadata": {
        "colab": {
          "base_uri": "https://localhost:8080/"
        },
        "id": "46ODdOkC4m04",
        "outputId": "bde266a5-056e-4aef-be91-5485a3cf16b0"
      },
      "source": [
        "history_v3_1 = model_v3_1.fit(x_train, y_train,\r\n",
        "                              batch_size = 32, \r\n",
        "                              epochs = 15,\r\n",
        "                              callbacks = my_callbacks_v3,\r\n",
        "                              validation_split = 0.2)"
      ],
      "execution_count": null,
      "outputs": [
        {
          "output_type": "stream",
          "text": [
            "Epoch 1/15\n",
            "1250/1250 [==============================] - 81s 64ms/step - loss: 4.2330 - accuracy: 0.2703 - val_loss: 1.8843 - val_accuracy: 0.3763\n",
            "\n",
            "Epoch 00001: val_loss improved from inf to 1.88435, saving model to epoch-01-loss-0.376.h5\n",
            "Epoch 2/15\n",
            "1250/1250 [==============================] - 77s 61ms/step - loss: 1.8581 - accuracy: 0.3950 - val_loss: 1.7270 - val_accuracy: 0.4405\n",
            "\n",
            "Epoch 00002: val_loss improved from 1.88435 to 1.72697, saving model to epoch-02-loss-0.440.h5\n",
            "Epoch 3/15\n",
            "1250/1250 [==============================] - 77s 61ms/step - loss: 1.7461 - accuracy: 0.4339 - val_loss: 1.6860 - val_accuracy: 0.4589\n",
            "\n",
            "Epoch 00003: val_loss improved from 1.72697 to 1.68598, saving model to epoch-03-loss-0.459.h5\n",
            "Epoch 4/15\n",
            "1250/1250 [==============================] - 77s 62ms/step - loss: 1.6787 - accuracy: 0.4622 - val_loss: 1.7122 - val_accuracy: 0.4472\n",
            "\n",
            "Epoch 00004: val_loss did not improve from 1.68598\n",
            "Epoch 5/15\n",
            "1250/1250 [==============================] - 78s 63ms/step - loss: 1.6266 - accuracy: 0.4779 - val_loss: 1.6570 - val_accuracy: 0.4638\n",
            "\n",
            "Epoch 00005: val_loss improved from 1.68598 to 1.65705, saving model to epoch-05-loss-0.464.h5\n",
            "Epoch 6/15\n",
            "1250/1250 [==============================] - 78s 62ms/step - loss: 1.5826 - accuracy: 0.4968 - val_loss: 1.6427 - val_accuracy: 0.4743\n",
            "\n",
            "Epoch 00006: val_loss improved from 1.65705 to 1.64266, saving model to epoch-06-loss-0.474.h5\n",
            "Epoch 7/15\n",
            "1250/1250 [==============================] - 79s 63ms/step - loss: 1.5783 - accuracy: 0.4987 - val_loss: 1.5906 - val_accuracy: 0.4926\n",
            "\n",
            "Epoch 00007: val_loss improved from 1.64266 to 1.59064, saving model to epoch-07-loss-0.493.h5\n",
            "Epoch 8/15\n",
            "1250/1250 [==============================] - 84s 67ms/step - loss: 1.5426 - accuracy: 0.5171 - val_loss: 1.5609 - val_accuracy: 0.5020\n",
            "\n",
            "Epoch 00008: val_loss improved from 1.59064 to 1.56087, saving model to epoch-08-loss-0.502.h5\n",
            "Epoch 9/15\n",
            "1250/1250 [==============================] - 86s 69ms/step - loss: 1.5253 - accuracy: 0.5206 - val_loss: 1.6777 - val_accuracy: 0.4704\n",
            "\n",
            "Epoch 00009: val_loss did not improve from 1.56087\n",
            "Epoch 10/15\n",
            "1250/1250 [==============================] - 83s 67ms/step - loss: 1.5080 - accuracy: 0.5290 - val_loss: 1.5545 - val_accuracy: 0.5099\n",
            "\n",
            "Epoch 00010: val_loss improved from 1.56087 to 1.55453, saving model to epoch-10-loss-0.510.h5\n",
            "Epoch 11/15\n",
            "1250/1250 [==============================] - 82s 65ms/step - loss: 1.4916 - accuracy: 0.5359 - val_loss: 1.6190 - val_accuracy: 0.4971\n",
            "\n",
            "Epoch 00011: val_loss did not improve from 1.55453\n",
            "Epoch 12/15\n",
            "1250/1250 [==============================] - 82s 66ms/step - loss: 1.4807 - accuracy: 0.5343 - val_loss: 1.5476 - val_accuracy: 0.5097\n",
            "\n",
            "Epoch 00012: val_loss improved from 1.55453 to 1.54764, saving model to epoch-12-loss-0.510.h5\n",
            "Epoch 13/15\n",
            "1250/1250 [==============================] - 81s 65ms/step - loss: 1.4509 - accuracy: 0.5537 - val_loss: 1.6116 - val_accuracy: 0.5015\n",
            "\n",
            "Epoch 00013: val_loss did not improve from 1.54764\n",
            "Epoch 14/15\n",
            "1250/1250 [==============================] - 81s 65ms/step - loss: 1.4262 - accuracy: 0.5565 - val_loss: 1.6005 - val_accuracy: 0.5074\n",
            "\n",
            "Epoch 00014: val_loss did not improve from 1.54764\n",
            "Epoch 15/15\n",
            "1250/1250 [==============================] - 81s 65ms/step - loss: 1.3844 - accuracy: 0.5735 - val_loss: 1.5561 - val_accuracy: 0.5193\n",
            "\n",
            "Epoch 00015: val_loss did not improve from 1.54764\n"
          ],
          "name": "stdout"
        }
      ]
    },
    {
      "cell_type": "markdown",
      "metadata": {
        "id": "eDvzm2oLEoHq"
      },
      "source": [
        "## Variant 2:\r\n",
        "1. Two Convolution Layer, Two Dense\r\n",
        "2. Regularized Conv Layers - Batch Norm\r\n",
        "3. Test Accuracy: 63.84% after 15 epochs\r\n",
        "4. Train Accuracy: 77.27% after 15 epochs\r\n",
        "5. Time taken per epoch: 85s\r\n",
        "\r\n",
        "Comments:\r\n",
        "It was relatively faster compared to the others while using BatchNorm. But that isn't reflect in the time taken."
      ]
    },
    {
      "cell_type": "code",
      "metadata": {
        "id": "BFRwavJQEmy3"
      },
      "source": [
        "# Defining a variant of VGG16 Model\r\n",
        "def VGG16_model_L2D2_Regularized_v2():\r\n",
        "    filter_size = [16,32,64,128]\r\n",
        "    model = keras.Sequential()\r\n",
        "    # First layer needs input size!\r\n",
        "    model.add(Conv2D(filters = filter_size[0],\r\n",
        "                     kernel_size = (3,3),\r\n",
        "                     activation = 'relu',\r\n",
        "                     kernel_initializer = 'he_uniform',\r\n",
        "                     padding = 'same',\r\n",
        "                     input_shape = (32, 32, 3)))\r\n",
        "    model.add(BatchNormalization())\r\n",
        "    model.add(Conv2D(filters = filter_size[1],\r\n",
        "                     kernel_size = (3,3),\r\n",
        "                     activation = 'relu',\r\n",
        "                     kernel_initializer = 'he_uniform',\r\n",
        "                     padding = 'same'))\r\n",
        "    model.add(MaxPool2D(pool_size = (2,2)))\r\n",
        "    model.add(Flatten())\r\n",
        "    model.add(Dense(units = 128,\r\n",
        "                    activation = 'relu',\r\n",
        "                    kernel_initializer = 'he_uniform'))\r\n",
        "    model.add(Dense(units = 64, \r\n",
        "                    activation = 'relu', \r\n",
        "                    kernel_initializer = 'he_uniform'))\r\n",
        "    model.add(Dense(units = 10,\r\n",
        "                    activation = 'softmax'))\r\n",
        "    \r\n",
        "    # Compiling Model\r\n",
        "    opt = keras.optimizers.SGD(learning_rate = 0.005, \r\n",
        "                               momentum  = 0.9)\r\n",
        "    model.compile(optimizer = opt, \r\n",
        "                  loss = 'categorical_crossentropy',\r\n",
        "                  metrics = ['accuracy'])\r\n",
        "    return model    "
      ],
      "execution_count": null,
      "outputs": []
    },
    {
      "cell_type": "code",
      "metadata": {
        "colab": {
          "base_uri": "https://localhost:8080/"
        },
        "id": "b8X531_sFHX_",
        "outputId": "ac29f384-15c5-491c-b279-316153a90623"
      },
      "source": [
        "model_v3_2 = VGG16_model_L2D2_Regularized_v2()\r\n",
        "history_v3_2 = model_v3_2.fit(x_train, y_train,\r\n",
        "                              batch_size = 32,\r\n",
        "                              epochs = 15,\r\n",
        "                              validation_split = 0.2,\r\n",
        "                              callbacks = my_callbacks_v3)"
      ],
      "execution_count": null,
      "outputs": [
        {
          "output_type": "stream",
          "text": [
            "Epoch 1/15\n",
            "1250/1250 [==============================] - 90s 71ms/step - loss: 1.7048 - accuracy: 0.3874 - val_loss: 1.3400 - val_accuracy: 0.5402\n",
            "\n",
            "Epoch 00001: val_loss improved from 1.54764 to 1.34001, saving model to epoch-01-loss-0.540.h5\n",
            "Epoch 2/15\n",
            "1250/1250 [==============================] - 89s 71ms/step - loss: 1.1176 - accuracy: 0.6035 - val_loss: 1.0461 - val_accuracy: 0.6318\n",
            "\n",
            "Epoch 00002: val_loss improved from 1.34001 to 1.04612, saving model to epoch-02-loss-0.632.h5\n",
            "Epoch 3/15\n",
            "1250/1250 [==============================] - 87s 70ms/step - loss: 0.9022 - accuracy: 0.6832 - val_loss: 1.0845 - val_accuracy: 0.6146\n",
            "\n",
            "Epoch 00003: val_loss did not improve from 1.04612\n",
            "Epoch 4/15\n",
            "1250/1250 [==============================] - 85s 68ms/step - loss: 0.7760 - accuracy: 0.7278 - val_loss: 1.0730 - val_accuracy: 0.6352\n",
            "\n",
            "Epoch 00004: val_loss did not improve from 1.04612\n",
            "Epoch 5/15\n",
            "1250/1250 [==============================] - 87s 69ms/step - loss: 0.6388 - accuracy: 0.7727 - val_loss: 0.9908 - val_accuracy: 0.6706\n",
            "\n",
            "Epoch 00005: val_loss improved from 1.04612 to 0.99075, saving model to epoch-05-loss-0.671.h5\n",
            "Epoch 6/15\n",
            "1250/1250 [==============================] - 86s 69ms/step - loss: 0.5306 - accuracy: 0.8160 - val_loss: 1.1181 - val_accuracy: 0.6522\n",
            "\n",
            "Epoch 00006: val_loss did not improve from 0.99075\n",
            "Epoch 7/15\n",
            "1250/1250 [==============================] - 86s 69ms/step - loss: 0.4114 - accuracy: 0.8571 - val_loss: 1.1724 - val_accuracy: 0.6482\n",
            "\n",
            "Epoch 00007: val_loss did not improve from 0.99075\n",
            "Epoch 8/15\n",
            "1250/1250 [==============================] - 86s 69ms/step - loss: 0.3281 - accuracy: 0.8874 - val_loss: 1.2771 - val_accuracy: 0.6563\n",
            "\n",
            "Epoch 00008: val_loss did not improve from 0.99075\n",
            "Epoch 9/15\n",
            "1250/1250 [==============================] - 86s 69ms/step - loss: 0.2650 - accuracy: 0.9086 - val_loss: 1.4329 - val_accuracy: 0.6540\n",
            "\n",
            "Epoch 00009: val_loss did not improve from 0.99075\n",
            "Epoch 10/15\n",
            "1250/1250 [==============================] - 86s 69ms/step - loss: 0.2072 - accuracy: 0.9302 - val_loss: 1.5876 - val_accuracy: 0.6392\n",
            "\n",
            "Epoch 00010: val_loss did not improve from 0.99075\n",
            "Epoch 11/15\n",
            "1250/1250 [==============================] - 86s 69ms/step - loss: 0.1670 - accuracy: 0.9417 - val_loss: 1.6837 - val_accuracy: 0.6284\n",
            "\n",
            "Epoch 00011: val_loss did not improve from 0.99075\n",
            "Epoch 12/15\n",
            "1250/1250 [==============================] - 86s 69ms/step - loss: 0.1445 - accuracy: 0.9501 - val_loss: 1.6629 - val_accuracy: 0.6449\n",
            "\n",
            "Epoch 00012: val_loss did not improve from 0.99075\n",
            "Epoch 13/15\n",
            "1250/1250 [==============================] - 87s 69ms/step - loss: 0.1080 - accuracy: 0.9618 - val_loss: 2.0211 - val_accuracy: 0.6436\n",
            "\n",
            "Epoch 00013: val_loss did not improve from 0.99075\n",
            "Epoch 14/15\n",
            "1250/1250 [==============================] - 89s 71ms/step - loss: 0.1047 - accuracy: 0.9648 - val_loss: 2.3073 - val_accuracy: 0.6482\n",
            "\n",
            "Epoch 00014: val_loss did not improve from 0.99075\n",
            "Epoch 15/15\n",
            "1250/1250 [==============================] - 88s 71ms/step - loss: 0.0989 - accuracy: 0.9666 - val_loss: 2.0075 - val_accuracy: 0.6409\n",
            "\n",
            "Epoch 00015: val_loss did not improve from 0.99075\n",
            "Epoch 00015: early stopping\n"
          ],
          "name": "stdout"
        }
      ]
    },
    {
      "cell_type": "code",
      "metadata": {
        "colab": {
          "base_uri": "https://localhost:8080/"
        },
        "id": "dOSLJxmUFv-U",
        "outputId": "16c3bb89-82d7-42eb-9e0d-415c73b16938"
      },
      "source": [
        "model_v3_2.summary()"
      ],
      "execution_count": null,
      "outputs": [
        {
          "output_type": "stream",
          "text": [
            "Model: \"sequential_2\"\n",
            "_________________________________________________________________\n",
            "Layer (type)                 Output Shape              Param #   \n",
            "=================================================================\n",
            "conv2d_4 (Conv2D)            (None, 32, 32, 16)        448       \n",
            "_________________________________________________________________\n",
            "batch_normalization (BatchNo (None, 32, 32, 16)        64        \n",
            "_________________________________________________________________\n",
            "conv2d_5 (Conv2D)            (None, 32, 32, 32)        4640      \n",
            "_________________________________________________________________\n",
            "max_pooling2d_2 (MaxPooling2 (None, 16, 16, 32)        0         \n",
            "_________________________________________________________________\n",
            "flatten_2 (Flatten)          (None, 8192)              0         \n",
            "_________________________________________________________________\n",
            "dense_6 (Dense)              (None, 128)               1048704   \n",
            "_________________________________________________________________\n",
            "dense_7 (Dense)              (None, 64)                8256      \n",
            "_________________________________________________________________\n",
            "dense_8 (Dense)              (None, 10)                650       \n",
            "=================================================================\n",
            "Total params: 1,062,762\n",
            "Trainable params: 1,062,730\n",
            "Non-trainable params: 32\n",
            "_________________________________________________________________\n"
          ],
          "name": "stdout"
        }
      ]
    },
    {
      "cell_type": "code",
      "metadata": {
        "colab": {
          "base_uri": "https://localhost:8080/"
        },
        "id": "nwb3E8_VK3RB",
        "outputId": "9c568a26-4555-4763-dd08-28427791c571"
      },
      "source": [
        "model_v3_2.evaluate(x_test, y_test)"
      ],
      "execution_count": null,
      "outputs": [
        {
          "output_type": "stream",
          "text": [
            "313/313 [==============================] - 6s 18ms/step - loss: 1.9852 - accuracy: 0.6384\n"
          ],
          "name": "stdout"
        },
        {
          "output_type": "execute_result",
          "data": {
            "text/plain": [
              "[1.9851897954940796, 0.6384000182151794]"
            ]
          },
          "metadata": {
            "tags": []
          },
          "execution_count": 22
        }
      ]
    },
    {
      "cell_type": "code",
      "metadata": {
        "colab": {
          "base_uri": "https://localhost:8080/",
          "height": 513
        },
        "id": "OGCDu8aqLDYQ",
        "outputId": "8a7603ec-e0ee-46f3-e761-6f22636f8277"
      },
      "source": [
        "summarize(history=history_v3_2, filename=\"VGG16_L2D2_BatchNorm\")"
      ],
      "execution_count": null,
      "outputs": [
        {
          "output_type": "display_data",
          "data": {
            "image/png": "[encoded data removed]",
            "text/plain": [
              "<Figure size 504x504 with 2 Axes>"
            ]
          },
          "metadata": {
            "tags": [],
            "needs_background": "light"
          }
        }
      ]
    },
    {
      "cell_type": "markdown",
      "metadata": {
        "id": "QumK4MDLNBT-"
      },
      "source": [
        "## Variant 3: Dropout\r\n",
        "1. Two Convolution Layer, Two Dense\r\n",
        "2. Regularized Conv Layers - Batch Norm\r\n",
        "3. Test Accuracy: 65.66% after 15 epochs\r\n",
        "4. Train Accuracy: 74.66% after 15 epochs\r\n",
        "5. Time taken per epoch: 82s\r\n",
        "6. Params: 1.06M\r\n",
        "\r\n",
        "Comments:\r\n",
        "* Visibly slower after BatchNorm\r\n",
        "* Comparatively, lesser overfit than just using BatchNorm. Definitely need more epochs to justify the same\r\n",
        "* In all honestly, I changed the filter size in this one for the second conv layer\r\n"
      ]
    },
    {
      "cell_type": "code",
      "metadata": {
        "id": "DnUjBUB7N2tF"
      },
      "source": [
        "# Defining a variant of VGG16 Model\r\n",
        "def VGG16_model_L2D2_Regularized_v3():\r\n",
        "    filter_size = [16,32,64,128]\r\n",
        "    model = keras.Sequential()\r\n",
        "    # First layer needs input size!\r\n",
        "    model.add(Conv2D(filters = filter_size[0],\r\n",
        "                     kernel_size = (3,3),\r\n",
        "                     activation = 'relu',\r\n",
        "                     kernel_initializer = 'he_uniform',\r\n",
        "                     padding = 'same',\r\n",
        "                     input_shape = (32, 32, 3)))\r\n",
        "    model.add(Conv2D(filters = filter_size[1],\r\n",
        "                     kernel_size = (3,3),\r\n",
        "                     activation = 'relu',\r\n",
        "                     kernel_initializer = 'he_uniform',\r\n",
        "                     padding = 'same'))\r\n",
        "    model.add(MaxPool2D(pool_size = (2,2)))\r\n",
        "    model.add(Flatten())\r\n",
        "    model.add(Dense(units = 128,\r\n",
        "                    activation = 'relu',\r\n",
        "                    kernel_initializer = 'he_uniform'))\r\n",
        "    model.add(Dropout(0.4))\r\n",
        "    model.add(Dense(units = 64, \r\n",
        "                    activation = 'relu', \r\n",
        "                    kernel_initializer = 'he_uniform'))\r\n",
        "    model.add(Dropout(0.4))\r\n",
        "    model.add(Dense(units = 10,\r\n",
        "                    activation = 'softmax'))\r\n",
        "    \r\n",
        "    # Compiling Model\r\n",
        "    opt = keras.optimizers.SGD(learning_rate = 0.005, \r\n",
        "                               momentum  = 0.9)\r\n",
        "    model.compile(optimizer = opt, \r\n",
        "                  loss = 'categorical_crossentropy',\r\n",
        "                  metrics = ['accuracy'])\r\n",
        "    return model    "
      ],
      "execution_count": null,
      "outputs": []
    },
    {
      "cell_type": "code",
      "metadata": {
        "colab": {
          "base_uri": "https://localhost:8080/"
        },
        "id": "m2DGvM07OGGa",
        "outputId": "1a5d81f1-f468-4a96-efe7-c46c2f7c4d76"
      },
      "source": [
        "model_v3_Dropout = VGG16_model_L2D2_Regularized_v3()\r\n",
        "model_v3_Dropout.summary()"
      ],
      "execution_count": null,
      "outputs": [
        {
          "output_type": "stream",
          "text": [
            "Model: \"sequential_7\"\n",
            "_________________________________________________________________\n",
            "Layer (type)                 Output Shape              Param #   \n",
            "=================================================================\n",
            "conv2d_14 (Conv2D)           (None, 32, 32, 16)        448       \n",
            "_________________________________________________________________\n",
            "conv2d_15 (Conv2D)           (None, 32, 32, 32)        4640      \n",
            "_________________________________________________________________\n",
            "max_pooling2d_7 (MaxPooling2 (None, 16, 16, 32)        0         \n",
            "_________________________________________________________________\n",
            "flatten_7 (Flatten)          (None, 8192)              0         \n",
            "_________________________________________________________________\n",
            "dense_21 (Dense)             (None, 128)               1048704   \n",
            "_________________________________________________________________\n",
            "dropout_6 (Dropout)          (None, 128)               0         \n",
            "_________________________________________________________________\n",
            "dense_22 (Dense)             (None, 64)                8256      \n",
            "_________________________________________________________________\n",
            "dropout_7 (Dropout)          (None, 64)                0         \n",
            "_________________________________________________________________\n",
            "dense_23 (Dense)             (None, 10)                650       \n",
            "=================================================================\n",
            "Total params: 1,062,698\n",
            "Trainable params: 1,062,698\n",
            "Non-trainable params: 0\n",
            "_________________________________________________________________\n"
          ],
          "name": "stdout"
        }
      ]
    },
    {
      "cell_type": "code",
      "metadata": {
        "id": "nID-a4WnPPxz"
      },
      "source": [
        "# callbacks\r\n",
        "my_callbacks = [keras.callbacks.EarlyStopping(patience = 10,\r\n",
        "                                              monitor = 'val_loss',\r\n",
        "                                              mode = 'min',\r\n",
        "                                              verbose = 2),\r\n",
        "                keras.callbacks.ModelCheckpoint(filepath=\"Dropout-epoch-{epoch:02d}-loss_val-{val_loss:.4f}.h5\",\r\n",
        "                                                monitor = 'val_loss',\r\n",
        "                                                mode = 'min',\r\n",
        "                                                verbose = 2,\r\n",
        "                                                save_best_only = True)]"
      ],
      "execution_count": null,
      "outputs": []
    },
    {
      "cell_type": "code",
      "metadata": {
        "colab": {
          "base_uri": "https://localhost:8080/"
        },
        "id": "TFR7bZsTOQH_",
        "outputId": "ab402a39-4699-43f6-80a1-79893b63eadb"
      },
      "source": [
        "history_v3_Dropout = model_v3_Dropout.fit(x_train, y_train, batch_size = 32,\r\n",
        "                                    epochs = 15,\r\n",
        "                                    callbacks = my_callbacks,\r\n",
        "                                    validation_split = 0.2)"
      ],
      "execution_count": null,
      "outputs": [
        {
          "output_type": "stream",
          "text": [
            "Epoch 1/15\n",
            "1250/1250 [==============================] - 82s 65ms/step - loss: 2.0599 - accuracy: 0.2309 - val_loss: 1.4268 - val_accuracy: 0.4881\n",
            "\n",
            "Epoch 00001: val_loss improved from inf to 1.42683, saving model to Dropout-epoch-01-loss_val-1.4268.h5\n",
            "Epoch 2/15\n",
            "1250/1250 [==============================] - 81s 65ms/step - loss: 1.5280 - accuracy: 0.4441 - val_loss: 1.2440 - val_accuracy: 0.5716\n",
            "\n",
            "Epoch 00002: val_loss improved from 1.42683 to 1.24403, saving model to Dropout-epoch-02-loss_val-1.2440.h5\n",
            "Epoch 3/15\n",
            "1250/1250 [==============================] - 82s 66ms/step - loss: 1.3380 - accuracy: 0.5272 - val_loss: 1.1733 - val_accuracy: 0.5984\n",
            "\n",
            "Epoch 00003: val_loss improved from 1.24403 to 1.17333, saving model to Dropout-epoch-03-loss_val-1.1733.h5\n",
            "Epoch 4/15\n",
            "1250/1250 [==============================] - 82s 66ms/step - loss: 1.2183 - accuracy: 0.5713 - val_loss: 1.0842 - val_accuracy: 0.6185\n",
            "\n",
            "Epoch 00004: val_loss improved from 1.17333 to 1.08419, saving model to Dropout-epoch-04-loss_val-1.0842.h5\n",
            "Epoch 5/15\n",
            "1250/1250 [==============================] - 81s 65ms/step - loss: 1.1256 - accuracy: 0.6040 - val_loss: 1.0425 - val_accuracy: 0.6392\n",
            "\n",
            "Epoch 00005: val_loss improved from 1.08419 to 1.04253, saving model to Dropout-epoch-05-loss_val-1.0425.h5\n",
            "Epoch 6/15\n",
            "1250/1250 [==============================] - 82s 65ms/step - loss: 1.0559 - accuracy: 0.6288 - val_loss: 1.0275 - val_accuracy: 0.6426\n",
            "\n",
            "Epoch 00006: val_loss improved from 1.04253 to 1.02753, saving model to Dropout-epoch-06-loss_val-1.0275.h5\n",
            "Epoch 7/15\n",
            "1250/1250 [==============================] - 83s 66ms/step - loss: 0.9995 - accuracy: 0.6527 - val_loss: 1.0532 - val_accuracy: 0.6366\n",
            "\n",
            "Epoch 00007: val_loss did not improve from 1.02753\n",
            "Epoch 8/15\n",
            "1250/1250 [==============================] - 82s 66ms/step - loss: 0.9343 - accuracy: 0.6714 - val_loss: 1.0100 - val_accuracy: 0.6558\n",
            "\n",
            "Epoch 00008: val_loss improved from 1.02753 to 1.01005, saving model to Dropout-epoch-08-loss_val-1.0100.h5\n",
            "Epoch 9/15\n",
            "1250/1250 [==============================] - 81s 65ms/step - loss: 0.8823 - accuracy: 0.6928 - val_loss: 1.0103 - val_accuracy: 0.6663\n",
            "\n",
            "Epoch 00009: val_loss did not improve from 1.01005\n",
            "Epoch 10/15\n",
            "1250/1250 [==============================] - 81s 65ms/step - loss: 0.8245 - accuracy: 0.7120 - val_loss: 1.0186 - val_accuracy: 0.6613\n",
            "\n",
            "Epoch 00010: val_loss did not improve from 1.01005\n",
            "Epoch 11/15\n",
            "1250/1250 [==============================] - 81s 65ms/step - loss: 0.7727 - accuracy: 0.7293 - val_loss: 1.0326 - val_accuracy: 0.6668\n",
            "\n",
            "Epoch 00011: val_loss did not improve from 1.01005\n",
            "Epoch 12/15\n",
            "1250/1250 [==============================] - 82s 65ms/step - loss: 0.7327 - accuracy: 0.7466 - val_loss: 0.9854 - val_accuracy: 0.6715\n",
            "\n",
            "Epoch 00012: val_loss improved from 1.01005 to 0.98540, saving model to Dropout-epoch-12-loss_val-0.9854.h5\n",
            "Epoch 13/15\n",
            "1250/1250 [==============================] - 81s 65ms/step - loss: 0.6782 - accuracy: 0.7619 - val_loss: 1.0211 - val_accuracy: 0.6747\n",
            "\n",
            "Epoch 00013: val_loss did not improve from 0.98540\n",
            "Epoch 14/15\n",
            "1250/1250 [==============================] - 81s 65ms/step - loss: 0.6392 - accuracy: 0.7771 - val_loss: 1.0738 - val_accuracy: 0.6590\n",
            "\n",
            "Epoch 00014: val_loss did not improve from 0.98540\n",
            "Epoch 15/15\n",
            "1250/1250 [==============================] - 83s 67ms/step - loss: 0.6160 - accuracy: 0.7875 - val_loss: 1.0966 - val_accuracy: 0.6590\n",
            "\n",
            "Epoch 00015: val_loss did not improve from 0.98540\n"
          ],
          "name": "stdout"
        }
      ]
    },
    {
      "cell_type": "code",
      "metadata": {
        "colab": {
          "base_uri": "https://localhost:8080/"
        },
        "id": "IwjQaXSIPdvn",
        "outputId": "37f223c0-7ad9-4200-b5b0-3bc793cb6291"
      },
      "source": [
        "model_v3_Dropout.evaluate(x_test, y_test, verbose = 2)\r\n"
      ],
      "execution_count": null,
      "outputs": [
        {
          "output_type": "stream",
          "text": [
            "313/313 - 5s - loss: 1.1047 - accuracy: 0.6561\n"
          ],
          "name": "stdout"
        },
        {
          "output_type": "execute_result",
          "data": {
            "text/plain": [
              "[1.1046503782272339, 0.6560999751091003]"
            ]
          },
          "metadata": {
            "tags": []
          },
          "execution_count": 49
        }
      ]
    },
    {
      "cell_type": "code",
      "metadata": {
        "colab": {
          "base_uri": "https://localhost:8080/",
          "height": 513
        },
        "id": "nbNEshVaR5yu",
        "outputId": "29d124df-baa7-4615-b599-5b5bbf431149"
      },
      "source": [
        "summarize(history = history_v3_Dropout, filename= 'VGG16_L2D2_Dropout')"
      ],
      "execution_count": null,
      "outputs": [
        {
          "output_type": "display_data",
          "data": {
            "image/png": "[encoded data removed]",
            "text/plain": [
              "<Figure size 504x504 with 2 Axes>"
            ]
          },
          "metadata": {
            "tags": [],
            "needs_background": "light"
          }
        }
      ]
    },
    {
      "cell_type": "markdown",
      "metadata": {
        "id": "XyVbP51ZYVgg"
      },
      "source": [
        "## Variant 4 - BatchNorm + Dropout\r\n",
        "1. Two Convolution Layer, Two Dense\r\n",
        "2. Regularized Conv Layers - Batch Norm\r\n",
        "3. Test Accuracy: 64.46% after 15 epochs\r\n",
        "4. Train Accuracy: 66.81% after 15 epochs\r\n",
        "5. Time taken per epoch: ~90s\r\n",
        "6. Params: 1.06M\r\n",
        "\r\n",
        "Comments:\r\n",
        "* Visibly slower after BatchNorm\r\n",
        "* Comparatively, lesser overfit than just using BatchNorm. Definitely need more epochs to justify the same\r\n",
        "* Training from Scratch is not a great idea.\r\n",
        "* First trial is wrong because of the callbacks!"
      ]
    },
    {
      "cell_type": "code",
      "metadata": {
        "id": "RYi8TPZUYjfy"
      },
      "source": [
        "# Defining a variant of VGG16 Model\r\n",
        "def VGG16_model_L2D2_Regularized_v4():\r\n",
        "    filter_size = [16,32,64,128]\r\n",
        "    model = keras.Sequential()\r\n",
        "    # First layer needs input size!\r\n",
        "    model.add(Conv2D(filters = filter_size[0],\r\n",
        "                     kernel_size = (3,3),\r\n",
        "                     activation = 'relu',\r\n",
        "                     kernel_initializer = 'he_uniform',\r\n",
        "                     padding = 'same',\r\n",
        "                     input_shape = (32, 32, 3)))\r\n",
        "    model.add(BatchNormalization())\r\n",
        "    model.add(Conv2D(filters = filter_size[1],\r\n",
        "                     kernel_size = (3,3),\r\n",
        "                     activation = 'relu',\r\n",
        "                     kernel_initializer = 'he_uniform',\r\n",
        "                     padding = 'same'))\r\n",
        "    model.add(MaxPool2D(pool_size = (2,2)))\r\n",
        "    model.add(Flatten())\r\n",
        "    model.add(Dense(units = 128,\r\n",
        "                    activation = 'relu',\r\n",
        "                    kernel_initializer = 'he_uniform'))\r\n",
        "    model.add(Dropout(0.4))\r\n",
        "    model.add(Dense(units = 64, \r\n",
        "                    activation = 'relu', \r\n",
        "                    kernel_initializer = 'he_uniform'))\r\n",
        "    model.add(Dropout(0.4))\r\n",
        "    model.add(Dense(units = 10,\r\n",
        "                    activation = 'softmax'))\r\n",
        "    \r\n",
        "    # Compiling Model\r\n",
        "    opt = keras.optimizers.SGD(learning_rate = 0.005, \r\n",
        "                               momentum  = 0.9) # Should I change you?\r\n",
        "    model.compile(optimizer = opt, \r\n",
        "                  loss = 'categorical_crossentropy',\r\n",
        "                  metrics = ['accuracy'])\r\n",
        "    return model    "
      ],
      "execution_count": null,
      "outputs": []
    },
    {
      "cell_type": "code",
      "metadata": {
        "id": "eYgVufPPqkUO"
      },
      "source": [
        "# callbacks - Need to separately define it for every model. \r\n",
        "# Else it takes the previous iteration\r\n",
        "my_callbacks = [keras.callbacks.EarlyStopping(patience = 10,\r\n",
        "                                              monitor = 'val_loss',\r\n",
        "                                              mode = 'min',\r\n",
        "                                              verbose = 2),\r\n",
        "                keras.callbacks.ModelCheckpoint(filepath=\"BN_Dropout-epoch-{epoch:02d}-loss_val-{val_loss:.4f}.h5\",\r\n",
        "                                                monitor = 'val_loss',\r\n",
        "                                                mode = 'min',\r\n",
        "                                                verbose = 2,\r\n",
        "                                                save_best_only = True)]"
      ],
      "execution_count": null,
      "outputs": []
    },
    {
      "cell_type": "code",
      "metadata": {
        "colab": {
          "base_uri": "https://localhost:8080/"
        },
        "id": "EqcFxnhKZDB-",
        "outputId": "b640e607-f895-4989-d862-58fecf6c243a"
      },
      "source": [
        "model_BN_Dropout = VGG16_model_L2D2_Regularized_v4()\r\n",
        "model_BN_Dropout.summary()"
      ],
      "execution_count": null,
      "outputs": [
        {
          "output_type": "stream",
          "text": [
            "Model: \"sequential_15\"\n",
            "_________________________________________________________________\n",
            "Layer (type)                 Output Shape              Param #   \n",
            "=================================================================\n",
            "conv2d_30 (Conv2D)           (None, 32, 32, 16)        448       \n",
            "_________________________________________________________________\n",
            "batch_normalization_9 (Batch (None, 32, 32, 16)        64        \n",
            "_________________________________________________________________\n",
            "conv2d_31 (Conv2D)           (None, 32, 32, 32)        4640      \n",
            "_________________________________________________________________\n",
            "max_pooling2d_15 (MaxPooling (None, 16, 16, 32)        0         \n",
            "_________________________________________________________________\n",
            "flatten_15 (Flatten)         (None, 8192)              0         \n",
            "_________________________________________________________________\n",
            "dense_45 (Dense)             (None, 128)               1048704   \n",
            "_________________________________________________________________\n",
            "dropout_22 (Dropout)         (None, 128)               0         \n",
            "_________________________________________________________________\n",
            "dense_46 (Dense)             (None, 64)                8256      \n",
            "_________________________________________________________________\n",
            "dropout_23 (Dropout)         (None, 64)                0         \n",
            "_________________________________________________________________\n",
            "dense_47 (Dense)             (None, 10)                650       \n",
            "=================================================================\n",
            "Total params: 1,062,762\n",
            "Trainable params: 1,062,730\n",
            "Non-trainable params: 32\n",
            "_________________________________________________________________\n"
          ],
          "name": "stdout"
        }
      ]
    },
    {
      "cell_type": "code",
      "metadata": {
        "colab": {
          "base_uri": "https://localhost:8080/"
        },
        "id": "7WnhDJ81ZO8B",
        "outputId": "ad43832a-8d02-4367-b606-8e59515237be"
      },
      "source": [
        "history_BN_Dropout = model_BN_Dropout.fit(x_train, y_train,\r\n",
        "                                          batch_size = 32,\r\n",
        "                                          epochs = 15,\r\n",
        "                                          callbacks = my_callbacks,\r\n",
        "                                          validation_split = 0.2)\r\n"
      ],
      "execution_count": null,
      "outputs": [
        {
          "output_type": "stream",
          "text": [
            "Epoch 1/15\n",
            "1250/1250 [==============================] - 91s 72ms/step - loss: 2.2406 - accuracy: 0.1582 - val_loss: 1.8867 - val_accuracy: 0.2782\n",
            "\n",
            "Epoch 00001: val_loss improved from inf to 1.88671, saving model to BN_Dropout-epoch-01-loss_val-1.8867.h5\n",
            "Epoch 2/15\n",
            "1250/1250 [==============================] - 90s 72ms/step - loss: 1.9329 - accuracy: 0.2197 - val_loss: 1.7428 - val_accuracy: 0.3045\n",
            "\n",
            "Epoch 00002: val_loss improved from 1.88671 to 1.74284, saving model to BN_Dropout-epoch-02-loss_val-1.7428.h5\n",
            "Epoch 3/15\n",
            "1250/1250 [==============================] - 90s 72ms/step - loss: 1.7879 - accuracy: 0.2788 - val_loss: 1.5857 - val_accuracy: 0.3916\n",
            "\n",
            "Epoch 00003: val_loss improved from 1.74284 to 1.58575, saving model to BN_Dropout-epoch-03-loss_val-1.5857.h5\n",
            "Epoch 4/15\n",
            "1250/1250 [==============================] - 91s 72ms/step - loss: 1.6401 - accuracy: 0.3643 - val_loss: 1.4116 - val_accuracy: 0.4959\n",
            "\n",
            "Epoch 00004: val_loss improved from 1.58575 to 1.41156, saving model to BN_Dropout-epoch-04-loss_val-1.4116.h5\n",
            "Epoch 5/15\n",
            "1250/1250 [==============================] - 89s 72ms/step - loss: 1.5131 - accuracy: 0.4400 - val_loss: 1.3366 - val_accuracy: 0.5262\n",
            "\n",
            "Epoch 00005: val_loss improved from 1.41156 to 1.33665, saving model to BN_Dropout-epoch-05-loss_val-1.3366.h5\n",
            "Epoch 6/15\n",
            "1250/1250 [==============================] - 90s 72ms/step - loss: 1.4304 - accuracy: 0.4715 - val_loss: 1.2271 - val_accuracy: 0.5747\n",
            "\n",
            "Epoch 00006: val_loss improved from 1.33665 to 1.22712, saving model to BN_Dropout-epoch-06-loss_val-1.2271.h5\n",
            "Epoch 7/15\n",
            "1250/1250 [==============================] - 89s 71ms/step - loss: 1.3574 - accuracy: 0.5105 - val_loss: 1.2227 - val_accuracy: 0.5916\n",
            "\n",
            "Epoch 00007: val_loss improved from 1.22712 to 1.22272, saving model to BN_Dropout-epoch-07-loss_val-1.2227.h5\n",
            "Epoch 8/15\n",
            "1250/1250 [==============================] - 89s 71ms/step - loss: 1.2993 - accuracy: 0.5339 - val_loss: 1.2250 - val_accuracy: 0.5862\n",
            "\n",
            "Epoch 00008: val_loss did not improve from 1.22272\n",
            "Epoch 9/15\n",
            "1250/1250 [==============================] - 88s 70ms/step - loss: 1.2444 - accuracy: 0.5560 - val_loss: 1.2132 - val_accuracy: 0.5865\n",
            "\n",
            "Epoch 00009: val_loss improved from 1.22272 to 1.21318, saving model to BN_Dropout-epoch-09-loss_val-1.2132.h5\n",
            "Epoch 10/15\n",
            "1250/1250 [==============================] - 86s 69ms/step - loss: 1.1872 - accuracy: 0.5788 - val_loss: 1.1754 - val_accuracy: 0.5893\n",
            "\n",
            "Epoch 00010: val_loss improved from 1.21318 to 1.17544, saving model to BN_Dropout-epoch-10-loss_val-1.1754.h5\n",
            "Epoch 11/15\n",
            "1250/1250 [==============================] - 87s 70ms/step - loss: 1.1314 - accuracy: 0.6012 - val_loss: 1.0942 - val_accuracy: 0.6310\n",
            "\n",
            "Epoch 00011: val_loss improved from 1.17544 to 1.09418, saving model to BN_Dropout-epoch-11-loss_val-1.0942.h5\n",
            "Epoch 12/15\n",
            "1250/1250 [==============================] - 86s 69ms/step - loss: 1.0951 - accuracy: 0.6173 - val_loss: 1.1720 - val_accuracy: 0.6037\n",
            "\n",
            "Epoch 00012: val_loss did not improve from 1.09418\n",
            "Epoch 13/15\n",
            "1250/1250 [==============================] - 86s 69ms/step - loss: 1.0608 - accuracy: 0.6347 - val_loss: 1.1262 - val_accuracy: 0.6132\n",
            "\n",
            "Epoch 00013: val_loss did not improve from 1.09418\n",
            "Epoch 14/15\n",
            "1250/1250 [==============================] - 87s 69ms/step - loss: 1.0197 - accuracy: 0.6481 - val_loss: 1.0560 - val_accuracy: 0.6439\n",
            "\n",
            "Epoch 00014: val_loss improved from 1.09418 to 1.05598, saving model to BN_Dropout-epoch-14-loss_val-1.0560.h5\n",
            "Epoch 15/15\n",
            "1250/1250 [==============================] - 87s 70ms/step - loss: 0.9732 - accuracy: 0.6675 - val_loss: 1.0164 - val_accuracy: 0.6521\n",
            "\n",
            "Epoch 00015: val_loss improved from 1.05598 to 1.01639, saving model to BN_Dropout-epoch-15-loss_val-1.0164.h5\n"
          ],
          "name": "stdout"
        }
      ]
    },
    {
      "cell_type": "code",
      "metadata": {
        "colab": {
          "base_uri": "https://localhost:8080/"
        },
        "id": "r-H2ik1yaEll",
        "outputId": "217b7f0f-c142-4fab-e19c-e17a9a03cdf5"
      },
      "source": [
        "model_BN_Dropout.evaluate(x_test, y_test)"
      ],
      "execution_count": null,
      "outputs": [
        {
          "output_type": "stream",
          "text": [
            "313/313 [==============================] - 6s 19ms/step - loss: 1.0240 - accuracy: 0.6442\n"
          ],
          "name": "stdout"
        },
        {
          "output_type": "execute_result",
          "data": {
            "text/plain": [
              "[1.0239847898483276, 0.6442000269889832]"
            ]
          },
          "metadata": {
            "tags": []
          },
          "execution_count": 80
        }
      ]
    },
    {
      "cell_type": "code",
      "metadata": {
        "colab": {
          "base_uri": "https://localhost:8080/",
          "height": 513
        },
        "id": "Mks4v6g8ftX7",
        "outputId": "a6b50558-80c6-469e-c7aa-703b1339576e"
      },
      "source": [
        "summarize(history=history_BN_Dropout,\r\n",
        "          filename = 'VGG16_BN_Dropout')"
      ],
      "execution_count": null,
      "outputs": [
        {
          "output_type": "display_data",
          "data": {
            "image/png": "[encoded data removed]",
            "text/plain": [
              "<Figure size 504x504 with 2 Axes>"
            ]
          },
          "metadata": {
            "tags": [],
            "needs_background": "light"
          }
        }
      ]
    },
    {
      "cell_type": "markdown",
      "metadata": {
        "id": "DSULqzZmzGnh"
      },
      "source": [
        "## Variant 4 - BatchNorm + Dropout - ELU\r\n",
        "1. Two Convolution Layer, Two Dense\r\n",
        "2. Regularized Conv Layers - Batch Norm\r\n",
        "3. Test Accuracy: 64.46% after 15 epochs\r\n",
        "4. Train Accuracy: 66.81% after 15 epochs\r\n",
        "5. Time taken per epoch: ~90s\r\n",
        "6. Params: 1.06M\r\n",
        "\r\n",
        "Comments:\r\n",
        "* Visibly slower after BatchNorm\r\n",
        "* Comparatively, lesser overfit than just using BatchNorm. Definitely need more epochs to justify the same\r\n",
        "* Training from Scratch is not a great idea.\r\n",
        "* First trial is wrong because of the callbacks!"
      ]
    },
    {
      "cell_type": "code",
      "metadata": {
        "id": "-2dPO3Aef1Ua"
      },
      "source": [
        ""
      ],
      "execution_count": null,
      "outputs": []
    },
    {
      "cell_type": "code",
      "metadata": {
        "id": "XYLb_v_jzGAL"
      },
      "source": [
        ""
      ],
      "execution_count": null,
      "outputs": []
    }
  ]
}