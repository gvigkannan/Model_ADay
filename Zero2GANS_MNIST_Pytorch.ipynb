{
  "nbformat": 4,
  "nbformat_minor": 0,
  "metadata": {
    "colab": {
      "name": "Zero2GANS-MNIST_Pytorch.ipynb",
      "provenance": [],
      "authorship_tag": "ABX9TyPtS82B+P6QC0mkcv9J6eYz",
      "include_colab_link": true
    },
    "kernelspec": {
      "name": "python3",
      "display_name": "Python 3"
    }
  },
  "cells": [
    {
      "cell_type": "markdown",
      "metadata": {
        "id": "view-in-github",
        "colab_type": "text"
      },
      "source": [
        "<a href=\"https://colab.research.google.com/github/gvigkannan/Model_ADay/blob/PyTorch/Zero2GANS_MNIST_Pytorch.ipynb\" target=\"_parent\"><img src=\"https://colab.research.google.com/assets/colab-badge.svg\" alt=\"Open In Colab\"/></a>"
      ]
    },
    {
      "cell_type": "code",
      "metadata": {
        "id": "r5nxaeN8So25"
      },
      "source": [
        "import torch\r\n",
        "import torchvision\r\n",
        "import numpy as np\r\n",
        "import pandas as pd\r\n",
        "import matplotlib.pyplot as plt\r\n",
        "import torch.nn as nn\r\n",
        "import torch.nn.functional as F"
      ],
      "execution_count": null,
      "outputs": []
    },
    {
      "cell_type": "code",
      "metadata": {
        "id": "p-tW1L57TEpY"
      },
      "source": [
        "from torchvision.datasets import MNIST\r\n",
        "from torchvision.transforms import ToTensor\r\n",
        "from torchvision.utils import make_grid\r\n",
        "from torch.utils.data.dataloader import DataLoader\r\n",
        "from torch.utils.data import random_split"
      ],
      "execution_count": null,
      "outputs": []
    },
    {
      "cell_type": "code",
      "metadata": {
        "id": "i9Ac1sQjTUwx"
      },
      "source": [
        "%matplotlib inline\r\n",
        "plt.rcParams['figure.facecolor'] = '#ffffff'"
      ],
      "execution_count": null,
      "outputs": []
    },
    {
      "cell_type": "markdown",
      "metadata": {
        "id": "aDiWK3HXTm_n"
      },
      "source": [
        "## Dataset Processing"
      ]
    },
    {
      "cell_type": "code",
      "metadata": {
        "id": "kqIg8tBATerS"
      },
      "source": [
        "dataset = MNIST(root = 'data/',\r\n",
        "                download = True,\r\n",
        "                transform = ToTensor())"
      ],
      "execution_count": null,
      "outputs": []
    },
    {
      "cell_type": "code",
      "metadata": {
        "colab": {
          "base_uri": "https://localhost:8080/"
        },
        "id": "I6GmFBdgTwHB",
        "outputId": "1e5edded-5e63-4cee-dd26-c93a031ad688"
      },
      "source": [
        "np.shape(dataset[0][0])"
      ],
      "execution_count": null,
      "outputs": [
        {
          "output_type": "execute_result",
          "data": {
            "text/plain": [
              "torch.Size([1, 28, 28])"
            ]
          },
          "metadata": {
            "tags": []
          },
          "execution_count": 96
        }
      ]
    },
    {
      "cell_type": "code",
      "metadata": {
        "colab": {
          "base_uri": "https://localhost:8080/"
        },
        "id": "mVupaPwNUTHj",
        "outputId": "050077fb-6142-4e98-9476-aec201539345"
      },
      "source": [
        "# Data Prep\r\n",
        "val_size = int(len(dataset) * 0.1)\r\n",
        "train_size = len(dataset) - val_size\r\n",
        "train_ds, val_ds = random_split(dataset, \r\n",
        "                                [train_size, val_size])\r\n",
        "len(train_ds), len(val_ds)"
      ],
      "execution_count": null,
      "outputs": [
        {
          "output_type": "execute_result",
          "data": {
            "text/plain": [
              "(54000, 6000)"
            ]
          },
          "metadata": {
            "tags": []
          },
          "execution_count": 97
        }
      ]
    },
    {
      "cell_type": "code",
      "metadata": {
        "id": "7aEUClInTz5J"
      },
      "source": [
        "batch_size = 128 # Hyperparameter!\r\n",
        "train_loader = DataLoader(train_ds,\r\n",
        "                          batch_size,\r\n",
        "                          shuffle = True,\r\n",
        "                          num_workers = 4,\r\n",
        "                          pin_memory = True)\r\n",
        "val_loader = DataLoader(val_ds,\r\n",
        "                        batch_size * 2,\r\n",
        "                        num_workers = 4,\r\n",
        "                        pin_memory = True)"
      ],
      "execution_count": null,
      "outputs": []
    },
    {
      "cell_type": "markdown",
      "metadata": {
        "id": "qaIGy2GUIGSb"
      },
      "source": [
        "## Model"
      ]
    },
    {
      "cell_type": "code",
      "metadata": {
        "id": "CvgZ3nKaJHT_"
      },
      "source": [
        "def accuracy(outputs, labels):\r\n",
        "    _, preds = torch.max(outputs, dim=1)\r\n",
        "    return torch.tensor(torch.sum(preds == labels).item() / len(preds))"
      ],
      "execution_count": null,
      "outputs": []
    },
    {
      "cell_type": "code",
      "metadata": {
        "id": "K-ZdwMuFHxEn"
      },
      "source": [
        "class MNIST_Model(nn.Module):\r\n",
        "    \"\"\"\r\n",
        "    Feedforward NN with 1 Hidden Layer\r\n",
        "    \"\"\"\r\n",
        "    def __init__(self, in_size, hidden_size, out_size):\r\n",
        "        super().__init__()\r\n",
        "        self.linear_1 = nn.Linear(in_size, hidden_size)\r\n",
        "        self.linear_2 = nn.Linear(hidden_size, out_size)\r\n",
        "\r\n",
        "    def forward(self, xb):\r\n",
        "        xb = xb.view(xb.size(0), -1)\r\n",
        "        out = self.linear_1(xb)\r\n",
        "        out = F.relu(out)\r\n",
        "\r\n",
        "        out = self.linear_2(out)\r\n",
        "        return out\r\n",
        "    \r\n",
        "    def training_step(self, batch):\r\n",
        "        images, labels = batch\r\n",
        "        out = self(images)\r\n",
        "        loss = F.cross_entropy(out, labels)\r\n",
        "        return loss\r\n",
        "\r\n",
        "    def validation_step(self, batch):\r\n",
        "        images, labels = batch\r\n",
        "        out = self(images)\r\n",
        "        loss = F.cross_entropy(out, labels)\r\n",
        "        acc = accuracy(out, labels)\r\n",
        "        return {'val_loss': loss, 'val_acc': acc}\r\n",
        "\r\n",
        "    def validation_epoch_end(self, outputs):\r\n",
        "        batch_losses = [x['val_loss'] for x in outputs]\r\n",
        "        epoch_loss = torch.stack(batch_losses).mean()\r\n",
        "\r\n",
        "        batch_accs = [x['val_acc'] for x in outputs]\r\n",
        "        epoch_acc = torch.stack(batch_accs).mean()\r\n",
        "        return {'val_loss': epoch_loss.item(),\r\n",
        "                'val_acc': epoch_acc.item()}\r\n",
        "\r\n",
        "    def epoch_end(self, epoch, result):\r\n",
        "        print(\"Epoch [{}], val_loss: {:.4f}, val_acc: {:.4f}\".format(epoch,\r\n",
        "                                                                    result['val_loss'],\r\n",
        "                                                                    result['val_acc']))\r\n",
        "        "
      ],
      "execution_count": null,
      "outputs": []
    },
    {
      "cell_type": "code",
      "metadata": {
        "id": "d1qoANYbJops"
      },
      "source": [
        "input_size = 784\r\n",
        "hidden_size = 32\r\n",
        "num_classes = 10"
      ],
      "execution_count": null,
      "outputs": []
    },
    {
      "cell_type": "code",
      "metadata": {
        "id": "J6TONNyIKAIj"
      },
      "source": [
        "model_temp = MNIST_Model(input_size, hidden_size,\r\n",
        "                         num_classes)"
      ],
      "execution_count": null,
      "outputs": []
    },
    {
      "cell_type": "code",
      "metadata": {
        "colab": {
          "base_uri": "https://localhost:8080/"
        },
        "id": "NWRaw_4-KF4z",
        "outputId": "0d0ddf1a-7903-43c8-ae08-a66f720427cd"
      },
      "source": [
        "for t in model_temp.parameters():\r\n",
        "    print(t.shape)\r\n"
      ],
      "execution_count": null,
      "outputs": [
        {
          "output_type": "stream",
          "text": [
            "torch.Size([32, 784])\n",
            "torch.Size([32])\n",
            "torch.Size([10, 32])\n",
            "torch.Size([10])\n"
          ],
          "name": "stdout"
        }
      ]
    },
    {
      "cell_type": "code",
      "metadata": {
        "colab": {
          "base_uri": "https://localhost:8080/"
        },
        "id": "rzsDbU8HKL-r",
        "outputId": "6358e4e2-1790-4931-a2d9-30aec9909bd6"
      },
      "source": [
        "# Trial Test!\r\n",
        "for images, labels in train_loader:\r\n",
        "    outputs = model_temp(images)\r\n",
        "    loss = F.cross_entropy(outputs, labels)\r\n",
        "    print('Loss', loss.item())\r\n",
        "    break"
      ],
      "execution_count": null,
      "outputs": [
        {
          "output_type": "stream",
          "text": [
            "Loss 2.304720878601074\n"
          ],
          "name": "stdout"
        }
      ]
    },
    {
      "cell_type": "code",
      "metadata": {
        "colab": {
          "base_uri": "https://localhost:8080/"
        },
        "id": "0uaHkFH_KbU9",
        "outputId": "4fa11e4b-4d8b-4ad5-a435-11b2d18bb50e"
      },
      "source": [
        "print(\"Model Output Shape: {}\".format(outputs.shape))\r\n",
        "print(\"Model Output Sample: \\n\",outputs[:2].data)\r\n",
        "\r\n"
      ],
      "execution_count": null,
      "outputs": [
        {
          "output_type": "stream",
          "text": [
            "Model Output Shape: torch.Size([128, 10])\n",
            "Model Output Sample: \n",
            " tensor([[-0.1247,  0.1444,  0.0148, -0.2210, -0.1035,  0.0022,  0.0032, -0.0825,\n",
            "         -0.1443,  0.0598],\n",
            "        [-0.1617,  0.1580,  0.0629, -0.2119, -0.0756, -0.0991,  0.1838, -0.1155,\n",
            "         -0.1077,  0.0363]])\n"
          ],
          "name": "stdout"
        }
      ]
    },
    {
      "cell_type": "markdown",
      "metadata": {
        "id": "Gkykyg6-K49n"
      },
      "source": [
        "## GPU Related!\r\n"
      ]
    },
    {
      "cell_type": "code",
      "metadata": {
        "id": "jvpZYkpWKwOb"
      },
      "source": [
        "def get_default_device():\r\n",
        "    \"\"\" Pick GPU if available, else CPU\"\"\"\r\n",
        "    if torch.cuda.is_available():\r\n",
        "         return torch.device('cuda')\r\n",
        "    else:\r\n",
        "        return torch.device('cpu')\r\n",
        "        "
      ],
      "execution_count": null,
      "outputs": []
    },
    {
      "cell_type": "code",
      "metadata": {
        "colab": {
          "base_uri": "https://localhost:8080/"
        },
        "id": "fObr4s1mRW5-",
        "outputId": "fee16b88-611a-4604-cc4d-a8094e8e053a"
      },
      "source": [
        "device = get_default_device()\r\n",
        "device"
      ],
      "execution_count": null,
      "outputs": [
        {
          "output_type": "execute_result",
          "data": {
            "text/plain": [
              "device(type='cpu')"
            ]
          },
          "metadata": {
            "tags": []
          },
          "execution_count": 107
        }
      ]
    },
    {
      "cell_type": "code",
      "metadata": {
        "id": "fu0rlU90RYXE"
      },
      "source": [
        "def to_device(data, device):\r\n",
        "    \"\"\" Move tensor(s) to chosen device!\r\n",
        "    \"\"\"\r\n",
        "\r\n",
        "    if isinstance(data, (list, tuple)):\r\n",
        "        return [to_device(x, device) for x in data]\r\n",
        "    return data.to(device, non_blocking = True)"
      ],
      "execution_count": null,
      "outputs": []
    },
    {
      "cell_type": "code",
      "metadata": {
        "colab": {
          "base_uri": "https://localhost:8080/"
        },
        "id": "Rwm5zskMRvv0",
        "outputId": "1118ea12-4cba-4908-a903-776a1c2ef470"
      },
      "source": [
        "for images, labels in train_loader:\r\n",
        "    print(images.shape)\r\n",
        "    images = to_device(images, device)\r\n",
        "    print(images.device)\r\n",
        "    break"
      ],
      "execution_count": null,
      "outputs": [
        {
          "output_type": "stream",
          "text": [
            "torch.Size([128, 1, 28, 28])\n",
            "cpu\n"
          ],
          "name": "stdout"
        }
      ]
    },
    {
      "cell_type": "code",
      "metadata": {
        "id": "zPGsGVUnRxP8"
      },
      "source": [
        "class DeviceDataLoader():\r\n",
        "    \"\"\" Wrap a dataloader to move data to device\"\"\"\r\n",
        "    def __init__(self, dl, device):\r\n",
        "        self.dl = dl \r\n",
        "        self.device = device\r\n",
        "\r\n",
        "    def __iter__(self):\r\n",
        "        \"\"\" Yield a batch of data after moving it a device!\"\"\"\r\n",
        "        for b in self.dl:\r\n",
        "            yield to_device(b, self.device)\r\n",
        "\r\n",
        "    def __len__(self):\r\n",
        "        \"\"\" Number of batches \"\"\"\r\n",
        "        return len(self.dl)"
      ],
      "execution_count": null,
      "outputs": []
    },
    {
      "cell_type": "markdown",
      "metadata": {
        "id": "RDwaqi9iSa-A"
      },
      "source": [
        "## Training the Model!"
      ]
    },
    {
      "cell_type": "code",
      "metadata": {
        "id": "9YDGCLthSY88"
      },
      "source": [
        "def evaluate(model, val_loader):\r\n",
        "    \"\"\" Evaluate the model's performance on the validation set \"\"\"\r\n",
        "    outputs = [model.validation_step(batch) for batch in val_loader]\r\n",
        "    return model.validation_epoch_end(outputs)\r\n",
        "\r\n",
        "def fit(epochs, lr, model, train_loader, val_loader, opt_func = torch.optim.SGD):\r\n",
        "    \"\"\" Train the model using SGD\"\"\"\r\n",
        "    history = []\r\n",
        "    optimizer = opt_func(model.parameters(), lr)\r\n",
        "\r\n",
        "    for epoch in range(epochs):\r\n",
        "        for batch in train_loader:\r\n",
        "            loss = model.training_step(batch)\r\n",
        "            loss.backward()\r\n",
        "            optimizer.step()\r\n",
        "            optimizer.zero_grad()\r\n",
        "\r\n",
        "        result = evaluate(model, val_loader)\r\n",
        "        model.epoch_end(epoch, result)\r\n",
        "        history.append(result)\r\n",
        "    return history\r\n"
      ],
      "execution_count": null,
      "outputs": []
    },
    {
      "cell_type": "code",
      "metadata": {
        "colab": {
          "base_uri": "https://localhost:8080/"
        },
        "id": "5CcK6g1fTzZt",
        "outputId": "fd7a97c2-5722-498e-9785-c59e40be6a5e"
      },
      "source": [
        "model = MNIST_Model(input_size, hidden_size, num_classes)\r\n",
        "to_device(model, device)"
      ],
      "execution_count": null,
      "outputs": [
        {
          "output_type": "execute_result",
          "data": {
            "text/plain": [
              "MNIST_Model(\n",
              "  (linear_1): Linear(in_features=784, out_features=32, bias=True)\n",
              "  (linear_2): Linear(in_features=32, out_features=10, bias=True)\n",
              ")"
            ]
          },
          "metadata": {
            "tags": []
          },
          "execution_count": 119
        }
      ]
    },
    {
      "cell_type": "code",
      "metadata": {
        "id": "5bOZx3exT6Rs"
      },
      "source": [
        "history = [evaluate(model, val_loader)]"
      ],
      "execution_count": null,
      "outputs": []
    },
    {
      "cell_type": "code",
      "metadata": {
        "colab": {
          "base_uri": "https://localhost:8080/"
        },
        "id": "g-jGyUO8T9ql",
        "outputId": "d043afd5-5a66-4aed-9d85-fa0df73d1381"
      },
      "source": [
        "history += fit(5, 0.5, model, train_loader, val_loader)"
      ],
      "execution_count": null,
      "outputs": [
        {
          "output_type": "stream",
          "text": [
            "Epoch [0], val_loss: 0.2111, val_acc: 0.9396\n",
            "Epoch [1], val_loss: 0.1754, val_acc: 0.9476\n",
            "Epoch [2], val_loss: 0.1512, val_acc: 0.9575\n",
            "Epoch [3], val_loss: 0.1340, val_acc: 0.9615\n",
            "Epoch [4], val_loss: 0.1321, val_acc: 0.9603\n"
          ],
          "name": "stdout"
        }
      ]
    },
    {
      "cell_type": "code",
      "metadata": {
        "colab": {
          "base_uri": "https://localhost:8080/"
        },
        "id": "EryDIV6jUc49",
        "outputId": "a9f65616-d4a6-4f4c-89f2-67f13324fb88"
      },
      "source": [
        "history += fit(5, 0.1, model, train_loader, val_loader)"
      ],
      "execution_count": null,
      "outputs": [
        {
          "output_type": "stream",
          "text": [
            "Epoch [0], val_loss: 0.1160, val_acc: 0.9654\n",
            "Epoch [1], val_loss: 0.1160, val_acc: 0.9654\n",
            "Epoch [2], val_loss: 0.1138, val_acc: 0.9663\n",
            "Epoch [3], val_loss: 0.1130, val_acc: 0.9665\n",
            "Epoch [4], val_loss: 0.1171, val_acc: 0.9643\n"
          ],
          "name": "stdout"
        }
      ]
    },
    {
      "cell_type": "code",
      "metadata": {
        "colab": {
          "base_uri": "https://localhost:8080/"
        },
        "id": "XHtvnyblUiVW",
        "outputId": "f812be68-c2ae-468f-a9a6-62d3febc44d7"
      },
      "source": [
        "history += fit(5, 0.01, model, train_loader, val_loader)"
      ],
      "execution_count": null,
      "outputs": [
        {
          "output_type": "stream",
          "text": [
            "Epoch [0], val_loss: 0.1120, val_acc: 0.9655\n",
            "Epoch [1], val_loss: 0.1114, val_acc: 0.9658\n",
            "Epoch [2], val_loss: 0.1115, val_acc: 0.9656\n",
            "Epoch [3], val_loss: 0.1114, val_acc: 0.9656\n",
            "Epoch [4], val_loss: 0.1113, val_acc: 0.9660\n"
          ],
          "name": "stdout"
        }
      ]
    },
    {
      "cell_type": "markdown",
      "metadata": {
        "id": "YB1yFiTuVyT6"
      },
      "source": [
        "## Testing"
      ]
    },
    {
      "cell_type": "code",
      "metadata": {
        "id": "wBEE0pyXV0BI"
      },
      "source": [
        "test_dataset = MNIST(root='data/', \r\n",
        "                     train=False,\r\n",
        "                     transform=ToTensor())"
      ],
      "execution_count": null,
      "outputs": []
    },
    {
      "cell_type": "code",
      "metadata": {
        "colab": {
          "base_uri": "https://localhost:8080/"
        },
        "id": "ahz_y3MeVhg3",
        "outputId": "9dd4aa58-1219-4d1d-a12c-68c92ad3bae7"
      },
      "source": [
        "test_loader = DeviceDataLoader(DataLoader(test_dataset, batch_size=256), device)\r\n",
        "result = evaluate(model, test_loader)\r\n",
        "result"
      ],
      "execution_count": null,
      "outputs": [
        {
          "output_type": "execute_result",
          "data": {
            "text/plain": [
              "{'val_acc': 0.9688476324081421, 'val_loss': 0.10450003296136856}"
            ]
          },
          "metadata": {
            "tags": []
          },
          "execution_count": 127
        }
      ]
    }
  ]
}