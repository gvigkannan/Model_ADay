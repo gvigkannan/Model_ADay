{
  "nbformat": 4,
  "nbformat_minor": 0,
  "metadata": {
    "colab": {
      "name": "ResNet_CIFAR10.ipynb",
      "provenance": [],
      "authorship_tag": "ABX9TyPrjKqe2mOEwQgtALYmaBYf",
      "include_colab_link": true
    },
    "kernelspec": {
      "name": "python3",
      "display_name": "Python 3"
    }
  },
  "cells": [
    {
      "cell_type": "markdown",
      "metadata": {
        "id": "view-in-github",
        "colab_type": "text"
      },
      "source": [
        "<a href=\"https://colab.research.google.com/github/gvigkannan/Model_ADay/blob/Keras/ResNet_CIFAR10.ipynb\" target=\"_parent\"><img src=\"https://colab.research.google.com/assets/colab-badge.svg\" alt=\"Open In Colab\"/></a>"
      ]
    },
    {
      "cell_type": "code",
      "metadata": {
        "id": "P6m2KbJ-I1R9"
      },
      "source": [
        "import tensorflow as tf\n",
        "import tensorflow.keras as keras\n",
        "from tensorflow.keras import layers\n",
        "import matplotlib.pyplot as plt\n",
        "import numpy as np"
      ],
      "execution_count": null,
      "outputs": []
    },
    {
      "cell_type": "markdown",
      "metadata": {
        "id": "qus-_LnV8iVU"
      },
      "source": [
        "## Importing and Processing Dataset!\n",
        " * Need to try out Data Augmentation and see the result!"
      ]
    },
    {
      "cell_type": "code",
      "metadata": {
        "id": "14rzFrdQ8hlg",
        "colab": {
          "base_uri": "https://localhost:8080/"
        },
        "outputId": "b7e69832-f68a-4573-ef87-ef40bfe78cf4"
      },
      "source": [
        " (x_train, y_train), (x_test, y_test) = keras.datasets.cifar10.load_data()\n",
        " # For Feature Space\n",
        " x_train = x_train.astype('float32')/255\n",
        " x_test = x_test.astype('float32')/255\n",
        "\n",
        " # For Target Space\n",
        " y_train = keras.utils.to_categorical(y_train, num_classes = 10)\n",
        " y_test = keras.utils.to_categorical(y_test, num_classes = 10)"
      ],
      "execution_count": null,
      "outputs": [
        {
          "output_type": "stream",
          "text": [
            "Downloading data from https://www.cs.toronto.edu/~kriz/cifar-10-python.tar.gz\n",
            "170500096/170498071 [==============================] - 3s 0us/step\n"
          ],
          "name": "stdout"
        }
      ]
    },
    {
      "cell_type": "code",
      "metadata": {
        "colab": {
          "base_uri": "https://localhost:8080/"
        },
        "id": "gkRgvnb-DnyT",
        "outputId": "4a8e59aa-a989-4151-e4ac-2e8007bf311c"
      },
      "source": [
        "x_train[0].shape"
      ],
      "execution_count": null,
      "outputs": [
        {
          "output_type": "execute_result",
          "data": {
            "text/plain": [
              "(32, 32, 3)"
            ]
          },
          "metadata": {
            "tags": []
          },
          "execution_count": 3
        }
      ]
    },
    {
      "cell_type": "code",
      "metadata": {
        "id": "7eXBlHvfENRR"
      },
      "source": [
        "#train_test_split?"
      ],
      "execution_count": null,
      "outputs": []
    },
    {
      "cell_type": "code",
      "metadata": {
        "id": "awl_Xk5-Dy4a"
      },
      "source": [
        "# Creating a validation dataset\n",
        "from sklearn.model_selection import train_test_split\n",
        "x_train, x_val, y_train, y_val = train_test_split(x_train,\n",
        "                                                  y_train,\n",
        "                                                  test_size = 0.1)"
      ],
      "execution_count": null,
      "outputs": []
    },
    {
      "cell_type": "code",
      "metadata": {
        "colab": {
          "base_uri": "https://localhost:8080/"
        },
        "id": "y2GrIs8gnMF6",
        "outputId": "b6ca98d3-57ee-418e-dce8-7917aab58541"
      },
      "source": [
        "print(y_train.shape)\n",
        "print(y_val.shape)"
      ],
      "execution_count": null,
      "outputs": [
        {
          "output_type": "stream",
          "text": [
            "(45000, 10)\n",
            "(5000, 10)\n"
          ],
          "name": "stdout"
        }
      ]
    },
    {
      "cell_type": "markdown",
      "metadata": {
        "id": "eWwjnB9qK_Sx"
      },
      "source": [
        "## Residual Module\n",
        "* Filters = 32\n",
        "* Dense = 1 x 64\n",
        "* Train:\n",
        "    * Loss:\n",
        "    * Acc:\n",
        "* Val:\n",
        "    * Loss:\n",
        "    * Acc:\n",
        "* Test:\n",
        "    * Loss:\n",
        "    * Acc:"
      ]
    },
    {
      "cell_type": "markdown",
      "metadata": {
        "id": "wP9EX4W1xW9z"
      },
      "source": [
        "### Session 1\r\n"
      ]
    },
    {
      "cell_type": "code",
      "metadata": {
        "id": "4UhH92uVLClX"
      },
      "source": [
        "def residual_module(layer_in, n_filters):\n",
        "    # conv1\n",
        "    y = layers.Conv2D(filters = n_filters, \n",
        "                          kernel_size = (3, 3),\n",
        "                          padding = 'same')(layer_in)\n",
        "    y = keras.layers.Activation('elu')(y)\n",
        "    y = layers.BatchNormalization()(y)\n",
        "    y = layers.Conv2D(filters = n_filters, \n",
        "                        kernel_size = (3, 3),\n",
        "                        strides = (1, 1),\n",
        "                        padding = 'same')(y)\n",
        "    y = layers.BatchNormalization()(y)\n",
        "    z = layers.Conv2D(filters = n_filters,\n",
        "                      kernel_size = (1,1))(layer_in)\n",
        "    x = layers.add([y, z])\n",
        "    return keras.activations.elu(x)"
      ],
      "execution_count": null,
      "outputs": []
    },
    {
      "cell_type": "code",
      "metadata": {
        "id": "YKuNABMOR_hA"
      },
      "source": [
        "def ResNet():\n",
        "    model_input = keras.Input(shape = (32,32,3))\n",
        "    x = residual_module(layer_in = model_input,\n",
        "                        n_filters = 32)\n",
        "    x = keras.layers.MaxPool2D(pool_size=(2,2))(x)\n",
        "    x = keras.layers.Flatten()(x)\n",
        "    x = keras.layers.Dense(64)(x)\n",
        "    x = keras.layers.Activation('elu')(x)\n",
        "    x = keras.layers.Dropout(0.5)(x)\n",
        "    x = keras.layers.Dense(10)(x)\n",
        "    model_output = keras.layers.Activation('softmax')(x)\n",
        "    return keras.Model(inputs = model_input, outputs = model_output)"
      ],
      "execution_count": null,
      "outputs": []
    },
    {
      "cell_type": "code",
      "metadata": {
        "id": "NlAMfD4JW5YY"
      },
      "source": [
        ""
      ],
      "execution_count": null,
      "outputs": []
    },
    {
      "cell_type": "code",
      "metadata": {
        "colab": {
          "base_uri": "https://localhost:8080/"
        },
        "id": "sObeEzTKWBxY",
        "outputId": "fd3462b4-6fdc-4237-c85e-07a142f6fb0f"
      },
      "source": [
        "model_temp = ResNet()\n",
        "model_temp.compile(loss = 'categorical_crossentropy',\n",
        "                 optimizer = keras.optimizers.Adam(),\n",
        "                 metrics = ['accuracy'])\n",
        "model_temp.summary()"
      ],
      "execution_count": null,
      "outputs": [
        {
          "output_type": "stream",
          "text": [
            "Model: \"model_3\"\n",
            "__________________________________________________________________________________________________\n",
            "Layer (type)                    Output Shape         Param #     Connected to                     \n",
            "==================================================================================================\n",
            "input_8 (InputLayer)            [(None, 32, 32, 3)]  0                                            \n",
            "__________________________________________________________________________________________________\n",
            "conv2d_13 (Conv2D)              (None, 32, 32, 32)   896         input_8[0][0]                    \n",
            "__________________________________________________________________________________________________\n",
            "activation_2 (Activation)       (None, 32, 32, 32)   0           conv2d_13[0][0]                  \n",
            "__________________________________________________________________________________________________\n",
            "batch_normalization_8 (BatchNor (None, 32, 32, 32)   128         activation_2[0][0]               \n",
            "__________________________________________________________________________________________________\n",
            "conv2d_14 (Conv2D)              (None, 32, 32, 32)   9248        batch_normalization_8[0][0]      \n",
            "__________________________________________________________________________________________________\n",
            "batch_normalization_9 (BatchNor (None, 32, 32, 32)   128         conv2d_14[0][0]                  \n",
            "__________________________________________________________________________________________________\n",
            "conv2d_15 (Conv2D)              (None, 32, 32, 32)   128         input_8[0][0]                    \n",
            "__________________________________________________________________________________________________\n",
            "add_4 (Add)                     (None, 32, 32, 32)   0           batch_normalization_9[0][0]      \n",
            "                                                                 conv2d_15[0][0]                  \n",
            "__________________________________________________________________________________________________\n",
            "tf.nn.elu_7 (TFOpLambda)        (None, 32, 32, 32)   0           add_4[0][0]                      \n",
            "__________________________________________________________________________________________________\n",
            "max_pooling2d_1 (MaxPooling2D)  (None, 16, 16, 32)   0           tf.nn.elu_7[0][0]                \n",
            "__________________________________________________________________________________________________\n",
            "flatten_1 (Flatten)             (None, 8192)         0           max_pooling2d_1[0][0]            \n",
            "__________________________________________________________________________________________________\n",
            "dense_2 (Dense)                 (None, 64)           524352      flatten_1[0][0]                  \n",
            "__________________________________________________________________________________________________\n",
            "activation_3 (Activation)       (None, 64)           0           dense_2[0][0]                    \n",
            "__________________________________________________________________________________________________\n",
            "dropout_1 (Dropout)             (None, 64)           0           activation_3[0][0]               \n",
            "__________________________________________________________________________________________________\n",
            "dense_3 (Dense)                 (None, 10)           650         dropout_1[0][0]                  \n",
            "__________________________________________________________________________________________________\n",
            "activation_4 (Activation)       (None, 10)           0           dense_3[0][0]                    \n",
            "==================================================================================================\n",
            "Total params: 535,530\n",
            "Trainable params: 535,402\n",
            "Non-trainable params: 128\n",
            "__________________________________________________________________________________________________\n"
          ],
          "name": "stdout"
        }
      ]
    },
    {
      "cell_type": "code",
      "metadata": {
        "id": "lweaoDm4WFXT"
      },
      "source": [
        "my_callbacks = [keras.callbacks.ModelCheckpoint(filepath = 'ResNet_v1_acc_{val_accuracy:.2f}.hdf5',\n",
        "                                                monitor = 'val_loss',\n",
        "                                                mode = 'min',\n",
        "                                                save_best_only = True,\n",
        "                                                save_weights_only = True,\n",
        "                                                verbose = 2),\n",
        "                keras.callbacks.EarlyStopping(monitor = 'val_loss',\n",
        "                                              patience = 7,\n",
        "                                              verbose = 2,\n",
        "                                              restore_best_weights = True),\n",
        "                keras.callbacks.ReduceLROnPlateau(factor = 0.5,\n",
        "                                                  patience = 7)\n",
        "                ]"
      ],
      "execution_count": null,
      "outputs": []
    },
    {
      "cell_type": "code",
      "metadata": {
        "colab": {
          "base_uri": "https://localhost:8080/"
        },
        "id": "LPxDGBUjZSjy",
        "outputId": "29de01e7-9087-40f0-aba9-f126185976db"
      },
      "source": [
        "# Approx: 2min 48s per epoch! for C32, C64 and D64 and D16 - 166\n",
        "\n",
        "history_temp = model_temp.fit(x_train, y_train, \n",
        "                              batch_size = 32,\n",
        "                              epochs = 10,\n",
        "                              validation_data = (x_val, y_val),\n",
        "                              callbacks = my_callbacks)"
      ],
      "execution_count": null,
      "outputs": [
        {
          "output_type": "stream",
          "text": [
            "Epoch 1/10\n",
            "1407/1407 [==============================] - 166s 117ms/step - loss: 2.4462 - accuracy: 0.2483 - val_loss: 1.3792 - val_accuracy: 0.5042\n",
            "\n",
            "Epoch 00001: val_loss improved from inf to 1.37925, saving model to CNN_C2D2_v4_acc_0.50.hdf5\n",
            "Epoch 2/10\n",
            "1407/1407 [==============================] - 166s 118ms/step - loss: 1.3895 - accuracy: 0.5062 - val_loss: 1.0826 - val_accuracy: 0.6110\n",
            "\n",
            "Epoch 00002: val_loss improved from 1.37925 to 1.08260, saving model to CNN_C2D2_v4_acc_0.61.hdf5\n",
            "Epoch 3/10\n",
            "1407/1407 [==============================] - 166s 118ms/step - loss: 1.1869 - accuracy: 0.5855 - val_loss: 1.0810 - val_accuracy: 0.6162\n",
            "\n",
            "Epoch 00003: val_loss improved from 1.08260 to 1.08098, saving model to CNN_C2D2_v4_acc_0.62.hdf5\n",
            "Epoch 4/10\n",
            "1407/1407 [==============================] - 167s 119ms/step - loss: 1.1038 - accuracy: 0.6134 - val_loss: 1.0440 - val_accuracy: 0.6308\n",
            "\n",
            "Epoch 00004: val_loss improved from 1.08098 to 1.04402, saving model to CNN_C2D2_v4_acc_0.63.hdf5\n",
            "Epoch 5/10\n",
            "1407/1407 [==============================] - 166s 118ms/step - loss: 1.0431 - accuracy: 0.6320 - val_loss: 0.9669 - val_accuracy: 0.6590\n",
            "\n",
            "Epoch 00005: val_loss improved from 1.04402 to 0.96695, saving model to CNN_C2D2_v4_acc_0.66.hdf5\n",
            "Epoch 6/10\n",
            "1407/1407 [==============================] - 167s 118ms/step - loss: 0.9889 - accuracy: 0.6469 - val_loss: 0.9690 - val_accuracy: 0.6568\n",
            "\n",
            "Epoch 00006: val_loss did not improve from 0.96695\n",
            "Epoch 7/10\n",
            "1407/1407 [==============================] - 165s 118ms/step - loss: 0.9483 - accuracy: 0.6622 - val_loss: 0.9513 - val_accuracy: 0.6702\n",
            "\n",
            "Epoch 00007: val_loss improved from 0.96695 to 0.95133, saving model to CNN_C2D2_v4_acc_0.67.hdf5\n",
            "Epoch 8/10\n",
            "1407/1407 [==============================] - 165s 117ms/step - loss: 0.9128 - accuracy: 0.6755 - val_loss: 1.0022 - val_accuracy: 0.6570\n",
            "\n",
            "Epoch 00008: val_loss did not improve from 0.95133\n",
            "Epoch 9/10\n",
            "1407/1407 [==============================] - 166s 118ms/step - loss: 0.8654 - accuracy: 0.6898 - val_loss: 0.9512 - val_accuracy: 0.6696\n",
            "\n",
            "Epoch 00009: val_loss improved from 0.95133 to 0.95123, saving model to CNN_C2D2_v4_acc_0.67.hdf5\n",
            "Epoch 10/10\n",
            "1407/1407 [==============================] - 164s 117ms/step - loss: 0.8431 - accuracy: 0.7003 - val_loss: 1.0045 - val_accuracy: 0.6554\n",
            "\n",
            "Epoch 00010: val_loss did not improve from 0.95123\n"
          ],
          "name": "stdout"
        }
      ]
    },
    {
      "cell_type": "code",
      "metadata": {
        "colab": {
          "base_uri": "https://localhost:8080/",
          "height": 461
        },
        "id": "tx7xF0kwfBvy",
        "outputId": "5799b530-0c74-4355-c2a6-6298f267ebe8"
      },
      "source": [
        "history = history_temp.history\n",
        "import matplotlib.pyplot as plt\n",
        "plt.figure(figsize = (7,7))\n",
        "plt.plot(history['accuracy'], c = 'b', label = 'train_accuracy')\n",
        "plt.plot(history['val_accuracy'], c = 'orange' , label = 'val_accuracy')\n",
        "plt.xticks(c = 'c')\n",
        "plt.yticks(c = 'c')\n",
        "plt.xlim([0, 10])\n",
        "plt.ylim([0.4, 0.8])\n",
        "plt.title('Baseline - C2D64', c = 'orange')\n",
        "plt.legend()\n"
      ],
      "execution_count": null,
      "outputs": [
        {
          "output_type": "execute_result",
          "data": {
            "text/plain": [
              "<matplotlib.legend.Legend at 0x7fe40ac434e0>"
            ]
          },
          "metadata": {
            "tags": []
          },
          "execution_count": 38
        },
        {
          "output_type": "display_data",
          "data": {
            "image/png": "[encoded data removed]",
            "text/plain": [
              "<Figure size 504x504 with 1 Axes>"
            ]
          },
          "metadata": {
            "tags": [],
            "needs_background": "dark"
          }
        }
      ]
    },
    {
      "cell_type": "code",
      "metadata": {
        "colab": {
          "base_uri": "https://localhost:8080/",
          "height": 461
        },
        "id": "VFPmirQdfCWG",
        "outputId": "b74523d2-ff8d-41bc-b6a5-542568790cb3"
      },
      "source": [
        "plt.figure(figsize = (7,7))\n",
        "plt.plot(history['loss'], c = 'b', label = 'train_loss')\n",
        "plt.plot(history['val_loss'], c = 'orange' , label = 'val_loss')\n",
        "plt.xticks(c = 'c')\n",
        "plt.yticks(c = 'c')\n",
        "plt.xlim([0, 10])\n",
        "plt.title('Baseline - C2D64 - Loss')\n",
        "plt.legend()"
      ],
      "execution_count": null,
      "outputs": [
        {
          "output_type": "execute_result",
          "data": {
            "text/plain": [
              "<matplotlib.legend.Legend at 0x7fe40a746710>"
            ]
          },
          "metadata": {
            "tags": []
          },
          "execution_count": 39
        },
        {
          "output_type": "display_data",
          "data": {
            "image/png": "[encoded data removed]",
            "text/plain": [
              "<Figure size 504x504 with 1 Axes>"
            ]
          },
          "metadata": {
            "tags": [],
            "needs_background": "dark"
          }
        }
      ]
    },
    {
      "cell_type": "code",
      "metadata": {
        "id": "Wwz7k9Pbgjyy"
      },
      "source": [
        "model_temp.save('ResNet_v1_vacc_67.h5')"
      ],
      "execution_count": null,
      "outputs": []
    },
    {
      "cell_type": "markdown",
      "metadata": {
        "id": "cT-6V7u-xTzt"
      },
      "source": [
        "###  Session 2\r\n"
      ]
    },
    {
      "cell_type": "code",
      "metadata": {
        "id": "EpzPGfGZgqs4"
      },
      "source": [
        "resnet_v1 = keras.models.load_model('ResNet_v1_vacc_67.h5')"
      ],
      "execution_count": null,
      "outputs": []
    },
    {
      "cell_type": "code",
      "metadata": {
        "colab": {
          "base_uri": "https://localhost:8080/"
        },
        "id": "Gy9rouQfxgXu",
        "outputId": "a56d449d-ba62-4cc4-ffa7-40e0353c8dbe"
      },
      "source": [
        "resnet_v1.summary()"
      ],
      "execution_count": null,
      "outputs": [
        {
          "output_type": "stream",
          "text": [
            "Model: \"model_3\"\n",
            "__________________________________________________________________________________________________\n",
            "Layer (type)                    Output Shape         Param #     Connected to                     \n",
            "==================================================================================================\n",
            "input_8 (InputLayer)            [(None, 32, 32, 3)]  0                                            \n",
            "__________________________________________________________________________________________________\n",
            "conv2d_13 (Conv2D)              (None, 32, 32, 32)   896         input_8[0][0]                    \n",
            "__________________________________________________________________________________________________\n",
            "activation_2 (Activation)       (None, 32, 32, 32)   0           conv2d_13[0][0]                  \n",
            "__________________________________________________________________________________________________\n",
            "batch_normalization_8 (BatchNor (None, 32, 32, 32)   128         activation_2[0][0]               \n",
            "__________________________________________________________________________________________________\n",
            "conv2d_14 (Conv2D)              (None, 32, 32, 32)   9248        batch_normalization_8[0][0]      \n",
            "__________________________________________________________________________________________________\n",
            "batch_normalization_9 (BatchNor (None, 32, 32, 32)   128         conv2d_14[0][0]                  \n",
            "__________________________________________________________________________________________________\n",
            "conv2d_15 (Conv2D)              (None, 32, 32, 32)   128         input_8[0][0]                    \n",
            "__________________________________________________________________________________________________\n",
            "add_4 (Add)                     (None, 32, 32, 32)   0           batch_normalization_9[0][0]      \n",
            "                                                                 conv2d_15[0][0]                  \n",
            "__________________________________________________________________________________________________\n",
            "tf.nn.elu_7 (TFOpLambda)        (None, 32, 32, 32)   0           add_4[0][0]                      \n",
            "__________________________________________________________________________________________________\n",
            "max_pooling2d_1 (MaxPooling2D)  (None, 16, 16, 32)   0           tf.nn.elu_7[0][0]                \n",
            "__________________________________________________________________________________________________\n",
            "flatten_1 (Flatten)             (None, 8192)         0           max_pooling2d_1[0][0]            \n",
            "__________________________________________________________________________________________________\n",
            "dense_2 (Dense)                 (None, 64)           524352      flatten_1[0][0]                  \n",
            "__________________________________________________________________________________________________\n",
            "activation_3 (Activation)       (None, 64)           0           dense_2[0][0]                    \n",
            "__________________________________________________________________________________________________\n",
            "dropout_1 (Dropout)             (None, 64)           0           activation_3[0][0]               \n",
            "__________________________________________________________________________________________________\n",
            "dense_3 (Dense)                 (None, 10)           650         dropout_1[0][0]                  \n",
            "__________________________________________________________________________________________________\n",
            "activation_4 (Activation)       (None, 10)           0           dense_3[0][0]                    \n",
            "==================================================================================================\n",
            "Total params: 535,530\n",
            "Trainable params: 535,402\n",
            "Non-trainable params: 128\n",
            "__________________________________________________________________________________________________\n"
          ],
          "name": "stdout"
        }
      ]
    },
    {
      "cell_type": "code",
      "metadata": {
        "id": "Iv0zTRLFxh-Q"
      },
      "source": [
        "my_callbacks = [keras.callbacks.ModelCheckpoint(filepath = 'ResNet_v1_s1_acc_{val_accuracy:.2f}.hdf5',\r\n",
        "                                                monitor = 'val_loss',\r\n",
        "                                                mode = 'min',\r\n",
        "                                                save_best_only = True,\r\n",
        "                                                save_weights_only = True,\r\n",
        "                                                verbose = 2),\r\n",
        "                keras.callbacks.EarlyStopping(monitor = 'val_loss',\r\n",
        "                                              patience = 7,\r\n",
        "                                              verbose = 2,\r\n",
        "                                              restore_best_weights = True),\r\n",
        "                keras.callbacks.ReduceLROnPlateau(factor = 0.5,\r\n",
        "                                                  patience = 7)\r\n",
        "                ]"
      ],
      "execution_count": null,
      "outputs": []
    },
    {
      "cell_type": "code",
      "metadata": {
        "id": "2A53Mw8gzT8E"
      },
      "source": [
        "# Save your dataset splits! Otherwise, your model will be exposed to validation set!"
      ],
      "execution_count": null,
      "outputs": []
    },
    {
      "cell_type": "code",
      "metadata": {
        "colab": {
          "base_uri": "https://localhost:8080/"
        },
        "id": "VPNFS5ZHxpaH",
        "outputId": "3d96b6ee-cedd-46a9-b62d-5e06e39ce7c1"
      },
      "source": [
        "# Approx: 2min 48s per epoch! for C32, C64 and D64 and D16 - 166\r\n",
        "# Session2: 197s\r\n",
        "model_temp = resnet_v1\r\n",
        "history_temp = model_temp.fit(x_train, y_train, \r\n",
        "                              batch_size = 32,\r\n",
        "                              epochs = 10,\r\n",
        "                              validation_data = (x_val, y_val),\r\n",
        "                              callbacks = my_callbacks)"
      ],
      "execution_count": null,
      "outputs": [
        {
          "output_type": "stream",
          "text": [
            "Epoch 1/10\n",
            "1407/1407 [==============================] - 197s 139ms/step - loss: 0.8533 - accuracy: 0.6966 - val_loss: 0.6302 - val_accuracy: 0.7848\n",
            "\n",
            "Epoch 00001: val_loss improved from inf to 0.63023, saving model to ResNet_v1_s1_acc_0.78.hdf5\n",
            "Epoch 2/10\n",
            "1407/1407 [==============================] - 195s 139ms/step - loss: 0.8251 - accuracy: 0.7066 - val_loss: 0.6922 - val_accuracy: 0.7544\n",
            "\n",
            "Epoch 00002: val_loss did not improve from 0.63023\n",
            "Epoch 3/10\n",
            "1407/1407 [==============================] - 194s 138ms/step - loss: 0.7860 - accuracy: 0.7182 - val_loss: 0.7347 - val_accuracy: 0.7478\n",
            "\n",
            "Epoch 00003: val_loss did not improve from 0.63023\n",
            "Epoch 4/10\n",
            "1407/1407 [==============================] - 197s 140ms/step - loss: 0.7682 - accuracy: 0.7247 - val_loss: 0.7105 - val_accuracy: 0.7498\n",
            "\n",
            "Epoch 00004: val_loss did not improve from 0.63023\n",
            "Epoch 5/10\n",
            "1407/1407 [==============================] - 193s 137ms/step - loss: 0.7367 - accuracy: 0.7349 - val_loss: 0.7754 - val_accuracy: 0.7294\n",
            "\n",
            "Epoch 00005: val_loss did not improve from 0.63023\n",
            "Epoch 6/10\n",
            "1407/1407 [==============================] - 195s 138ms/step - loss: 0.7037 - accuracy: 0.7465 - val_loss: 0.7733 - val_accuracy: 0.7386\n",
            "\n",
            "Epoch 00006: val_loss did not improve from 0.63023\n",
            "Epoch 7/10\n",
            "1407/1407 [==============================] - 199s 141ms/step - loss: 0.6862 - accuracy: 0.7511 - val_loss: 0.7833 - val_accuracy: 0.7312\n",
            "\n",
            "Epoch 00007: val_loss did not improve from 0.63023\n",
            "Epoch 8/10\n",
            "1407/1407 [==============================] - 195s 139ms/step - loss: 0.6603 - accuracy: 0.7575 - val_loss: 0.8078 - val_accuracy: 0.7254\n",
            "\n",
            "Epoch 00008: val_loss did not improve from 0.63023\n",
            "Restoring model weights from the end of the best epoch.\n",
            "Epoch 00008: early stopping\n"
          ],
          "name": "stdout"
        }
      ]
    },
    {
      "cell_type": "code",
      "metadata": {
        "colab": {
          "base_uri": "https://localhost:8080/",
          "height": 462
        },
        "id": "0tQYc0EU4wUh",
        "outputId": "4174602b-e08d-4002-eabb-4e4b778776c6"
      },
      "source": [
        "history = history_temp.history\r\n",
        "import matplotlib.pyplot as plt\r\n",
        "plt.figure(figsize = (7,7))\r\n",
        "plt.plot(history['accuracy'], c = 'b', label = 'train_accuracy')\r\n",
        "plt.plot(history['val_accuracy'], c = 'orange' , label = 'val_accuracy')\r\n",
        "plt.xticks(c = 'c')\r\n",
        "plt.yticks(c = 'c')\r\n",
        "plt.xlim([0, 10])\r\n",
        "plt.ylim([0.4, 0.8])\r\n",
        "plt.title('Baseline - C2D64', c = 'orange')\r\n",
        "plt.legend()\r\n"
      ],
      "execution_count": null,
      "outputs": [
        {
          "output_type": "execute_result",
          "data": {
            "text/plain": [
              "<matplotlib.legend.Legend at 0x7f29032bc0b8>"
            ]
          },
          "metadata": {
            "tags": []
          },
          "execution_count": 11
        },
        {
          "output_type": "display_data",
          "data": {
            "image/png": "[encoded data removed]",
            "text/plain": [
              "<Figure size 504x504 with 1 Axes>"
            ]
          },
          "metadata": {
            "tags": [],
            "needs_background": "dark"
          }
        }
      ]
    },
    {
      "cell_type": "code",
      "metadata": {
        "colab": {
          "base_uri": "https://localhost:8080/",
          "height": 462
        },
        "id": "2tuyjDMG4y_9",
        "outputId": "e812c207-1c5f-4c43-9605-365725b94e7f"
      },
      "source": [
        "plt.figure(figsize = (7,7))\r\n",
        "plt.plot(history['loss'], c = 'b', label = 'train_loss')\r\n",
        "plt.plot(history['val_loss'], c = 'orange' , label = 'val_loss')\r\n",
        "plt.xticks(c = 'c')\r\n",
        "plt.yticks(c = 'c')\r\n",
        "plt.xlim([0, 10])\r\n",
        "plt.title('Baseline - C2D64 - Loss', c = 'orange')\r\n",
        "plt.legend()"
      ],
      "execution_count": null,
      "outputs": [
        {
          "output_type": "execute_result",
          "data": {
            "text/plain": [
              "<matplotlib.legend.Legend at 0x7f2902dc1e80>"
            ]
          },
          "metadata": {
            "tags": []
          },
          "execution_count": 12
        },
        {
          "output_type": "display_data",
          "data": {
            "image/png": "[encoded data removed]",
            "text/plain": [
              "<Figure size 504x504 with 1 Axes>"
            ]
          },
          "metadata": {
            "tags": [],
            "needs_background": "dark"
          }
        }
      ]
    },
    {
      "cell_type": "code",
      "metadata": {
        "colab": {
          "base_uri": "https://localhost:8080/"
        },
        "id": "hjGSu8Xj4979",
        "outputId": "d11f965f-16f9-4dd3-94ae-8a1be4b9d915"
      },
      "source": [
        "print(model_temp.evaluate(x_train, y_train))"
      ],
      "execution_count": null,
      "outputs": [
        {
          "output_type": "stream",
          "text": [
            "1407/1407 [==============================] - 56s 40ms/step - loss: 0.5464 - accuracy: 0.8193\n",
            "[0.5463967323303223, 0.8192889094352722]\n"
          ],
          "name": "stdout"
        }
      ]
    },
    {
      "cell_type": "code",
      "metadata": {
        "colab": {
          "base_uri": "https://localhost:8080/"
        },
        "id": "FtWzpjMT5Et-",
        "outputId": "e1d9b829-8a98-4a1c-d5a7-ffa95f627c54"
      },
      "source": [
        "# This validation improvement is due to data leakage!\r\n",
        "print(model_temp.evaluate(x_val, y_val))\r\n",
        "print(model_temp.evaluate(x_test, y_test))"
      ],
      "execution_count": null,
      "outputs": [
        {
          "output_type": "stream",
          "text": [
            "157/157 [==============================] - 6s 35ms/step - loss: 0.6302 - accuracy: 0.7848\n",
            "[0.6302261352539062, 0.7847999930381775]\n",
            "313/313 [==============================] - 11s 37ms/step - loss: 0.9688 - accuracy: 0.6774\n",
            "[0.9687697291374207, 0.6773999929428101]\n"
          ],
          "name": "stdout"
        }
      ]
    },
    {
      "cell_type": "code",
      "metadata": {
        "id": "bQjBaWwE5rTF"
      },
      "source": [
        ""
      ],
      "execution_count": null,
      "outputs": []
    }
  ]
}